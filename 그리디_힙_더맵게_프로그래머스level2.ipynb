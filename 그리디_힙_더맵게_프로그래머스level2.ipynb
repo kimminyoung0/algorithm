{
 "cells": [
  {
   "cell_type": "code",
   "execution_count": 4,
   "id": "4be5cb50",
   "metadata": {},
   "outputs": [
    {
     "name": "stdout",
     "output_type": "stream",
     "text": [
      "큐 상태: [1, 2, 8, 5]\n",
      "가장 작은 값: 1\n",
      "가장 작은 값 확인: 2\n",
      "큐 상태: [2, 5, 8]\n",
      "큐 상태: [5, 8]\n"
     ]
    }
   ],
   "source": [
    "# 최소힙\n",
    "import heapq\n",
    "\n",
    "# 우선순위 큐 생성\n",
    "heap = []\n",
    "\n",
    "# 요소 삽입 (우선순위 큐에 값 삽입)\n",
    "heapq.heappush(heap, 5)  # 5 삽입\n",
    "heapq.heappush(heap, 2)  # 2 삽입\n",
    "heapq.heappush(heap, 8)  # 8 삽입\n",
    "heapq.heappush(heap, 1)  # 1 삽입\n",
    "\n",
    "print(\"큐 상태:\", heap)\n",
    "\n",
    "# 우선순위가 가장 작은 값 추출 (최소 힙에서는 가장 작은 값이 우선순위가 높음)\n",
    "min_value = heapq.heappop(heap)\n",
    "print(\"가장 작은 값:\", min_value)\n",
    "\n",
    "# 우선순위가 가장 작은 값 확인 (삭제 x)\n",
    "print(\"가장 작은 값 확인:\", heap[0])\n",
    "print(\"큐 상태:\", heap)\n",
    "\n",
    "heapq.heappop(heap)\n",
    "print(\"큐 상태:\", heap)"
   ]
  },
  {
   "cell_type": "code",
   "execution_count": 2,
   "id": "5ec04e6b",
   "metadata": {},
   "outputs": [
    {
     "data": {
      "text/plain": [
       "list"
      ]
     },
     "execution_count": 2,
     "metadata": {},
     "output_type": "execute_result"
    }
   ],
   "source": [
    "type(heap)"
   ]
  },
  {
   "cell_type": "code",
   "execution_count": 5,
   "id": "f24ca812",
   "metadata": {},
   "outputs": [
    {
     "name": "stdout",
     "output_type": "stream",
     "text": [
      "큐 상태: [-8, -2, -5, -1]\n"
     ]
    }
   ],
   "source": [
    "#최대힙 구현\n",
    "import heapq\n",
    "\n",
    "# 최대 힙을 위한 우선순위 큐\n",
    "heap = []\n",
    "\n",
    "# 값 삽입 (음수)\n",
    "heapq.heappush(heap, -5)  # -5 삽입\n",
    "heapq.heappush(heap, -2)  # -2 삽입\n",
    "heapq.heappush(heap, -8)  # -8 삽입\n",
    "heapq.heappush(heap, -1)  # -1 삽입\n",
    "\n",
    "print(\"큐 상태:\", heap)"
   ]
  },
  {
   "cell_type": "code",
   "execution_count": 6,
   "id": "971d2971",
   "metadata": {},
   "outputs": [
    {
     "name": "stdout",
     "output_type": "stream",
     "text": [
      "가장 큰 값: 8\n"
     ]
    }
   ],
   "source": [
    "# 가장 큰 값 추출\n",
    "max_value = -heapq.heappop(heap)\n",
    "print(\"가장 큰 값:\", max_value)"
   ]
  },
  {
   "cell_type": "markdown",
   "id": "0cb50293",
   "metadata": {},
   "source": [
    "## 문제 설명\n",
    "\n",
    "모든 음식의 스코빌 지수를 K 이상으로 만들기 위해 Leo는 스코빌 지수가 가장 낮은 두 개의 음식을 아래와 같이 특별한 방법으로 섞어 새로운 음식을 만듭니다.\n",
    "섞은 음식의 스코빌 지수 = 가장 맵지 않은 음식의 스코빌 지수 + (두 번째로 맵지 않은 음식의 스코빌 지수 * 2)\n",
    "Leo는 모든 음식의 스코빌 지수가 K 이상이 될 때까지 반복하여 섞습니다.\n",
    "Leo가 가진 음식의 스코빌 지수를 담은 배열 scoville과 원하는 스코빌 지수 K가 주어질 때, 모든 음식의 스코빌 지수를 K 이상으로 만들기 위해 섞어야 하는 최소 횟수를 return 하도록 solution 함수를 작성해주세요.\n"
   ]
  },
  {
   "cell_type": "code",
   "execution_count": 7,
   "id": "7815ecec",
   "metadata": {},
   "outputs": [],
   "source": [
    "import heapq\n",
    "\n",
    "def solution(scoville, K): #mixk = lowk + 2(low2k)\n",
    "    answer = 0\n",
    "    heapq.heapify(scoville)\n",
    "\n",
    "    while scoville[0] < K:\n",
    "        if len(scoville) ==1 and mixk <K:\n",
    "            return -1\n",
    "        min_k1 = heapq.heappop(scoville)\n",
    "        min_k2 = heapq.heappop(scoville)\n",
    "\n",
    "        mixk = min_k1 + 2 * min_k2 #5, 13, 35, 80, 172\n",
    "        heapq.heappush(scoville, mixk)\n",
    "        \n",
    "        answer += 1\n",
    "        \n",
    "        if scoville[0] >= K:\n",
    "            return answer"
   ]
  },
  {
   "cell_type": "code",
   "execution_count": 8,
   "id": "2eefe061",
   "metadata": {},
   "outputs": [],
   "source": [
    "scoville = [1, 2, 3, 9, 10, 12]\n",
    "K=7"
   ]
  },
  {
   "cell_type": "code",
   "execution_count": 9,
   "id": "ecd6f159",
   "metadata": {},
   "outputs": [
    {
     "data": {
      "text/plain": [
       "2"
      ]
     },
     "execution_count": 9,
     "metadata": {},
     "output_type": "execute_result"
    }
   ],
   "source": [
    "solution(scoville, K)"
   ]
  },
  {
   "cell_type": "code",
   "execution_count": null,
   "id": "96328001",
   "metadata": {},
   "outputs": [],
   "source": []
  }
 ],
 "metadata": {
  "kernelspec": {
   "display_name": "algo",
   "language": "python",
   "name": "algo"
  },
  "language_info": {
   "codemirror_mode": {
    "name": "ipython",
    "version": 3
   },
   "file_extension": ".py",
   "mimetype": "text/x-python",
   "name": "python",
   "nbconvert_exporter": "python",
   "pygments_lexer": "ipython3",
   "version": "3.9.12"
  }
 },
 "nbformat": 4,
 "nbformat_minor": 5
}
