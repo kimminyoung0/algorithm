{
 "cells": [
  {
   "cell_type": "markdown",
   "id": "f39bdb9e",
   "metadata": {},
   "source": [
    "## 카드 역배치"
   ]
  },
  {
   "cell_type": "markdown",
   "id": "8b04d757",
   "metadata": {},
   "source": [
    "1~20 숫자가 쓰인 20장의 카드가  아래 그림과 같이 오름차 순으로 한 줄로 놓여 있다. 각 카드의 위치는 카드 위에 적힌 숫자와 같이 1부터 20까지있고, 주어지는 10개의 구간들을 다시 역으로 뒤집는 작업을 한 뒤, 마지막 카드들의 배치를 구하는 프로그램을 작성하시오."
   ]
  },
  {
   "cell_type": "markdown",
   "id": "d7b3297c",
   "metadata": {},
   "source": [
    "5 10\n",
    "\n",
    "9 13\n",
    "\n",
    "1 2\n",
    "\n",
    "3 4\n",
    "\n",
    "5 6\n",
    "\n",
    "1 2\n",
    "\n",
    "3 4\n",
    "\n",
    "5 6\n",
    "\n",
    "1 20\n",
    "\n",
    "1 20"
   ]
  },
  {
   "cell_type": "code",
   "execution_count": 14,
   "id": "10fa9a2d",
   "metadata": {},
   "outputs": [
    {
     "name": "stdout",
     "output_type": "stream",
     "text": [
      "<class 'list'>\n",
      "5 10\n",
      "9 13\n",
      "1 2\n",
      "3 4\n",
      "5 6\n",
      "1 2\n",
      "3 4\n",
      "5 6\n",
      "1 20\n",
      "1 20\n"
     ]
    }
   ],
   "source": [
    "num_lst = [0]*10\n",
    "print(type(num_lst))\n",
    "for i in range(10):\n",
    "    a, b = map(int, input().split())\n",
    "    num_lst[i] = [a, b]\n",
    "    \n"
   ]
  },
  {
   "cell_type": "code",
   "execution_count": 39,
   "id": "2bd76d18",
   "metadata": {},
   "outputs": [
    {
     "name": "stdout",
     "output_type": "stream",
     "text": [
      "[1, 2, 3, 4, 10, 9, 8, 7, 13, 12, 11, 5, 6, 14, 15, 16, 17, 18, 19, 20]\n"
     ]
    }
   ],
   "source": [
    "card = [0]*20\n",
    "for i in range(20):\n",
    "    card[i] = i+1\n",
    "\n",
    "for a, b in num_lst:\n",
    "    card[a-1:b] = reversed(card[a-1:b])\n",
    "\n",
    "print(card)"
   ]
  },
  {
   "cell_type": "code",
   "execution_count": null,
   "id": "9323fda4",
   "metadata": {},
   "outputs": [],
   "source": []
  }
 ],
 "metadata": {
  "kernelspec": {
   "display_name": "algo",
   "language": "python",
   "name": "algo"
  },
  "language_info": {
   "codemirror_mode": {
    "name": "ipython",
    "version": 3
   },
   "file_extension": ".py",
   "mimetype": "text/x-python",
   "name": "python",
   "nbconvert_exporter": "python",
   "pygments_lexer": "ipython3",
   "version": "3.9.12"
  }
 },
 "nbformat": 4,
 "nbformat_minor": 5
}
