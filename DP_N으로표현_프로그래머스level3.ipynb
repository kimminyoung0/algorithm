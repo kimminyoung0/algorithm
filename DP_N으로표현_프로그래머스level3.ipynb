{
 "cells": [
  {
   "cell_type": "markdown",
   "id": "9d9dcc55",
   "metadata": {},
   "source": [
    "## 문제 설명\n",
    "\n",
    "숫자 N과 number가 주어질 때, N과 사칙연산만 사용해서 표현 할 수 있는 방법 중 N 사용횟수의 최솟값을 return 하도록 solution 함수를 작성하세요.\n",
    "- ex) 12 = 5 + 5 + (5 / 5) + (5 / 5) -> 6번\n",
    "- ex) 12 = 55 / 5 + 5 / 5 -> 5번\n",
    "- ex) 12 = (55 + 5) / 5 -> 12(number)를 5(N)로 4번에 표현 가능!\n",
    "\n",
    "핵심 전략 : for문을 돌며 i개 만큼 N을 사용하고 사칙연산을 수행해서 여러 조합을 만들고, i+1에는 i번째에 사용한 조합들을 활용해 새로운 조합을 만든다."
   ]
  },
  {
   "cell_type": "code",
   "execution_count": 1,
   "id": "b17d8e9f",
   "metadata": {},
   "outputs": [],
   "source": [
    "def solution(N, number): # +, -, //, *  #N:5, number:12\n",
    "    if N == number:\n",
    "        return 1\n",
    "    \n",
    "    dp = [set() for _ in range(9)] #0~8\n",
    "\n",
    "    for i in range(1, 9): #1~8 i=1에서는 5를 1개 쓰고 사칙연산을 i-1(0)개 쓴다. i=2에서는 5를 2개 쓰고 사칙연산을 i-1(1)개 쓴다.\n",
    "        if i==8:\n",
    "            return -1\n",
    "        dp[i].add(int(str(N)*i))\n",
    "        #dp[2] = dp[1] + dp[1]  dp[3] = dp[2] + dp[1]\n",
    "        #dp[4] = dp[3] + dp[1] + dp[2]\n",
    "        for j in range(1, i):\n",
    "            for num1 in dp[j]: #dp[1] dp[2], dp[3]\n",
    "                for num2 in dp[i-j]: # dp[3], dp[2], dp[1]\n",
    "                    dp[i].add(num1 + num2)\n",
    "                    dp[i].add(num1 - num2)\n",
    "                    dp[i].add(num1 * num2)\n",
    "                    if num2 != 0:\n",
    "                        dp[i].add(num1 // num2)\n",
    "        if number in dp[i]:\n",
    "            return i"
   ]
  },
  {
   "cell_type": "code",
   "execution_count": 2,
   "id": "8331bff6",
   "metadata": {},
   "outputs": [
    {
     "data": {
      "text/plain": [
       "4"
      ]
     },
     "execution_count": 2,
     "metadata": {},
     "output_type": "execute_result"
    }
   ],
   "source": [
    "solution(5, 12)"
   ]
  },
  {
   "cell_type": "code",
   "execution_count": null,
   "id": "9e4a2c13",
   "metadata": {},
   "outputs": [],
   "source": []
  }
 ],
 "metadata": {
  "kernelspec": {
   "display_name": "algo",
   "language": "python",
   "name": "algo"
  },
  "language_info": {
   "codemirror_mode": {
    "name": "ipython",
    "version": 3
   },
   "file_extension": ".py",
   "mimetype": "text/x-python",
   "name": "python",
   "nbconvert_exporter": "python",
   "pygments_lexer": "ipython3",
   "version": "3.9.12"
  }
 },
 "nbformat": 4,
 "nbformat_minor": 5
}
