{
 "cells": [
  {
   "cell_type": "markdown",
   "id": "f7a3dadf",
   "metadata": {},
   "source": [
    "## 봉우리"
   ]
  },
  {
   "cell_type": "markdown",
   "id": "56108c98",
   "metadata": {},
   "source": [
    "nxn 격자판이 주어지는데, 그 지역의 높이가 쓰여있다. 자신의 상하좌우보다 큰 숫자가 있다면 그곳은 봉우리이다. \n",
    "\n",
    "봉우리 지역이 몇 개 있는지 알아내는 프로그램을 작성하시오.\n",
    "\n",
    "격자의 가장자리는 0으로 초기화되어 있다."
   ]
  },
  {
   "cell_type": "code",
   "execution_count": null,
   "id": "60faa43c",
   "metadata": {},
   "outputs": [],
   "source": [
    "5 3 7 2 3\n",
    "3 7 1 6 1\n",
    "7 2 5 3 4\n",
    "4 3 6 4 1\n",
    "8 7 3 5 2"
   ]
  },
  {
   "cell_type": "code",
   "execution_count": 11,
   "id": "63aa5500",
   "metadata": {},
   "outputs": [
    {
     "name": "stdout",
     "output_type": "stream",
     "text": [
      "5\n",
      "5 3 7 2 3\n",
      "3 7 1 6 1\n",
      "7 2 5 3 4\n",
      "4 3 6 4 1\n",
      "8 7 3 5 2\n"
     ]
    }
   ],
   "source": [
    "n = int(input())\n",
    "peak = [list(map(int, input().split())) for _ in range(n)]"
   ]
  },
  {
   "cell_type": "code",
   "execution_count": 12,
   "id": "1965ec5c",
   "metadata": {},
   "outputs": [
    {
     "data": {
      "text/plain": [
       "[[0, 0, 0, 0, 0, 0, 0],\n",
       " [0, 5, 3, 7, 2, 3, 0],\n",
       " [0, 3, 7, 1, 6, 1, 0],\n",
       " [0, 7, 2, 5, 3, 4, 0],\n",
       " [0, 4, 3, 6, 4, 1, 0],\n",
       " [0, 8, 7, 3, 5, 2, 0],\n",
       " [0, 0, 0, 0, 0, 0, 0]]"
      ]
     },
     "execution_count": 12,
     "metadata": {},
     "output_type": "execute_result"
    }
   ],
   "source": [
    "peak.insert(0, [0]*(n+2))\n",
    "peak.insert(n+1, [0]*(n+2))\n",
    "for i in range(n+2):\n",
    "    if i!=0 and i!=n+1: #i가 0이 아니고, i가 6이 아닐 경우,\n",
    "        peak[i].append(0)\n",
    "        peak[i].insert(0, 0)"
   ]
  },
  {
   "cell_type": "code",
   "execution_count": 14,
   "id": "0f29fa46",
   "metadata": {},
   "outputs": [
    {
     "name": "stdout",
     "output_type": "stream",
     "text": [
      "10\n"
     ]
    }
   ],
   "source": [
    "p = 0\n",
    "cnt = 0\n",
    "for i in range(1, n+1): #1행부터 5행까지\n",
    "    for j in range(1, n+1):\n",
    "        p = peak[i][j]\n",
    "        if p > peak[i][j-1] and p > peak[i][j+1] and p > peak[i-1][j] and p > peak[i+1][j]:\n",
    "            cnt += 1\n",
    "print(cnt) "
   ]
  }
 ],
 "metadata": {
  "kernelspec": {
   "display_name": "algo",
   "language": "python",
   "name": "algo"
  },
  "language_info": {
   "codemirror_mode": {
    "name": "ipython",
    "version": 3
   },
   "file_extension": ".py",
   "mimetype": "text/x-python",
   "name": "python",
   "nbconvert_exporter": "python",
   "pygments_lexer": "ipython3",
   "version": "3.9.12"
  }
 },
 "nbformat": 4,
 "nbformat_minor": 5
}
