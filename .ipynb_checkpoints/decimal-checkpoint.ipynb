{
 "cells": [
  {
   "cell_type": "markdown",
   "id": "4a50a0e7",
   "metadata": {},
   "source": [
    "소수(에라토스테네스 체) 1보다 큰 자연수 중 1과 자기 자신마을 약수로 가지는 수."
   ]
  },
  {
   "cell_type": "markdown",
   "id": "bae2869c",
   "metadata": {},
   "source": [
    "자연수 n이 입력되면 1부터 n까지의 소수의 개수를 출력하는 solution 만들기"
   ]
  },
  {
   "cell_type": "code",
   "execution_count": 50,
   "id": "b0b8a20b",
   "metadata": {},
   "outputs": [],
   "source": [
    "def solution(n):\n",
    "    \n",
    "    decm = []\n",
    "    for num in range(2, n+1):\n",
    "\n",
    "        cnt = 0\n",
    "        for div in range(2, num+1):\n",
    "\n",
    "            if num % div == 0:\n",
    "                cnt += 1\n",
    "                \n",
    "            if cnt > 1:\n",
    "                break\n",
    "                \n",
    "            if div == num:\n",
    "                if cnt == 1:\n",
    "                    decm.append(num)\n",
    "                            \n",
    "    return len(decm)"
   ]
  },
  {
   "cell_type": "code",
   "execution_count": 51,
   "id": "7c030896",
   "metadata": {},
   "outputs": [
    {
     "data": {
      "text/plain": [
       "8"
      ]
     },
     "execution_count": 51,
     "metadata": {},
     "output_type": "execute_result"
    }
   ],
   "source": [
    "solution(20)"
   ]
  },
  {
   "cell_type": "code",
   "execution_count": 54,
   "id": "f0235cb6",
   "metadata": {},
   "outputs": [],
   "source": [
    "import math\n",
    "def solution(n): #13\n",
    "    decm = []\n",
    "    for num in range(2, n+1):\n",
    "        cnt = 0\n",
    "        for div in range(2, num+1): #num의 제곱근까지의 모든 수로 나누어 떨어지는지 확인하는 것이 일반적?\n",
    "\n",
    "            if num % div == 0:\n",
    "                cnt += 1\n",
    "                \n",
    "            if cnt > 1:\n",
    "                break\n",
    "                \n",
    "            if div == num and cnt == 1: #앞 조건과 뒷 조건의 순서를 바꾸었다. cnt==1이 잘못 작동할 경우에 대비\n",
    "                decm.append(num)\n",
    "                           \n",
    "    return len(decm)"
   ]
  },
  {
   "cell_type": "code",
   "execution_count": 55,
   "id": "0eb15f5d",
   "metadata": {},
   "outputs": [
    {
     "data": {
      "text/plain": [
       "8"
      ]
     },
     "execution_count": 55,
     "metadata": {},
     "output_type": "execute_result"
    }
   ],
   "source": [
    "solution(20)"
   ]
  },
  {
   "cell_type": "code",
   "execution_count": null,
   "id": "1386143f",
   "metadata": {},
   "outputs": [],
   "source": []
  },
  {
   "cell_type": "code",
   "execution_count": null,
   "id": "51e9ae8f",
   "metadata": {},
   "outputs": [],
   "source": []
  },
  {
   "cell_type": "code",
   "execution_count": null,
   "id": "b3ddaebd",
   "metadata": {},
   "outputs": [],
   "source": []
  },
  {
   "cell_type": "code",
   "execution_count": null,
   "id": "63d5f24b",
   "metadata": {},
   "outputs": [],
   "source": []
  }
 ],
 "metadata": {
  "kernelspec": {
   "display_name": "algo",
   "language": "python",
   "name": "algo"
  },
  "language_info": {
   "codemirror_mode": {
    "name": "ipython",
    "version": 3
   },
   "file_extension": ".py",
   "mimetype": "text/x-python",
   "name": "python",
   "nbconvert_exporter": "python",
   "pygments_lexer": "ipython3",
   "version": "3.9.12"
  }
 },
 "nbformat": 4,
 "nbformat_minor": 5
}
