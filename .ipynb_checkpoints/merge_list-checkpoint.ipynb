{
 "cells": [
  {
   "cell_type": "markdown",
   "id": "ba2b7f5a",
   "metadata": {},
   "source": [
    "## 두 리스트 합치기"
   ]
  },
  {
   "cell_type": "markdown",
   "id": "62b96368",
   "metadata": {},
   "source": [
    "오름차순으로 정렬된 두 리스트가 주어지면 두 리스트를 오름차순으로 합쳐 출력하는 프로그램을 작성하시오."
   ]
  },
  {
   "cell_type": "code",
   "execution_count": 2,
   "id": "9deedf9b",
   "metadata": {},
   "outputs": [
    {
     "name": "stdout",
     "output_type": "stream",
     "text": [
      "3\n"
     ]
    }
   ],
   "source": [
    "n = int(input())"
   ]
  },
  {
   "cell_type": "code",
   "execution_count": 3,
   "id": "3180b1f0",
   "metadata": {},
   "outputs": [
    {
     "name": "stdout",
     "output_type": "stream",
     "text": [
      "1 3 5\n"
     ]
    }
   ],
   "source": [
    "n_lst = list(map(int,input().split())) "
   ]
  },
  {
   "cell_type": "code",
   "execution_count": 4,
   "id": "5635edd1",
   "metadata": {},
   "outputs": [
    {
     "name": "stdout",
     "output_type": "stream",
     "text": [
      "5\n"
     ]
    }
   ],
   "source": [
    "m = int(input())"
   ]
  },
  {
   "cell_type": "code",
   "execution_count": 5,
   "id": "b60f53af",
   "metadata": {},
   "outputs": [
    {
     "name": "stdout",
     "output_type": "stream",
     "text": [
      "2 3 6 7 9\n"
     ]
    }
   ],
   "source": [
    "m_lst = list(map(int,input().split())) "
   ]
  },
  {
   "cell_type": "code",
   "execution_count": 10,
   "id": "5c1ba63d",
   "metadata": {},
   "outputs": [
    {
     "name": "stdout",
     "output_type": "stream",
     "text": [
      "[1, 2, 3, 3, 5, 6, 7, 9]\n"
     ]
    }
   ],
   "source": [
    "if n < m:\n",
    "    for i in n_lst:\n",
    "        m_lst.append(i)\n",
    "    print(sorted(m_lst))\n",
    "    \n",
    "else:\n",
    "    for i in m_lst:\n",
    "        n_lst.append(i)\n",
    "    print(sorted(n_lst))"
   ]
  },
  {
   "cell_type": "code",
   "execution_count": null,
   "id": "a66e4e11",
   "metadata": {},
   "outputs": [],
   "source": []
  },
  {
   "cell_type": "code",
   "execution_count": null,
   "id": "63307601",
   "metadata": {},
   "outputs": [],
   "source": []
  }
 ],
 "metadata": {
  "kernelspec": {
   "display_name": "algo",
   "language": "python",
   "name": "algo"
  },
  "language_info": {
   "codemirror_mode": {
    "name": "ipython",
    "version": 3
   },
   "file_extension": ".py",
   "mimetype": "text/x-python",
   "name": "python",
   "nbconvert_exporter": "python",
   "pygments_lexer": "ipython3",
   "version": "3.9.12"
  }
 },
 "nbformat": 4,
 "nbformat_minor": 5
}
