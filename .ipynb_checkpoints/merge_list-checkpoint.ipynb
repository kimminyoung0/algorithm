{
 "cells": [
  {
   "cell_type": "markdown",
   "id": "c6ef6b60",
   "metadata": {},
   "source": [
    "## 두 리스트 합치기"
   ]
  },
  {
   "cell_type": "markdown",
   "id": "1f35f3fc",
   "metadata": {},
   "source": [
    "오름차순으로 정렬된 두 리스트가 주어지면 두 리스트를 오름차순으로 합쳐 출력하는 프로그램을 작성하시오."
   ]
  },
  {
   "cell_type": "code",
   "execution_count": 2,
   "id": "c5a65173",
   "metadata": {},
   "outputs": [
    {
     "name": "stdout",
     "output_type": "stream",
     "text": [
      "3\n"
     ]
    }
   ],
   "source": [
    "n = int(input())"
   ]
  },
  {
   "cell_type": "code",
   "execution_count": 3,
   "id": "d39cbc72",
   "metadata": {},
   "outputs": [
    {
     "name": "stdout",
     "output_type": "stream",
     "text": [
      "1 3 5\n"
     ]
    }
   ],
   "source": [
    "n_lst = list(map(int,input().split())) "
   ]
  },
  {
   "cell_type": "code",
   "execution_count": 4,
   "id": "a992fd49",
   "metadata": {},
   "outputs": [
    {
     "name": "stdout",
     "output_type": "stream",
     "text": [
      "5\n"
     ]
    }
   ],
   "source": [
    "m = int(input())"
   ]
  },
  {
   "cell_type": "code",
   "execution_count": 5,
   "id": "9db0c79a",
   "metadata": {},
   "outputs": [
    {
     "name": "stdout",
     "output_type": "stream",
     "text": [
      "2 3 6 7 9\n"
     ]
    }
   ],
   "source": [
    "m_lst = list(map(int,input().split())) "
   ]
  },
  {
   "cell_type": "code",
   "execution_count": 10,
   "id": "91cc282a",
   "metadata": {},
   "outputs": [
    {
     "name": "stdout",
     "output_type": "stream",
     "text": [
      "[1, 2, 3, 3, 5, 6, 7, 9]\n"
     ]
    }
   ],
   "source": [
    "if n < m:\n",
    "    for i in n_lst:\n",
    "        m_lst.append(i)\n",
    "    print(sorted(m_lst))\n",
    "    \n",
    "else:\n",
    "    for i in m_lst:\n",
    "        n_lst.append(i)\n",
    "    print(sorted(n_lst))"
   ]
  },
  {
   "cell_type": "markdown",
   "id": "ab53cc1c",
   "metadata": {},
   "source": [
    "다른 방식"
   ]
  },
  {
   "cell_type": "code",
   "execution_count": 16,
   "id": "cc8cbc70",
   "metadata": {},
   "outputs": [
    {
     "name": "stdout",
     "output_type": "stream",
     "text": [
      "break\n",
      "[1, 2, 3, 3, 5]\n"
     ]
    }
   ],
   "source": [
    "p1 = 0\n",
    "p2 = 0\n",
    "ans_lst = []\n",
    "\n",
    "for i in range(max(n,m)*2):\n",
    "    if p1 == n:\n",
    "        print(\"break\")\n",
    "        for j in m_lst[p2:]:\n",
    "            ans_lst.append(j)\n",
    "        break\n",
    "    elif p2 == m:\n",
    "        print(\"break2\")\n",
    "        for j in n_lst[p1:]:\n",
    "            ans_lst.append(j)\n",
    "        break\n",
    "    if n_lst[p1] <= m_lst[p2]:\n",
    "        ans_lst.append(n_lst[p1])\n",
    "        p1 += 1\n",
    "    else:\n",
    "        ans_lst.append(m_lst[p2])\n",
    "        p2 += 1\n",
    "\n",
    "print(ans_lst)"
   ]
  },
  {
   "cell_type": "code",
   "execution_count": null,
   "id": "b7535d46",
   "metadata": {},
   "outputs": [],
   "source": []
  }
 ],
 "metadata": {
  "kernelspec": {
   "display_name": "algo",
   "language": "python",
   "name": "algo"
  },
  "language_info": {
   "codemirror_mode": {
    "name": "ipython",
    "version": 3
   },
   "file_extension": ".py",
   "mimetype": "text/x-python",
   "name": "python",
   "nbconvert_exporter": "python",
   "pygments_lexer": "ipython3",
   "version": "3.9.12"
  }
 },
 "nbformat": 4,
 "nbformat_minor": 5
}
