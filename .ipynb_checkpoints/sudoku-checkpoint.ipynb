{
 "cells": [
  {
   "cell_type": "markdown",
   "id": "4583d27e",
   "metadata": {},
   "source": [
    "## 스도쿠 검사"
   ]
  },
  {
   "cell_type": "markdown",
   "id": "2b73edfa",
   "metadata": {},
   "source": [
    "9x9 격자판을 받고, 스도쿠가 잘 풀려있으면 \"YES\", 정답이 아니라면 \"NO\" 로 출력하시오."
   ]
  },
  {
   "cell_type": "code",
   "execution_count": null,
   "id": "c06af7b7",
   "metadata": {},
   "outputs": [],
   "source": [
    "1 4 3 6 2 8 5 7 9\n",
    "5 7 2 1 3 9 4 6 8\n",
    "9 8 6 7 5 4 2 3 1\n",
    "3 9 1 5 4 2 7 8 6\n",
    "4 6 8 9 1 7 3 5 2\n",
    "7 2 5 8 6 3 9 1 4\n",
    "2 3 7 4 8 1 6 9 5\n",
    "6 1 9 2 7 5 8 4 3\n",
    "8 5 4 3 9 6 1 2 7"
   ]
  },
  {
   "cell_type": "code",
   "execution_count": 1,
   "id": "ae451a79",
   "metadata": {},
   "outputs": [
    {
     "name": "stdout",
     "output_type": "stream",
     "text": [
      "1 4 3 6 2 8 5 7 9\n",
      "5 7 2 1 3 9 4 6 8\n",
      "9 8 6 7 5 4 2 3 1\n",
      "3 9 1 5 4 2 7 8 6\n",
      "4 6 8 9 1 7 3 5 2\n",
      "7 2 5 8 6 3 9 1 4\n",
      "2 3 7 4 8 1 6 9 5\n",
      "6 1 9 2 7 5 8 4 3\n",
      "8 5 4 3 9 6 1 2 7\n"
     ]
    }
   ],
   "source": [
    "sdk = [list(map(int, input().split())) for _ in range(9)]"
   ]
  },
  {
   "cell_type": "code",
   "execution_count": 20,
   "id": "45cfe693",
   "metadata": {},
   "outputs": [
    {
     "name": "stdout",
     "output_type": "stream",
     "text": [
      "0\n",
      "[9, 8, 6, 7, 5, 4, 2, 3, 1]\n"
     ]
    },
    {
     "ename": "TypeError",
     "evalue": "can only concatenate list (not \"int\") to list",
     "output_type": "error",
     "traceback": [
      "\u001b[0;31m---------------------------------------------------------------------------\u001b[0m",
      "\u001b[0;31mTypeError\u001b[0m                                 Traceback (most recent call last)",
      "Input \u001b[0;32mIn [20]\u001b[0m, in \u001b[0;36m<cell line: 16>\u001b[0;34m()\u001b[0m\n\u001b[1;32m     17\u001b[0m \u001b[38;5;28;01mfor\u001b[39;00m j \u001b[38;5;129;01min\u001b[39;00m \u001b[38;5;28mrange\u001b[39m(\u001b[38;5;241m3\u001b[39m):\n\u001b[1;32m     18\u001b[0m     \u001b[38;5;28mprint\u001b[39m(i)\n\u001b[0;32m---> 19\u001b[0m     lst \u001b[38;5;241m=\u001b[39m sdk[i\u001b[38;5;241m*\u001b[39m\u001b[38;5;241m3\u001b[39m : \u001b[43mi\u001b[49m\u001b[38;5;241;43m*\u001b[39;49m\u001b[38;5;241;43m3\u001b[39;49m\u001b[38;5;241;43m+\u001b[39;49m\u001b[38;5;241;43m3\u001b[39;49m]\n\u001b[1;32m     20\u001b[0m     \u001b[38;5;28;01mfor\u001b[39;00m i \u001b[38;5;129;01min\u001b[39;00m lst:\n\u001b[1;32m     21\u001b[0m         b_lst\u001b[38;5;241m.\u001b[39mappend(i)\n",
      "\u001b[0;31mTypeError\u001b[0m: can only concatenate list (not \"int\") to list"
     ]
    }
   ],
   "source": [
    "isright = True\n",
    "#한 행씩 검사\n",
    "for i in range(9):\n",
    "    if sorted(sdk[i]) != sorted(list(set(sdk[i]))):\n",
    "        isright = False\n",
    "#한 열씩 검사\n",
    "lst = []\n",
    "for i in range(9): #한 행씩 돌면서 \n",
    "    for j in range(9):\n",
    "        lst.append(sdk[j][i])\n",
    "        if sorted(lst) != sorted(list(set(lst))):\n",
    "            isright = False\n",
    "\n"
   ]
  },
  {
   "cell_type": "code",
   "execution_count": 22,
   "id": "ba1a6180",
   "metadata": {},
   "outputs": [
    {
     "data": {
      "text/plain": [
       "[[1, 4, 3, 6, 2, 8, 5, 7, 9],\n",
       " [5, 7, 2, 1, 3, 9, 4, 6, 8],\n",
       " [9, 8, 6, 7, 5, 4, 2, 3, 1]]"
      ]
     },
     "execution_count": 22,
     "metadata": {},
     "output_type": "execute_result"
    }
   ],
   "source": [
    "lst"
   ]
  },
  {
   "cell_type": "code",
   "execution_count": 38,
   "id": "6b266b40",
   "metadata": {},
   "outputs": [
    {
     "name": "stdout",
     "output_type": "stream",
     "text": [
      "0\n",
      "[1, 4, 3, 6, 2, 8, 5, 7, 9]\n",
      "[1, 4, 3]\n",
      "[5, 7, 2, 1, 3, 9, 4, 6, 8]\n",
      "[]\n",
      "[9, 8, 6, 7, 5, 4, 2, 3, 1]\n",
      "[]\n",
      "1\n",
      "[3, 9, 1, 5, 4, 2, 7, 8, 6]\n",
      "[5, 4, 2]\n",
      "[4, 6, 8, 9, 1, 7, 3, 5, 2]\n",
      "[3, 5, 2]\n",
      "[7, 2, 5, 8, 6, 3, 9, 1, 4]\n",
      "[9, 1, 4]\n",
      "2\n",
      "[2, 3, 7, 4, 8, 1, 6, 9, 5]\n",
      "[6, 9, 5]\n",
      "[6, 1, 9, 2, 7, 5, 8, 4, 3]\n",
      "[]\n",
      "[8, 5, 4, 3, 9, 6, 1, 2, 7]\n",
      "[]\n",
      "NO\n"
     ]
    }
   ],
   "source": [
    "#한 박스씩 검사 012 345 678 i*3 i*3+1 i*3+2 \n",
    "b_lst = []\n",
    "lst = []\n",
    "for i in range(3): #0, 1, 2\n",
    "    print(i)\n",
    "    for j in sdk[i*3 : i*3+3]: #[0:3] [3:6] [6:8]\n",
    "        print(j)\n",
    "        lst = j[i*3 : i*3+3]\n",
    "        print(lst)\n",
    "        for i in lst:\n",
    "            b_lst.append(i)\n",
    "    if sorted(b_lst) != sorted(list(set(b_lst))):\n",
    "        isright = False\n",
    "if isright == True:\n",
    "    print(\"YES\")\n",
    "else:\n",
    "    print(\"NO\")"
   ]
  },
  {
   "cell_type": "code",
   "execution_count": 75,
   "id": "36113e9f",
   "metadata": {},
   "outputs": [
    {
     "name": "stdout",
     "output_type": "stream",
     "text": [
      "1 [[1, 4, 3, 6, 2, 8, 5, 7, 9], [5, 7, 2, 1, 3, 9, 4, 6, 8], [9, 8, 6, 7, 5, 4, 2, 3, 1]]\n",
      "1.5 [1, 4, 3, 6, 2, 8, 5, 7, 9]\n",
      "2 [1, 4, 3]\n"
     ]
    },
    {
     "ename": "IndexError",
     "evalue": "list index out of range",
     "output_type": "error",
     "traceback": [
      "\u001b[0;31m---------------------------------------------------------------------------\u001b[0m",
      "\u001b[0;31mIndexError\u001b[0m                                Traceback (most recent call last)",
      "Input \u001b[0;32mIn [75]\u001b[0m, in \u001b[0;36m<cell line: 4>\u001b[0;34m()\u001b[0m\n\u001b[1;32m      6\u001b[0m \u001b[38;5;28mprint\u001b[39m(\u001b[38;5;124m\"\u001b[39m\u001b[38;5;124m1\u001b[39m\u001b[38;5;124m\"\u001b[39m,lst)\n\u001b[1;32m      7\u001b[0m \u001b[38;5;28;01mfor\u001b[39;00m j \u001b[38;5;129;01min\u001b[39;00m \u001b[38;5;28mrange\u001b[39m(\u001b[38;5;241m3\u001b[39m):\n\u001b[0;32m----> 8\u001b[0m     lst \u001b[38;5;241m=\u001b[39m \u001b[43mlst\u001b[49m\u001b[43m[\u001b[49m\u001b[43mj\u001b[49m\u001b[43m]\u001b[49m\n\u001b[1;32m      9\u001b[0m     \u001b[38;5;28mprint\u001b[39m(\u001b[38;5;124m\"\u001b[39m\u001b[38;5;124m1.5\u001b[39m\u001b[38;5;124m\"\u001b[39m, lst)\n\u001b[1;32m     10\u001b[0m     lst \u001b[38;5;241m=\u001b[39m lst[j\u001b[38;5;241m*\u001b[39m\u001b[38;5;241m3\u001b[39m:j\u001b[38;5;241m*\u001b[39m\u001b[38;5;241m3\u001b[39m\u001b[38;5;241m+\u001b[39m\u001b[38;5;241m3\u001b[39m]\n",
      "\u001b[0;31mIndexError\u001b[0m: list index out of range"
     ]
    }
   ],
   "source": [
    "#한 박스씩 검사 012 345 678 i*3 i*3+1 i*3+2 \n",
    "b_lst = []\n",
    "lst = []\n",
    "for i in range(3): #lst = 0행1행2행 3행4행5행 6행7행8행\n",
    "    lst = sdk[i*3:i*3+3]\n",
    "    print(\"1\",lst)\n",
    "    for j in range(3):\n",
    "        lst = lst[j]\n",
    "        print(\"1.5\", lst)\n",
    "        lst = lst[j*3:j*3+3]\n",
    "        print(\"2\",lst)\n",
    "        for k in lst:\n",
    "            b_lst.append(k)\n",
    "        lst = []\n",
    "  \n",
    "    if sorted(b_lst) != sorted(list(set(b_lst))):\n",
    "        isright = False\n",
    "    \n",
    "if isright == True:\n",
    "    print(\"YES\")\n",
    "else:\n",
    "    print(\"NO\")"
   ]
  },
  {
   "cell_type": "code",
   "execution_count": 58,
   "id": "f9fbf9fc",
   "metadata": {},
   "outputs": [
    {
     "data": {
      "text/plain": [
       "1"
      ]
     },
     "execution_count": 58,
     "metadata": {},
     "output_type": "execute_result"
    }
   ],
   "source": [
    "lstd = [[1,1,1], [2,2,2], [3,4,5]]\n",
    "lstd[:3][0][0]"
   ]
  },
  {
   "cell_type": "code",
   "execution_count": null,
   "id": "ecbd7c7b",
   "metadata": {},
   "outputs": [],
   "source": []
  },
  {
   "cell_type": "code",
   "execution_count": null,
   "id": "f04417ab",
   "metadata": {},
   "outputs": [],
   "source": []
  },
  {
   "cell_type": "code",
   "execution_count": null,
   "id": "b775ea86",
   "metadata": {},
   "outputs": [],
   "source": []
  }
 ],
 "metadata": {
  "kernelspec": {
   "display_name": "algo",
   "language": "python",
   "name": "algo"
  },
  "language_info": {
   "codemirror_mode": {
    "name": "ipython",
    "version": 3
   },
   "file_extension": ".py",
   "mimetype": "text/x-python",
   "name": "python",
   "nbconvert_exporter": "python",
   "pygments_lexer": "ipython3",
   "version": "3.9.12"
  }
 },
 "nbformat": 4,
 "nbformat_minor": 5
}
