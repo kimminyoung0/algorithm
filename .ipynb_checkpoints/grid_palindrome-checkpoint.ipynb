{
 "cells": [
  {
   "cell_type": "markdown",
   "id": "5771dd06",
   "metadata": {},
   "source": [
    "## 격자판 회문수"
   ]
  },
  {
   "cell_type": "markdown",
   "id": "bf3d7135",
   "metadata": {},
   "source": [
    "1부터 9까지의 자연수로 채워진 7x7 격자판이 주어지면, 가로방향 또는 세로방향으로 길이 5자리 회문수가 몇개 있는지 구하는 프로그램을 작성하시오."
   ]
  },
  {
   "cell_type": "code",
   "execution_count": null,
   "id": "2eeea6ea",
   "metadata": {},
   "outputs": [],
   "source": [
    "2 4 1 5 3 2 6\n",
    "3 5 1 8 7 1 7\n",
    "8 3 2 7 1 3 8\n",
    "6 1 2 3 2 1 1 \n",
    "1 3 1 3 5 3 2\n",
    "1 1 2 5 6 5 2\n",
    "1 2 2 2 2 1 5"
   ]
  },
  {
   "cell_type": "code",
   "execution_count": 2,
   "id": "ec698df5",
   "metadata": {},
   "outputs": [
    {
     "name": "stdout",
     "output_type": "stream",
     "text": [
      "2 4 1 5 3 2 6\n",
      "3 5 1 8 7 1 7\n",
      "8 3 2 7 1 3 8\n",
      "6 1 2 3 2 1 1 \n",
      "1 3 1 3 5 3 2\n",
      "1 1 2 5 6 5 2\n",
      "1 2 2 2 2 1 5\n"
     ]
    }
   ],
   "source": [
    "grid = [list(map(int, input().split())) for _ in range(7)]"
   ]
  },
  {
   "cell_type": "code",
   "execution_count": 29,
   "id": "304cb27d",
   "metadata": {},
   "outputs": [
    {
     "name": "stdout",
     "output_type": "stream",
     "text": [
      "3\n"
     ]
    }
   ],
   "source": [
    "cnt = 0\n",
    "tmp = []\n",
    "for i in range(3):\n",
    "    for j in range(7):\n",
    "        tmp = grid[j][i:i+5]\n",
    "        if tmp == tmp[::-1]: #회문\n",
    "            cnt += 1\n",
    "for h in range(7): #7개의 열\n",
    "    for i in range(3): #한 열당 3개의 tmp\n",
    "        for j in range(5): #5개 append\n",
    "            tmp.append(grid[i+j][h])\n",
    "            \n",
    "            if tmp == tmp[::-1] and len(tmp)==5:\n",
    "                cnt += 1\n",
    "        tmp = []\n",
    "        \n",
    "print(cnt)"
   ]
  }
 ],
 "metadata": {
  "kernelspec": {
   "display_name": "algo",
   "language": "python",
   "name": "algo"
  },
  "language_info": {
   "codemirror_mode": {
    "name": "ipython",
    "version": 3
   },
   "file_extension": ".py",
   "mimetype": "text/x-python",
   "name": "python",
   "nbconvert_exporter": "python",
   "pygments_lexer": "ipython3",
   "version": "3.9.12"
  }
 },
 "nbformat": 4,
 "nbformat_minor": 5
}
