{
 "cells": [
  {
   "cell_type": "markdown",
   "id": "9b16ef50",
   "metadata": {},
   "source": [
    "## 격자판 최대합"
   ]
  },
  {
   "cell_type": "markdown",
   "id": "2c4759d6",
   "metadata": {},
   "source": [
    "nxn의 격자판에 숫자가 적혀있다.\n",
    "\n",
    "각 행의 합, 각 열의 합, 두 대각선의 합 중 가장 큰 합을 출력한다."
   ]
  },
  {
   "cell_type": "code",
   "execution_count": 11,
   "id": "63ff3145",
   "metadata": {},
   "outputs": [],
   "source": [
    "import time"
   ]
  },
  {
   "cell_type": "markdown",
   "id": "8493025f",
   "metadata": {},
   "source": [
    "#입력\n",
    "5\n",
    "10 13 10 12 15\n",
    "12 39 30 23 11\n",
    "11 25 50 53 15\n",
    "19 27 29 37 27\n",
    "19 13 30 13 19"
   ]
  },
  {
   "cell_type": "code",
   "execution_count": 14,
   "id": "5fcf85a0",
   "metadata": {},
   "outputs": [
    {
     "name": "stdout",
     "output_type": "stream",
     "text": [
      "5\n",
      "10 13 10 12 15\n",
      "12 39 30 23 11\n",
      "11 25 50 53 15\n",
      "19 27 29 37 27\n",
      "19 13 30 13 19\n"
     ]
    }
   ],
   "source": [
    "n = int(input())\n",
    "grid = [list(map(int, input().split())) for _ in range(n)]"
   ]
  },
  {
   "cell_type": "code",
   "execution_count": 15,
   "id": "47820cfc",
   "metadata": {},
   "outputs": [
    {
     "name": "stdout",
     "output_type": "stream",
     "text": [
      "155\n",
      "0.0010199546813964844\n"
     ]
    }
   ],
   "source": [
    "#각 합들 구해서 answer 리스트에 append sort 0번째값출력\n",
    "\n",
    "s1 = time.time()\n",
    "answer = []\n",
    "sums = 0\n",
    "\n",
    "#1.각 행의 합\n",
    "for i in range(n):\n",
    "    for j in range(n):\n",
    "        sums += grid[i][j]\n",
    "    answer.append(sums)\n",
    "    sums = 0\n",
    "#2.각 열의 합 a[0][0] a[1][0]\n",
    "for i in range(n):\n",
    "    for j in range(n):\n",
    "        sums += grid[j][i]\n",
    "    answer.append(sums)\n",
    "    sums = 0\n",
    "\n",
    "#3.두 대각선의 합 00 11 22 33 44 / 04 13 22 31 40 \n",
    "for i in range(n):\n",
    "    sums += grid[i][i]\n",
    "answer.append(sums)\n",
    "sums = 0\n",
    "\n",
    "for i in range(n):\n",
    "    sums += grid[i][n-i-1]\n",
    "answer.append(sums)\n",
    "\n",
    "print(sorted(answer, reverse=True)[0])\n",
    "e1 = time.time()\n",
    "print(e1-s1)"
   ]
  },
  {
   "cell_type": "code",
   "execution_count": 16,
   "id": "d0ed784b",
   "metadata": {},
   "outputs": [
    {
     "name": "stdout",
     "output_type": "stream",
     "text": [
      "5\n",
      "10 13 10 12 15\n",
      "12 39 30 23 11\n",
      "11 25 50 53 15\n",
      "19 27 29 37 27\n",
      "19 13 30 13 19\n"
     ]
    }
   ],
   "source": [
    "n = int(input())\n",
    "grid = [list(map(int, input().split())) for _ in range(n)]"
   ]
  },
  {
   "cell_type": "code",
   "execution_count": 17,
   "id": "70170741",
   "metadata": {},
   "outputs": [
    {
     "name": "stdout",
     "output_type": "stream",
     "text": [
      "155\n",
      "0.000997304916381836\n"
     ]
    }
   ],
   "source": [
    "#각 합들 구해서 비교해가면서 큰 값을 찾아내기\n",
    "\n",
    "s2 = time.time()\n",
    "answer = -100000\n",
    "sums = 0\n",
    "\n",
    "#1.각 행의 합\n",
    "for i in range(n):\n",
    "    for j in range(n):\n",
    "        sums += grid[i][j]\n",
    "    if sums > answer:\n",
    "        answer = sums\n",
    "    sums = 0\n",
    "\n",
    "#2.각 열의 합\n",
    "for i in range(n):\n",
    "    for j in range(n):\n",
    "        sums += grid[j][i]\n",
    "    if sums > answer:\n",
    "        answer = sums\n",
    "    sums = 0\n",
    "\n",
    "#2.대각선의 합\n",
    "for i in range(n):\n",
    "    sums += grid[i][i]\n",
    "if sums > answer:\n",
    "    answer = sums\n",
    "sums = 0\n",
    "\n",
    "for i in range(n):\n",
    "    sums += grid[i][n-i-1]\n",
    "if sums > answer:\n",
    "    answer = sums\n",
    "\n",
    "print(answer)\n",
    "e2 = time.time()\n",
    "print(e2-s2)"
   ]
  },
  {
   "cell_type": "code",
   "execution_count": null,
   "id": "fcf2b4f6",
   "metadata": {},
   "outputs": [],
   "source": []
  }
 ],
 "metadata": {
  "kernelspec": {
   "display_name": "algo",
   "language": "python",
   "name": "algo"
  },
  "language_info": {
   "codemirror_mode": {
    "name": "ipython",
    "version": 3
   },
   "file_extension": ".py",
   "mimetype": "text/x-python",
   "name": "python",
   "nbconvert_exporter": "python",
   "pygments_lexer": "ipython3",
   "version": "3.9.12"
  }
 },
 "nbformat": 4,
 "nbformat_minor": 5
}
