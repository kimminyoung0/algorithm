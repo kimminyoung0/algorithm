{
 "cells": [
  {
   "cell_type": "markdown",
   "id": "018e245c",
   "metadata": {},
   "source": [
    "## 사과나무"
   ]
  },
  {
   "cell_type": "markdown",
   "id": "efb19ab2",
   "metadata": {},
   "source": [
    "nxn의 격자판이 있고, 격자 안에는 한 그루의 사과나무가 심어져 있다. \n",
    "\n",
    "n은 항상 홀수.\n",
    "\n",
    "다이아몬드 모양의 격자판만 수확하고, 나머지는 남겨둔다.\n",
    "\n",
    "현수가 수확하는 사과의 총 개수를 출력하시오."
   ]
  },
  {
   "cell_type": "code",
   "execution_count": 1,
   "id": "4fee1015",
   "metadata": {},
   "outputs": [
    {
     "name": "stdout",
     "output_type": "stream",
     "text": [
      "5\n",
      "10 13 10 12 15\n",
      "12 39 30 23 11\n",
      "11 25 50 53 15\n",
      "19 27 29 37 27\n",
      "19 13 30 13 19\n"
     ]
    }
   ],
   "source": [
    "n = int(input())\n",
    "apl = [list(map(int, input().split())) for _ in range(n)]"
   ]
  },
  {
   "cell_type": "code",
   "execution_count": null,
   "id": "37e89c2f",
   "metadata": {},
   "outputs": [],
   "source": [
    "for i in range(n):\n",
    "    for j in range(n):\n",
    "        apl[n//2]"
   ]
  },
  {
   "cell_type": "code",
   "execution_count": null,
   "id": "0f59573f",
   "metadata": {},
   "outputs": [],
   "source": []
  }
 ],
 "metadata": {
  "kernelspec": {
   "display_name": "algo",
   "language": "python",
   "name": "algo"
  },
  "language_info": {
   "codemirror_mode": {
    "name": "ipython",
    "version": 3
   },
   "file_extension": ".py",
   "mimetype": "text/x-python",
   "name": "python",
   "nbconvert_exporter": "python",
   "pygments_lexer": "ipython3",
   "version": "3.9.12"
  }
 },
 "nbformat": 4,
 "nbformat_minor": 5
}
