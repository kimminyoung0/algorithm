{
 "cells": [
  {
   "cell_type": "markdown",
   "id": "355d48d0",
   "metadata": {},
   "source": [
    "정다면체"
   ]
  },
  {
   "cell_type": "markdown",
   "id": "6a45ea6e",
   "metadata": {},
   "source": [
    "정n면체, 정m면체 주사위 두 개를 가지고, 던졌을 때 나오는 경우의 확률이 가장 높은 숫자를 출력하시오.\n",
    "\n",
    "정답이 여러 개일 경우 오름차순으로 출력."
   ]
  },
  {
   "cell_type": "markdown",
   "id": "3f4364ec",
   "metadata": {},
   "source": [
    "입력 예제 : 4,6\n",
    "    \n",
    "출력 예제 : 5,6,7"
   ]
  },
  {
   "cell_type": "code",
   "execution_count": 1,
   "id": "0cc3a032",
   "metadata": {},
   "outputs": [
    {
     "name": "stdout",
     "output_type": "stream",
     "text": [
      "4,6\n"
     ]
    },
    {
     "ename": "ValueError",
     "evalue": "invalid literal for int() with base 10: '4,6'",
     "output_type": "error",
     "traceback": [
      "\u001b[0;31m---------------------------------------------------------------------------\u001b[0m",
      "\u001b[0;31mValueError\u001b[0m                                Traceback (most recent call last)",
      "Input \u001b[0;32mIn [1]\u001b[0m, in \u001b[0;36m<cell line: 3>\u001b[0;34m()\u001b[0m\n\u001b[1;32m      1\u001b[0m \u001b[38;5;66;03m#입력 받는 코드\u001b[39;00m\n\u001b[1;32m      2\u001b[0m \u001b[38;5;66;03m#map 함수\u001b[39;00m\n\u001b[0;32m----> 3\u001b[0m n, m \u001b[38;5;241m=\u001b[39m \u001b[38;5;28mmap\u001b[39m(\u001b[38;5;28mint\u001b[39m, \u001b[38;5;28minput\u001b[39m()\u001b[38;5;241m.\u001b[39msplit())\n",
      "\u001b[0;31mValueError\u001b[0m: invalid literal for int() with base 10: '4,6'"
     ]
    }
   ],
   "source": [
    "#입력 받는 코드\n",
    "#map 함수\n",
    "n, m = map(int, input().split())"
   ]
  },
  {
   "cell_type": "code",
   "execution_count": 33,
   "id": "678360da",
   "metadata": {},
   "outputs": [],
   "source": [
    "def solution(n,m):\n",
    "    answer = []\n",
    "    nlst = [i for i in range(1,4+1)]\n",
    "\n",
    "    mlst = [i for i in range(1,6+1)]\n",
    "\n",
    "    numlst = [0 for i in range(4+6+1)]\n",
    "\n",
    "\n",
    "    for i in nlst:\n",
    "        for j in mlst:\n",
    "\n",
    "            numlst[i+j] += 1\n",
    "\n",
    "    max_num = max(numlst)\n",
    "    for k in range(numlst.count(max_num)):\n",
    "        answer.append(numlst.index(max_num))\n",
    "        numlst[numlst.index(max_num)] = 0\n",
    "\n",
    "    return answer\n",
    "            "
   ]
  },
  {
   "cell_type": "code",
   "execution_count": 34,
   "id": "9641eac4",
   "metadata": {},
   "outputs": [
    {
     "data": {
      "text/plain": [
       "[5, 6, 7]"
      ]
     },
     "execution_count": 34,
     "metadata": {},
     "output_type": "execute_result"
    }
   ],
   "source": [
    "solution(4,6)"
   ]
  },
  {
   "cell_type": "code",
   "execution_count": 32,
   "id": "91236ea2",
   "metadata": {
    "collapsed": true
   },
   "outputs": [
    {
     "name": "stdout",
     "output_type": "stream",
     "text": [
      "[1, 2, 3, 4]\n",
      "[1, 2, 3, 4, 5, 6]\n",
      "[0, 0, 0, 0, 0, 0, 0, 0, 0, 0, 0]\n",
      "0\n",
      "0\n",
      "0\n",
      "0\n",
      "0\n",
      "0\n",
      "1\n",
      "1\n",
      "1\n",
      "1\n",
      "1\n",
      "0\n",
      "2\n",
      "2\n",
      "2\n",
      "2\n",
      "1\n",
      "0\n",
      "3\n",
      "3\n",
      "3\n",
      "2\n",
      "1\n",
      "0\n",
      "[0, 0, 1, 2, 3, 4, 4, 4, 3, 2, 1]\n",
      "[0, 0, 1, 2, 3, 0, 4, 4, 3, 2, 1]\n",
      "[0, 0, 1, 2, 3, 0, 0, 4, 3, 2, 1]\n",
      "[0, 0, 1, 2, 3, 0, 0, 0, 3, 2, 1]\n",
      "[5, 6, 7]\n"
     ]
    }
   ],
   "source": [
    "answer = []\n",
    "nlst = [i for i in range(1,4+1)]\n",
    "print(nlst)\n",
    "mlst = [i for i in range(1,6+1)]\n",
    "print(mlst)\n",
    "numlst = [0 for i in range(4+6+1)]\n",
    "print(numlst)\n",
    "\n",
    "for i in nlst:\n",
    "    for j in mlst:\n",
    "        print(numlst[i+j])\n",
    "        numlst[i+j] += 1\n",
    "print(numlst)\n",
    "max_num = max(numlst)\n",
    "for k in range(numlst.count(max_num)):\n",
    "    answer.append(numlst.index(max_num))\n",
    "    numlst[numlst.index(max_num)] = 0\n",
    "    print(numlst)\n",
    "    \n",
    "print(answer)"
   ]
  },
  {
   "cell_type": "code",
   "execution_count": 2,
   "id": "9c6de846",
   "metadata": {},
   "outputs": [
    {
     "data": {
      "text/plain": [
       "[0, 0, 0, 0, 0, 0, 0, 0, 0, 0]"
      ]
     },
     "execution_count": 2,
     "metadata": {},
     "output_type": "execute_result"
    }
   ],
   "source": [
    "numlst = [0 for i in range(1,11)]\n",
    "numlst\n"
   ]
  },
  {
   "cell_type": "code",
   "execution_count": null,
   "id": "cdb812bf",
   "metadata": {},
   "outputs": [],
   "source": []
  }
 ],
 "metadata": {
  "kernelspec": {
   "display_name": "algo",
   "language": "python",
   "name": "algo"
  },
  "language_info": {
   "codemirror_mode": {
    "name": "ipython",
    "version": 3
   },
   "file_extension": ".py",
   "mimetype": "text/x-python",
   "name": "python",
   "nbconvert_exporter": "python",
   "pygments_lexer": "ipython3",
   "version": "3.9.12"
  }
 },
 "nbformat": 4,
 "nbformat_minor": 5
}
