{
 "cells": [
  {
   "cell_type": "markdown",
   "id": "980991e4",
   "metadata": {},
   "source": [
    "## 곶감(모래시계)"
   ]
  },
  {
   "cell_type": "markdown",
   "id": "abc96add",
   "metadata": {},
   "source": [
    "nxn 격자판에서 2 0 3 -> 2번째 행을 왼쪽으로 3칸 돌린다는 뜻\n",
    "\n",
    "0이면 왼쪽 1이면 오른쪽\n",
    "\n",
    "회전 명령들을 다 수행하고 난 뒤 격자판에서 모래시계 모양에 있는 감들만 더해서 출력하시오."
   ]
  },
  {
   "cell_type": "code",
   "execution_count": null,
   "id": "f8f047f2",
   "metadata": {},
   "outputs": [],
   "source": [
    "10 13 10 12 15\n",
    "12 39 30 23 11\n",
    "11 25 50 53 15\n",
    "19 27 29 37 27\n",
    "19 13 30 13 19"
   ]
  },
  {
   "cell_type": "code",
   "execution_count": 33,
   "id": "900d1939",
   "metadata": {},
   "outputs": [
    {
     "name": "stdout",
     "output_type": "stream",
     "text": [
      "5\n",
      "10 13 10 12 15\n",
      "12 39 30 23 11\n",
      "11 25 50 53 15\n",
      "19 27 29 37 27\n",
      "19 13 30 13 19\n"
     ]
    }
   ],
   "source": [
    "n = int(input())\n",
    "per = [list(map(int, input().split())) for _ in range(n)]"
   ]
  },
  {
   "cell_type": "code",
   "execution_count": null,
   "id": "53b9acc4",
   "metadata": {},
   "outputs": [],
   "source": [
    "2 0 3\n",
    "5 1 2\n",
    "3 1 4"
   ]
  },
  {
   "cell_type": "code",
   "execution_count": 4,
   "id": "6091fe89",
   "metadata": {},
   "outputs": [
    {
     "name": "stdout",
     "output_type": "stream",
     "text": [
      "3\n",
      "2 0 3\n",
      "5 1 2\n",
      "3 1 4\n"
     ]
    }
   ],
   "source": [
    "r = int(input())\n",
    "rot = [list(map(int, input().split())) for _ in range(r)]"
   ]
  },
  {
   "cell_type": "code",
   "execution_count": 34,
   "id": "8bb5d600",
   "metadata": {},
   "outputs": [
    {
     "name": "stdout",
     "output_type": "stream",
     "text": [
      "[[10, 13, 10, 12, 15], [23, 11, 12, 39, 30], [25, 50, 53, 15, 11], [19, 27, 29, 37, 27], [13, 19, 19, 13, 30]]\n"
     ]
    }
   ],
   "source": [
    "row = 0\n",
    "tmp = 0\n",
    "for i in range(r): #회전을 r만큼 진행\n",
    "    row = rot[i][0] - 1 #몇번째 행인지\n",
    "    if rot[i][1] == 0: #왼쪽\n",
    "        num = rot[i][2] #몇 칸 움직이는지\n",
    "        for j in range(num):\n",
    "            tmp = per[row].pop(0)\n",
    "            per[row].append(tmp)\n",
    "    else:\n",
    "        num = n - rot[i][2]\n",
    "        for j in range(num):\n",
    "            tmp = per[row].pop(0)\n",
    "            per[row].append(tmp)\n",
    "            \n",
    "print(per)"
   ]
  },
  {
   "cell_type": "code",
   "execution_count": 40,
   "id": "7590f736",
   "metadata": {},
   "outputs": [
    {
     "name": "stdout",
     "output_type": "stream",
     "text": [
      "0 10\n",
      "0 23\n",
      "0 33\n",
      "0 45\n",
      "0 60\n",
      "1 71\n",
      "1 83\n",
      "1 122\n",
      "2 175\n",
      "3 202\n",
      "3 231\n",
      "3 268\n",
      "4 281\n",
      "4 300\n",
      "4 319\n",
      "4 332\n",
      "4 362\n",
      "362\n"
     ]
    }
   ],
   "source": [
    "#모래시계부분만의 합계 n=5\n",
    "s = 0\n",
    "e = n-1\n",
    "sums = 0\n",
    "for i in range(n):\n",
    "    for j in range(s, e+1): #0:5, 1:4, 2:3, 1:4, 0:5\n",
    "        sums += per[i][j]\n",
    "        print(i, sums)\n",
    "    if i < n//2:\n",
    "        s += 1\n",
    "        e -= 1\n",
    "    else:\n",
    "        s -= 1\n",
    "        e += 1\n",
    "    \n",
    "print(sums)"
   ]
  }
 ],
 "metadata": {
  "kernelspec": {
   "display_name": "algo",
   "language": "python",
   "name": "algo"
  },
  "language_info": {
   "codemirror_mode": {
    "name": "ipython",
    "version": 3
   },
   "file_extension": ".py",
   "mimetype": "text/x-python",
   "name": "python",
   "nbconvert_exporter": "python",
   "pygments_lexer": "ipython3",
   "version": "3.9.12"
  }
 },
 "nbformat": 4,
 "nbformat_minor": 5
}
