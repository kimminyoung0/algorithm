{
 "cells": [
  {
   "cell_type": "markdown",
   "id": "452b57e5",
   "metadata": {},
   "source": [
    "## 주사위 게임\n",
    "3개의 주사위를 던져서 같은 눈 3개가 나오면 10000+같은눈*1000원\n",
    "\n",
    "같은 눈 2개 1000+같은눈*100원\n",
    "\n",
    "모두 다른 눈 그중 가장 큰 눈* 100"
   ]
  },
  {
   "cell_type": "code",
   "execution_count": 20,
   "id": "85e5b56b",
   "metadata": {},
   "outputs": [],
   "source": [
    "def game():\n",
    "    a, b, c = map(int, input().split())\n",
    "    if a==b and b==c:\n",
    "        answer = 10000+(a*1000)\n",
    "        return answer\n",
    "    elif a==b and b!=c:\n",
    "        answer = 1000 + (a*100)\n",
    "        return answer\n",
    "    elif b==c and c!=a:\n",
    "        answer = 1000 + (b*100)\n",
    "        return answer\n",
    "    elif c==a and a!=b:\n",
    "        answer = 1000 + (c*100)\n",
    "        return answer\n",
    "    elif a!=b and b!=c and c!=a:\n",
    "        answer = max(a, b, c)*100\n",
    "        return answer"
   ]
  },
  {
   "cell_type": "code",
   "execution_count": 21,
   "id": "55baf9c2",
   "metadata": {},
   "outputs": [
    {
     "name": "stdout",
     "output_type": "stream",
     "text": [
      "2 4 4\n"
     ]
    },
    {
     "data": {
      "text/plain": [
       "1400"
      ]
     },
     "execution_count": 21,
     "metadata": {},
     "output_type": "execute_result"
    }
   ],
   "source": [
    "game()"
   ]
  },
  {
   "cell_type": "code",
   "execution_count": 22,
   "id": "3144f363",
   "metadata": {},
   "outputs": [
    {
     "name": "stdout",
     "output_type": "stream",
     "text": [
      "3 3 3\n"
     ]
    },
    {
     "data": {
      "text/plain": [
       "13000"
      ]
     },
     "execution_count": 22,
     "metadata": {},
     "output_type": "execute_result"
    }
   ],
   "source": [
    "game()"
   ]
  },
  {
   "cell_type": "code",
   "execution_count": 23,
   "id": "74806450",
   "metadata": {},
   "outputs": [
    {
     "name": "stdout",
     "output_type": "stream",
     "text": [
      "3 5 6\n"
     ]
    },
    {
     "data": {
      "text/plain": [
       "600"
      ]
     },
     "execution_count": 23,
     "metadata": {},
     "output_type": "execute_result"
    }
   ],
   "source": [
    "game()"
   ]
  },
  {
   "cell_type": "code",
   "execution_count": null,
   "id": "797b52df",
   "metadata": {},
   "outputs": [],
   "source": []
  },
  {
   "cell_type": "code",
   "execution_count": null,
   "id": "f680d087",
   "metadata": {},
   "outputs": [],
   "source": []
  },
  {
   "cell_type": "code",
   "execution_count": null,
   "id": "cf7b7a62",
   "metadata": {},
   "outputs": [],
   "source": []
  },
  {
   "cell_type": "code",
   "execution_count": null,
   "id": "f988693b",
   "metadata": {},
   "outputs": [],
   "source": []
  },
  {
   "cell_type": "code",
   "execution_count": null,
   "id": "50b2c2a4",
   "metadata": {},
   "outputs": [],
   "source": []
  },
  {
   "cell_type": "code",
   "execution_count": null,
   "id": "0472819a",
   "metadata": {},
   "outputs": [],
   "source": []
  }
 ],
 "metadata": {
  "kernelspec": {
   "display_name": "algo",
   "language": "python",
   "name": "algo"
  },
  "language_info": {
   "codemirror_mode": {
    "name": "ipython",
    "version": 3
   },
   "file_extension": ".py",
   "mimetype": "text/x-python",
   "name": "python",
   "nbconvert_exporter": "python",
   "pygments_lexer": "ipython3",
   "version": "3.9.12"
  }
 },
 "nbformat": 4,
 "nbformat_minor": 5
}
