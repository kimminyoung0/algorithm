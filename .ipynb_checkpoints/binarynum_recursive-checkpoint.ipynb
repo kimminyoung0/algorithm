{
 "cells": [
  {
   "cell_type": "markdown",
   "id": "70052b74",
   "metadata": {},
   "source": [
    "## 재귀함수를 이용해 이진수 출력"
   ]
  },
  {
   "cell_type": "code",
   "execution_count": 19,
   "id": "2c722ad0",
   "metadata": {},
   "outputs": [],
   "source": [
    "lst = []\n",
    "def solution(n):\n",
    "    \n",
    "    if n == 0:\n",
    "        return \n",
    "    else:\n",
    "        solution(n//2)\n",
    "        lst.append(n%2)\n",
    "    return int(''.join(map(str, lst)))"
   ]
  },
  {
   "cell_type": "code",
   "execution_count": 20,
   "id": "fe0a36fe",
   "metadata": {},
   "outputs": [
    {
     "data": {
      "text/plain": [
       "1011"
      ]
     },
     "execution_count": 20,
     "metadata": {},
     "output_type": "execute_result"
    }
   ],
   "source": [
    "solution(11)"
   ]
  },
  {
   "cell_type": "code",
   "execution_count": null,
   "id": "71a470c5",
   "metadata": {},
   "outputs": [],
   "source": []
  },
  {
   "cell_type": "code",
   "execution_count": null,
   "id": "9364dc59",
   "metadata": {},
   "outputs": [],
   "source": []
  }
 ],
 "metadata": {
  "kernelspec": {
   "display_name": "algo",
   "language": "python",
   "name": "algo"
  },
  "language_info": {
   "codemirror_mode": {
    "name": "ipython",
    "version": 3
   },
   "file_extension": ".py",
   "mimetype": "text/x-python",
   "name": "python",
   "nbconvert_exporter": "python",
   "pygments_lexer": "ipython3",
   "version": "3.9.12"
  }
 },
 "nbformat": 4,
 "nbformat_minor": 5
}
