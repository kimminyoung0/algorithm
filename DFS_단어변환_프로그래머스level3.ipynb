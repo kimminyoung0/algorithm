{
 "cells": [
  {
   "cell_type": "markdown",
   "id": "fcfd4e8b",
   "metadata": {},
   "source": [
    "### 문제 설명\n",
    "\n",
    "두 개의 단어 begin, target과 단어의 집합 words가 있습니다. 아래와 같은 규칙을 이용하여 begin에서 target으로 변환하는 가장 짧은 변환 과정을 찾으려고 합니다.\n",
    "1. 한 번에 한 개의 알파벳만 바꿀 수 있습니다.\n",
    "2. words에 있는 단어로만 변환할 수 있습니다.\n",
    "예를 들어 begin이 \"hit\", target가 \"cog\", words가 [\"hot\",\"dot\",\"dog\",\"lot\",\"log\",\"cog\"]라면 \"hit\" -> \"hot\" -> \"dot\" -> \"dog\" -> \"cog\"와 같이 4단계를 거쳐 변환할 수 있습니다.\n",
    "두 개의 단어 begin, target과 단어의 집합 words가 매개변수로 주어질 때, 최소 몇 단계의 과정을 거쳐 begin을 target으로 변환할 수 있는지 return 하도록 solution 함수를 작성해주세요.\n",
    "\n",
    "제한사항\n",
    "- 각 단어는 알파벳 소문자로만 이루어져 있습니다.\n",
    "- 각 단어의 길이는 3 이상 10 이하이며 모든 단어의 길이는 같습니다.\n",
    "- words에는 3개 이상 50개 이하의 단어가 있으며 중복되는 단어는 없습니다.\n",
    "- begin과 target은 같지 않습니다.\n",
    "- 변환할 수 없는 경우에는 0를 return 합니다."
   ]
  },
  {
   "cell_type": "markdown",
   "id": "f9c8b04e",
   "metadata": {},
   "source": [
    "입출력 예\n",
    "begin\ttarget\twords\treturn\n",
    "\"hit\"\t\"cog\"\t[\"hot\", \"dot\", \"dog\", \"lot\", \"log\", \"cog\"]\t---> 4\n",
    "\"hit\"\t\"cog\"\t[\"hot\", \"dot\", \"dog\", \"lot\", \"log\"] --->\t0\n",
    "\n",
    "### 입출력 예 설명\n",
    "예제 #1\n",
    "- 문제에 나온 예와 같습니다.\n",
    "\n",
    "예제 #2\n",
    "- target인 \"cog\"는 words 안에 없기 때문에 변환할 수 없습니다."
   ]
  },
  {
   "cell_type": "code",
   "execution_count": 1,
   "id": "b509efee",
   "metadata": {},
   "outputs": [],
   "source": [
    "begin = \"hit\"\n",
    "target = \"cog\"\n",
    "\n",
    "words = [\"hot\", \"dot\", \"dog\", \"lot\", \"log\", \"cog\"]"
   ]
  },
  {
   "cell_type": "code",
   "execution_count": 2,
   "id": "77ce0301",
   "metadata": {},
   "outputs": [],
   "source": [
    "def dfs(begin, target, words, visited, depth):\n",
    "    global answer # dfs에서 전역변수인 answer를 사용하기 위해 global선언. 선언하지 않으면 unbounded error가\n",
    "    if begin == target:  # 5. 종료 조건 설정하기 (상단에)\n",
    "        answer = min(answer, depth)\n",
    "        return\n",
    "    \n",
    "    for i, word in enumerate(words):\n",
    "        if not visited[i] and is_one_letter_different(begin, word):\n",
    "            visited[i] = True\n",
    "            dfs(word, target, words, visited, depth + 1)\n",
    "            visited[i] = False  # 백트래킹\n",
    "\n",
    "def is_one_letter_different(word1, word2):\n",
    "    cnt = sum([1 for a, b in zip(word1, word2) if a != b])\n",
    "    return cnt == 1\n",
    "\n",
    "def solution(begin, target, words):\n",
    "    global answer #solution에서도 answer를 전역변수로 선언해준다.\n",
    "    if target not in words:ㄴ\n",
    "        return 0\n",
    "    \n",
    "    answer = float('inf')  # 1. 최소 단계를 찾기 위해 초기값을 무한대로 설정\n",
    "    visited = [False] * len(words) # 2. 체크 리스트만들기\n",
    "    \n",
    "    for i, word in enumerate(words):\n",
    "        if is_one_letter_different(begin, word):\n",
    "            visited[i] = True # 3. 체크리스트에 체크하기\n",
    "            dfs(word, target, words, visited, 1)\n",
    "            visited[i] = False  # 4. 백트래킹\n",
    "            \n",
    "    return answer if answer != float('inf') else 0\n"
   ]
  },
  {
   "cell_type": "code",
   "execution_count": 3,
   "id": "958f4f22",
   "metadata": {},
   "outputs": [
    {
     "data": {
      "text/plain": [
       "4"
      ]
     },
     "execution_count": 3,
     "metadata": {},
     "output_type": "execute_result"
    }
   ],
   "source": [
    "res = solution(begin, target, words)\n",
    "res"
   ]
  },
  {
   "cell_type": "code",
   "execution_count": null,
   "id": "e596c79b",
   "metadata": {},
   "outputs": [],
   "source": []
  }
 ],
 "metadata": {
  "kernelspec": {
   "display_name": "algo",
   "language": "python",
   "name": "algo"
  },
  "language_info": {
   "codemirror_mode": {
    "name": "ipython",
    "version": 3
   },
   "file_extension": ".py",
   "mimetype": "text/x-python",
   "name": "python",
   "nbconvert_exporter": "python",
   "pygments_lexer": "ipython3",
   "version": "3.9.12"
  }
 },
 "nbformat": 4,
 "nbformat_minor": 5
}
