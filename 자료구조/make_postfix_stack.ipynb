{
 "cells": [
  {
   "cell_type": "markdown",
   "id": "fc8eba24",
   "metadata": {},
   "source": [
    "## 후위표기식 만들기"
   ]
  },
  {
   "cell_type": "markdown",
   "id": "76e28e12",
   "metadata": {},
   "source": [
    "중위 표기식이 입력되면 후위표기식으로 변환하는 프로그램을 작성하시오\n",
    "\n",
    "ex) 3+5 -> 35+\n",
    "\n",
    "ex) 3+5+2 -> 352++\n",
    "\n",
    "ex) (3+5)*2 -> 352+*\n",
    "\n",
    "입력설명: 1~9 숫자와 +, -, *, /, (, ) 연산자로 이루어진 식"
   ]
  },
  {
   "cell_type": "code",
   "execution_count": 3,
   "id": "c9388501",
   "metadata": {},
   "outputs": [
    {
     "name": "stdout",
     "output_type": "stream",
     "text": [
      "3+5*2/(7-2)\n"
     ]
    }
   ],
   "source": [
    "inf = input()"
   ]
  },
  {
   "cell_type": "code",
   "execution_count": 4,
   "id": "18e3c4e8",
   "metadata": {},
   "outputs": [
    {
     "name": "stdout",
     "output_type": "stream",
     "text": [
      "3*(5+2)-9\n"
     ]
    }
   ],
   "source": [
    "inf2 = input()"
   ]
  },
  {
   "cell_type": "code",
   "execution_count": 6,
   "id": "1252e2a5",
   "metadata": {},
   "outputs": [
    {
     "name": "stdout",
     "output_type": "stream",
     "text": [
      "352*72-/+\n"
     ]
    }
   ],
   "source": [
    "stack = []\n",
    "res = ''\n",
    "for i in inf:\n",
    "    if i.isdecimal():\n",
    "        res += i\n",
    "    else:\n",
    "        if i == '(':\n",
    "            stack.append(i)\n",
    "        elif i == '*' or i == '/':\n",
    "            while stack and (stack[-1]=='*' or stack[-1] == '/'): #stack이 비어있지 않아야 하고\n",
    "                res += stack.pop()\n",
    "            stack.append(i) #자기자신 append하고 위에서 우선순위에 따라서 진행\n",
    "        elif i == '+' or i == '-':\n",
    "            while stack and stack[-1] != '(': #여는 괄호 전까지만 다 출력\n",
    "                res += stack.pop()\n",
    "            stack.append(i)\n",
    "        elif i == ')':\n",
    "            while stack and stack[-1] != '(':\n",
    "                res += stack.pop()\n",
    "            stack.pop() #여는 괄호 pop\n",
    "\n",
    "while stack: #남아있는 연산자 모두 pop\n",
    "    res += stack.pop()\n",
    "print(res)\n",
    "        "
   ]
  },
  {
   "cell_type": "code",
   "execution_count": null,
   "id": "980d6836",
   "metadata": {},
   "outputs": [],
   "source": []
  },
  {
   "cell_type": "code",
   "execution_count": null,
   "id": "14770b3d",
   "metadata": {},
   "outputs": [],
   "source": []
  }
 ],
 "metadata": {
  "kernelspec": {
   "display_name": "algo",
   "language": "python",
   "name": "algo"
  },
  "language_info": {
   "codemirror_mode": {
    "name": "ipython",
    "version": 3
   },
   "file_extension": ".py",
   "mimetype": "text/x-python",
   "name": "python",
   "nbconvert_exporter": "python",
   "pygments_lexer": "ipython3",
   "version": "3.9.12"
  }
 },
 "nbformat": 4,
 "nbformat_minor": 5
}
