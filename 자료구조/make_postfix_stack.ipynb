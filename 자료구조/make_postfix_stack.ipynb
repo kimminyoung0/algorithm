{
 "cells": [
  {
   "cell_type": "markdown",
   "id": "094db601",
   "metadata": {},
   "source": [
    "## 후위표기식 만들기"
   ]
  },
  {
   "cell_type": "markdown",
   "id": "6f219827",
   "metadata": {},
   "source": [
    "중위 표기식이 입력되면 후위표기식으로 변환하는 프로그램을 작성하시오\n",
    "\n",
    "ex) 3+5 -> 35+\n",
    "\n",
    "ex) 3+5+2 -> 352++\n",
    "\n",
    "ex) (3+5)*2 -> 352+*\n",
    "\n",
    "입력설명: 1~9 숫자와 +, -, *, /, (, ) 연산자로 이루어진 식"
   ]
  },
  {
   "cell_type": "code",
   "execution_count": 3,
   "id": "d045fccc",
   "metadata": {},
   "outputs": [
    {
     "name": "stdout",
     "output_type": "stream",
     "text": [
      "3+5*2/(7-2)\n"
     ]
    }
   ],
   "source": [
    "inf = input()"
   ]
  },
  {
   "cell_type": "code",
   "execution_count": 4,
   "id": "a50adff1",
   "metadata": {},
   "outputs": [
    {
     "name": "stdout",
     "output_type": "stream",
     "text": [
      "3*(5+2)-9\n"
     ]
    }
   ],
   "source": [
    "inf2 = input()"
   ]
  },
  {
   "cell_type": "code",
   "execution_count": null,
   "id": "ad7d2c59",
   "metadata": {},
   "outputs": [],
   "source": [
    "stack = []\n",
    "res = ''\n",
    "for i in inf:\n",
    "    if i.isdecimal():\n",
    "        res += i\n",
    "    else:\n",
    "        if i == '(':\n",
    "            stack.append(i)\n",
    "        elif i == '*' or i == '/':\n",
    "            while stack and (stack[-1]=='*' or stack[-1] == '/') #stack이 비어있지 않아야 하고\n",
    "                res += stack.pop()\n",
    "            stack.append(i)\n",
    "        elif \n",
    "        "
   ]
  },
  {
   "cell_type": "code",
   "execution_count": null,
   "id": "0351cf8a",
   "metadata": {},
   "outputs": [],
   "source": []
  },
  {
   "cell_type": "code",
   "execution_count": null,
   "id": "5b058bfb",
   "metadata": {},
   "outputs": [],
   "source": []
  }
 ],
 "metadata": {
  "kernelspec": {
   "display_name": "algo",
   "language": "python",
   "name": "algo"
  },
  "language_info": {
   "codemirror_mode": {
    "name": "ipython",
    "version": 3
   },
   "file_extension": ".py",
   "mimetype": "text/x-python",
   "name": "python",
   "nbconvert_exporter": "python",
   "pygments_lexer": "ipython3",
   "version": "3.9.12"
  }
 },
 "nbformat": 4,
 "nbformat_minor": 5
}
