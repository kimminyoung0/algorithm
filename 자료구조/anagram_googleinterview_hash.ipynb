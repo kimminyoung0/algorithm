{
 "cells": [
  {
   "cell_type": "markdown",
   "id": "92c2f85b",
   "metadata": {},
   "source": [
    "## 아나그램(해쉬)"
   ]
  },
  {
   "cell_type": "markdown",
   "id": "eb344734",
   "metadata": {},
   "source": [
    "아나그램이란 두 문자열이 알파벳의 나열 순서는 다르지만, 그 구성이 일치하면 두 단어를 아나그램이라고 한다.\n",
    "\n",
    "두 단어가 주어지면 아나그램인지 판별하는 프로그램을 작성하시오."
   ]
  },
  {
   "cell_type": "code",
   "execution_count": null,
   "id": "43698a16",
   "metadata": {},
   "outputs": [],
   "source": [
    "AbaAeCe\n",
    "baeeACA"
   ]
  },
  {
   "cell_type": "code",
   "execution_count": 4,
   "id": "efa4cedd",
   "metadata": {},
   "outputs": [
    {
     "name": "stdout",
     "output_type": "stream",
     "text": [
      "AbaAeCe\n",
      "baeeACA\n",
      "YES\n"
     ]
    }
   ],
   "source": [
    "a = input()\n",
    "b = input()\n",
    "\n",
    "a_dict = {}\n",
    "b_dict = {}\n",
    "for i in a:\n",
    "    a_dict[i] = 0\n",
    "for i in a:\n",
    "    a_dict[i] += 1\n",
    "for i in b:\n",
    "    b_dict[i] = 0\n",
    "for i in b:\n",
    "    b_dict[i] += 1\n",
    "if a_dict == b_dict:\n",
    "    print('YES')\n",
    "else:\n",
    "    print('NO')"
   ]
  },
  {
   "cell_type": "markdown",
   "id": "9ff1b7f1",
   "metadata": {},
   "source": [
    "다른 방식"
   ]
  },
  {
   "cell_type": "code",
   "execution_count": 6,
   "id": "1107d401",
   "metadata": {},
   "outputs": [
    {
     "name": "stdout",
     "output_type": "stream",
     "text": [
      "AbaAeCe\n",
      "baeeACA\n",
      "YES\n"
     ]
    }
   ],
   "source": [
    "a = input()\n",
    "b = input()\n",
    "\n",
    "a_dict = {}\n",
    "b_dict = {}\n",
    "for i in a:\n",
    "    a_dict[i] = a_dict.get(i, 0) + 1\n",
    "for i in b:\n",
    "    b_dict[i] = b_dict.get(i, 0) + 1\n",
    "if a_dict == b_dict:\n",
    "    print('YES')\n",
    "else:\n",
    "    print('NO')"
   ]
  },
  {
   "cell_type": "markdown",
   "id": "89543d89",
   "metadata": {},
   "source": [
    "Counter와 딕셔너리의 성능차이는 없다."
   ]
  },
  {
   "cell_type": "markdown",
   "id": "412d964c",
   "metadata": {},
   "source": [
    "딕셔너리 비교 방식을 아래와 같이 할 수도 있음. 방식만 알아두기"
   ]
  },
  {
   "cell_type": "code",
   "execution_count": null,
   "id": "94df3e19",
   "metadata": {},
   "outputs": [],
   "source": [
    "for i in a_dict.keys():\n",
    "    if i in b_dict.keys():\n",
    "        if a_dict[i] != b_dict[i]:\n",
    "            print('NO')\n",
    "            break\n",
    "    else:\n",
    "        print('NO')\n",
    "        break\n",
    "else:\n",
    "    print('YES')"
   ]
  },
  {
   "cell_type": "markdown",
   "id": "b9c199e0",
   "metadata": {},
   "source": [
    "딕셔너리를 한 개만 만드는 방식"
   ]
  },
  {
   "cell_type": "code",
   "execution_count": null,
   "id": "7edcda0f",
   "metadata": {},
   "outputs": [],
   "source": [
    "a = input()\n",
    "b = input()\n",
    "\n",
    "str_d = {}\n",
    "for i in a:\n",
    "    str_d[i] = str_d.get(i, 0) + 1\n",
    "for i in b:\n",
    "    str_d[i] = str_d.get(i, 0) - 1\n",
    "\n",
    "for i in a:\n",
    "    if(str_d.get(i)>0):\n",
    "        print('NO')\n",
    "        break\n",
    "else:\n",
    "    print('YES')"
   ]
  }
 ],
 "metadata": {
  "kernelspec": {
   "display_name": "algo",
   "language": "python",
   "name": "algo"
  },
  "language_info": {
   "codemirror_mode": {
    "name": "ipython",
    "version": 3
   },
   "file_extension": ".py",
   "mimetype": "text/x-python",
   "name": "python",
   "nbconvert_exporter": "python",
   "pygments_lexer": "ipython3",
   "version": "3.9.12"
  }
 },
 "nbformat": 4,
 "nbformat_minor": 5
}
