{
 "cells": [
  {
   "cell_type": "markdown",
   "id": "71389e97",
   "metadata": {},
   "source": [
    "## 가장 큰 수(스택) "
   ]
  },
  {
   "cell_type": "markdown",
   "id": "6a7e5b5c",
   "metadata": {},
   "source": [
    "현수에게 숫자 하나를 주고, 해당 숫자의 자릿수들 중 m개의 숫자를 제거 하여 가장 큰 수를 만들라고 했습니다. (숫자의 순서는 유지)\n",
    "\n",
    "ex) 5276823 이 주어지고, 3개의 자릿수를 제거하면\n",
    "\n",
    "7823이 가장 큰 숫자가 됩니다."
   ]
  },
  {
   "cell_type": "code",
   "execution_count": 25,
   "id": "6c28cad4",
   "metadata": {},
   "outputs": [
    {
     "name": "stdout",
     "output_type": "stream",
     "text": [
      "5276823 3\n"
     ]
    }
   ],
   "source": [
    "n, rem = input().split()"
   ]
  },
  {
   "cell_type": "code",
   "execution_count": 9,
   "id": "6a6f6a78",
   "metadata": {},
   "outputs": [
    {
     "name": "stdout",
     "output_type": "stream",
     "text": [
      "9977252641 5\n"
     ]
    }
   ],
   "source": [
    "n, rem = input().split()"
   ]
  },
  {
   "cell_type": "code",
   "execution_count": 26,
   "id": "d48fcbdd",
   "metadata": {},
   "outputs": [
    {
     "name": "stdout",
     "output_type": "stream",
     "text": [
      "['7', '8', '2', '3']\n",
      "7823\n"
     ]
    }
   ],
   "source": [
    "obj_len = len(n)-int(rem)\n",
    "cnt = 0\n",
    "whcnt = 0\n",
    "strn = list(str(n))\n",
    "while cnt < int(rem): #5\n",
    "    whcnt += 1\n",
    "    if whcnt > obj_len:\n",
    "        while len(strn) > obj_len:\n",
    "            strn.pop()\n",
    "        break\n",
    "    for i, val in enumerate(strn):\n",
    "        if i == len(strn)-1:\n",
    "            break\n",
    "        if int(val) < int(strn[i+1]):\n",
    "            strn.pop(i)\n",
    "            cnt += 1\n",
    "            break\n",
    "            \n",
    "print(strn)\n",
    "print(int(''.join(strn)))"
   ]
  },
  {
   "cell_type": "markdown",
   "id": "1eac786c",
   "metadata": {},
   "source": [
    "다른 방식"
   ]
  },
  {
   "cell_type": "code",
   "execution_count": 34,
   "id": "1c9729a4",
   "metadata": {},
   "outputs": [
    {
     "name": "stdout",
     "output_type": "stream",
     "text": [
      "9977252641 5\n",
      "99776\n"
     ]
    }
   ],
   "source": [
    "n, rem = input().split()\n",
    "strn = list(str(n))\n",
    "rem = int(rem)\n",
    "stack = []\n",
    "for i in strn:\n",
    "    while stack and rem>0 and stack[-1] < i:\n",
    "        stack.pop()\n",
    "        rem -= 1\n",
    "    stack.append(i)\n",
    "if rem != 0:\n",
    "    stack = stack[:-rem]\n",
    "print(''.join(map(str, stack)))\n"
   ]
  },
  {
   "cell_type": "code",
   "execution_count": null,
   "id": "96beed90",
   "metadata": {},
   "outputs": [],
   "source": []
  }
 ],
 "metadata": {
  "kernelspec": {
   "display_name": "algo",
   "language": "python",
   "name": "algo"
  },
  "language_info": {
   "codemirror_mode": {
    "name": "ipython",
    "version": 3
   },
   "file_extension": ".py",
   "mimetype": "text/x-python",
   "name": "python",
   "nbconvert_exporter": "python",
   "pygments_lexer": "ipython3",
   "version": "3.9.12"
  }
 },
 "nbformat": 4,
 "nbformat_minor": 5
}
