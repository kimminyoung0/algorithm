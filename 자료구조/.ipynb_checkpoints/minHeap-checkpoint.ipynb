{
 "cells": [
  {
   "cell_type": "markdown",
   "id": "97664364",
   "metadata": {},
   "source": [
    "## 최소힙"
   ]
  },
  {
   "cell_type": "markdown",
   "id": "5e936cce",
   "metadata": {},
   "source": [
    "최소힙은 완전이진트리로 구현된 자료구조이다. 구성은 부모 노드값이 왼쪽 자식과 오른쪽 자식노드의 값보다 작게 트리를 구성하는 것이다. \n",
    "\n",
    "그렇게하면 트리의 루트노드는 입력된 값들 중 가장 작은 값이 저장되어 있다. \n",
    "\n",
    "1)자연수가 입력되면 최소힙에 입력한다.\n",
    "\n",
    "2) 숫자 0이 입력되면 최소힙에서 최솟값을 꺼내어 출력한다. 출력할 자료가 없으면 -1을 출력한다.\n",
    "\n",
    "3) -1이 입력되면 프로그램을 종료한다."
   ]
  },
  {
   "cell_type": "code",
   "execution_count": 1,
   "id": "25c87057",
   "metadata": {},
   "outputs": [],
   "source": [
    "import heapq as hq"
   ]
  },
  {
   "cell_type": "code",
   "execution_count": 3,
   "id": "7733c4f1",
   "metadata": {},
   "outputs": [
    {
     "name": "stdout",
     "output_type": "stream",
     "text": [
      "5\n",
      "3\n",
      "6\n",
      "0\n",
      "3\n",
      "5\n",
      "0\n",
      "5\n",
      "2\n",
      "4\n",
      "0\n",
      "2\n",
      "-1\n"
     ]
    }
   ],
   "source": [
    "a = []\n",
    "while True:\n",
    "    n = int(input())\n",
    "    if n == -1:\n",
    "        break\n",
    "    if n == 0:\n",
    "        if len(a)==0:\n",
    "            print(-1)\n",
    "        else:\n",
    "            print(hq.heappop(a)) #힙 자료구조에서 pop을 하면 제일 상단의 루트 노드가 pop됨\n",
    "    else:\n",
    "        hq.heappush(a, n) #a라는 리스트에 n값을 최소힙의 형태로 넣는다."
   ]
  }
 ],
 "metadata": {
  "kernelspec": {
   "display_name": "algo",
   "language": "python",
   "name": "algo"
  },
  "language_info": {
   "codemirror_mode": {
    "name": "ipython",
    "version": 3
   },
   "file_extension": ".py",
   "mimetype": "text/x-python",
   "name": "python",
   "nbconvert_exporter": "python",
   "pygments_lexer": "ipython3",
   "version": "3.9.12"
  }
 },
 "nbformat": 4,
 "nbformat_minor": 5
}
