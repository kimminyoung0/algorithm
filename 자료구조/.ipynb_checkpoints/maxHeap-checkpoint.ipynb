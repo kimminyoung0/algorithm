{
 "cells": [
  {
   "cell_type": "markdown",
   "id": "633e436e",
   "metadata": {},
   "source": [
    "## 최대힙"
   ]
  },
  {
   "cell_type": "markdown",
   "id": "5fa7434e",
   "metadata": {},
   "source": [
    "부모 노드가 자식 노드보다 큰 값이 저장되어 있다.\n",
    "\n",
    "1)자연수가 입력되면 최대힙에 입력한다.\n",
    "\n",
    "2) 숫자 0이 입력되면 최대힙에서 최댓값을 꺼내어 출력한다. 출력할 자료가 없으면 -1을 출력한다.\n",
    "\n",
    "3) -1이 입력되면 프로그램을 종료한다."
   ]
  },
  {
   "cell_type": "code",
   "execution_count": 2,
   "id": "9343eb7d",
   "metadata": {},
   "outputs": [],
   "source": [
    "import heapq as hq #기본적으로 최소힙"
   ]
  },
  {
   "cell_type": "code",
   "execution_count": null,
   "id": "305910b3",
   "metadata": {},
   "outputs": [],
   "source": [
    "a = []\n",
    "while True:\n",
    "    n = int(input())\n",
    "    if n == -1:\n",
    "        break\n",
    "    if n == 0:\n",
    "        if len(a)==0:\n",
    "            print(-1)\n",
    "        else:\n",
    "            ####음수로 변경해서 최댓값 pop\n",
    "            print(-hq.heappop(a)) #힙 자료구조에서 pop을 하면 제일 상단의 루트 노드가 pop됨\n",
    "    else:\n",
    "        ####음수로 변경해서 push\n",
    "        hq.heappush(a, -n) #a라는 리스트에 n값을 최소힙의 형태로 넣는다."
   ]
  }
 ],
 "metadata": {
  "kernelspec": {
   "display_name": "algo",
   "language": "python",
   "name": "algo"
  },
  "language_info": {
   "codemirror_mode": {
    "name": "ipython",
    "version": 3
   },
   "file_extension": ".py",
   "mimetype": "text/x-python",
   "name": "python",
   "nbconvert_exporter": "python",
   "pygments_lexer": "ipython3",
   "version": "3.9.12"
  }
 },
 "nbformat": 4,
 "nbformat_minor": 5
}
