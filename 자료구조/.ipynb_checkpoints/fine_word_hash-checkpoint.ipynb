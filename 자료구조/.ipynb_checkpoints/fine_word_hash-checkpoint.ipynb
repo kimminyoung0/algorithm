{
 "cells": [
  {
   "cell_type": "markdown",
   "id": "2b405181",
   "metadata": {},
   "source": [
    "## 단어 찾기"
   ]
  },
  {
   "cell_type": "markdown",
   "id": "589b021b",
   "metadata": {},
   "source": [
    "현수는 시를 쓰기 전에 시에 쓰일 단어를 미리 노트에 적어둔다.\n",
    "\n",
    "이번에는 n개의 단어를 노트에 적었는데, 시에 쓰지 않은 단어가 하나 있다. 그 단어를 찾아내시오."
   ]
  },
  {
   "cell_type": "code",
   "execution_count": 3,
   "id": "7f3bacf8",
   "metadata": {},
   "outputs": [
    {
     "name": "stdout",
     "output_type": "stream",
     "text": [
      "5\n",
      "big\n",
      "good\n",
      "sky\n",
      "blue\n",
      "mouse\n",
      "sky\n",
      "good\n",
      "mouse\n",
      "big\n",
      "blue\n"
     ]
    }
   ],
   "source": [
    "n = int(input())\n",
    "poem = dict()\n",
    "for i in range(n):\n",
    "    word = input()\n",
    "    poem[word] = 1\n",
    "for i in range(n-1):\n",
    "    word = input()\n",
    "    poem[word] = 0\n",
    "\n",
    "for key, val in poem.items():\n",
    "    if val == 1:\n",
    "        print(key)\n",
    "        break\n"
   ]
  }
 ],
 "metadata": {
  "kernelspec": {
   "display_name": "algo",
   "language": "python",
   "name": "algo"
  },
  "language_info": {
   "codemirror_mode": {
    "name": "ipython",
    "version": 3
   },
   "file_extension": ".py",
   "mimetype": "text/x-python",
   "name": "python",
   "nbconvert_exporter": "python",
   "pygments_lexer": "ipython3",
   "version": "3.9.12"
  }
 },
 "nbformat": 4,
 "nbformat_minor": 5
}
