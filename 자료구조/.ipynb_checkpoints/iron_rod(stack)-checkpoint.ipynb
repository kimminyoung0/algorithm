{
 "cells": [
  {
   "cell_type": "markdown",
   "id": "0e10c20b",
   "metadata": {},
   "source": [
    "## 쇠막대기(스택)"
   ]
  },
  {
   "cell_type": "markdown",
   "id": "85c0a65f",
   "metadata": {},
   "source": [
    "여러 개의 쇠막대기를 레이저로 절단하려고 한다.\n",
    "\n",
    "()가 있으면 레이저로 판단하고, 레이저가 아닌 괄호 표시는 잘려진 막대의 가장자리이다.\n",
    "\n",
    "레이저는 어떤 쇠막대기의 양 끝점과도 겹치지 않는다.\n",
    "\n",
    "각 쇠막대기를 자르는 레이저는 적어도 하나 존재한다.\n",
    "\n",
    "입력은 한 줄에 쇠막대기와 레이저의 배치를 나타내는 괄호 표현이 공백없이 주어진다.\n",
    "\n",
    "출력은 잘려진 조각의 총 개수를 나타내는 정수를 한 줄에 출력한다."
   ]
  },
  {
   "cell_type": "code",
   "execution_count": 8,
   "id": "c432607d",
   "metadata": {},
   "outputs": [
    {
     "name": "stdout",
     "output_type": "stream",
     "text": [
      "()(((()())(())()))(())\n"
     ]
    }
   ],
   "source": [
    "par = input()"
   ]
  },
  {
   "cell_type": "code",
   "execution_count": 11,
   "id": "a638a6af",
   "metadata": {},
   "outputs": [
    {
     "name": "stdout",
     "output_type": "stream",
     "text": [
      "17\n"
     ]
    }
   ],
   "source": [
    "stack = []\n",
    "cnt = 0\n",
    "for i in range(len(par)):\n",
    "    if par[i] == '(':\n",
    "        stack.append('(')\n",
    "    else:\n",
    "        if par[i-1] == '(':\n",
    "            stack.pop()\n",
    "            cnt += len(stack)\n",
    "        else:\n",
    "            stack.pop()\n",
    "            cnt += 1\n",
    "print"
   ]
  }
 ],
 "metadata": {
  "kernelspec": {
   "display_name": "algo",
   "language": "python",
   "name": "algo"
  },
  "language_info": {
   "codemirror_mode": {
    "name": "ipython",
    "version": 3
   },
   "file_extension": ".py",
   "mimetype": "text/x-python",
   "name": "python",
   "nbconvert_exporter": "python",
   "pygments_lexer": "ipython3",
   "version": "3.9.12"
  }
 },
 "nbformat": 4,
 "nbformat_minor": 5
}
