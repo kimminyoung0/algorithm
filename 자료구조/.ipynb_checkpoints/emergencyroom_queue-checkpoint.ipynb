{
 "cells": [
  {
   "cell_type": "markdown",
   "id": "0eb3a791",
   "metadata": {},
   "source": [
    "## 응급실(큐)"
   ]
  },
  {
   "cell_type": "markdown",
   "id": "f89266f3",
   "metadata": {},
   "source": [
    "응급실에서 접수한 순서대로의 목록에서 제일 앞에 있는 환자 목록을 꺼내는데, 나머지 대기 목록에서 위험도가 더 높은 환자가 존재하면 대기목록 제일 뒤로 다시 넣고, 그게 아니면 진료를 받는다.\n",
    "\n",
    "n명의 환자가 대기목록에 있는데, m번째 환자는 몇번째로 진료를 받는지 출력하는 프로그램을 작성하시오. (제일 처음 환자가 0번째)"
   ]
  },
  {
   "cell_type": "code",
   "execution_count": 2,
   "id": "5169f6b1",
   "metadata": {},
   "outputs": [],
   "source": [
    "from collections import deque"
   ]
  },
  {
   "cell_type": "code",
   "execution_count": null,
   "id": "8d54fddd",
   "metadata": {},
   "outputs": [],
   "source": [
    "5 2\n",
    "60 50 70 80 90\n",
    "\n",
    "6 0\n",
    "60 60 90 60 60 60"
   ]
  },
  {
   "cell_type": "code",
   "execution_count": 73,
   "id": "1f5b5de8",
   "metadata": {},
   "outputs": [
    {
     "name": "stdout",
     "output_type": "stream",
     "text": [
      "5 2 \n",
      "60 50 70 80 90\n"
     ]
    }
   ],
   "source": [
    "n, m = map(int, input().split())\n",
    "e_ori = list(map(int, input().split()))\n",
    "e = deque(e_ori)"
   ]
  },
  {
   "cell_type": "code",
   "execution_count": 74,
   "id": "dd4fbad2",
   "metadata": {},
   "outputs": [
    {
     "name": "stdout",
     "output_type": "stream",
     "text": [
      "3\n"
     ]
    }
   ],
   "source": [
    "order = deque([i for i in range(n)])\n",
    "cnt = 0\n",
    "res = 0\n",
    "while tmp != m: #order 리스트에서 pop되는 게 m이 되면 종료\n",
    "    pnt = e[0]\n",
    "    \n",
    "    for i in range(1, len(e)):\n",
    "        if pnt < e[i]:\n",
    "            tmp = order.popleft()\n",
    "            order.append(tmp)\n",
    "            tmp = e.popleft()\n",
    "            e.append(tmp)\n",
    "            break\n",
    "    else:\n",
    "        cnt += 1\n",
    "        e.popleft()\n",
    "        tmp = order.popleft()\n",
    "\n",
    "print(cnt)   "
   ]
  },
  {
   "cell_type": "code",
   "execution_count": 75,
   "id": "d961e3ff",
   "metadata": {},
   "outputs": [
    {
     "name": "stdout",
     "output_type": "stream",
     "text": [
      "6 0\n",
      "60 60 90 60 60 60\n"
     ]
    }
   ],
   "source": [
    "n, m = map(int, input().split())\n",
    "e_ori = list(map(int, input().split()))\n",
    "e = deque(e_ori)"
   ]
  },
  {
   "cell_type": "code",
   "execution_count": 76,
   "id": "3d1abaf2",
   "metadata": {},
   "outputs": [
    {
     "name": "stdout",
     "output_type": "stream",
     "text": [
      "5\n"
     ]
    }
   ],
   "source": [
    "order = deque([i for i in range(n)])\n",
    "cnt = 0\n",
    "res = 0\n",
    "while tmp != m: #order 리스트에서 pop되는 게 m이 되면 종료\n",
    "    pnt = e[0]\n",
    "    \n",
    "    for i in range(1, len(e)):\n",
    "        if pnt < e[i]:\n",
    "            tmp = order.popleft()\n",
    "            order.append(tmp)\n",
    "            tmp = e.popleft()\n",
    "            e.append(tmp)\n",
    "            break\n",
    "    else:\n",
    "        cnt += 1\n",
    "        e.popleft()\n",
    "        tmp = order.popleft()\n",
    "\n",
    "print(cnt)   "
   ]
  },
  {
   "cell_type": "markdown",
   "id": "6357fc3c",
   "metadata": {},
   "source": [
    "다른 방식"
   ]
  },
  {
   "cell_type": "code",
   "execution_count": 79,
   "id": "daa4f643",
   "metadata": {},
   "outputs": [
    {
     "name": "stdout",
     "output_type": "stream",
     "text": [
      "5 2\n",
      "60 50 70 80 90\n"
     ]
    }
   ],
   "source": [
    "n, m = map(int, input().split())\n",
    "q = [(pos, val) for pos, val in enumerate(list(map(int, input().split())))]\n",
    "q = deque(q)"
   ]
  },
  {
   "cell_type": "code",
   "execution_count": 80,
   "id": "dd72d29c",
   "metadata": {},
   "outputs": [
    {
     "name": "stdout",
     "output_type": "stream",
     "text": [
      "3\n"
     ]
    }
   ],
   "source": [
    "cnt = 0\n",
    "while True:\n",
    "    cur = q.popleft()\n",
    "    if any(cur[1] < x[1] for x in q): #현재값이 q의 모든 위험도보다 하나라도 작다면\n",
    "        q.append(cur) #위험도가 가장 크지 않으므로 뒤로 넘기기\n",
    "    else: #위험도가 가장 높을 때\n",
    "        cnt += 1\n",
    "        if cur[0] == m:\n",
    "            break\n",
    "            \n",
    "print(cnt)"
   ]
  }
 ],
 "metadata": {
  "kernelspec": {
   "display_name": "algo",
   "language": "python",
   "name": "algo"
  },
  "language_info": {
   "codemirror_mode": {
    "name": "ipython",
    "version": 3
   },
   "file_extension": ".py",
   "mimetype": "text/x-python",
   "name": "python",
   "nbconvert_exporter": "python",
   "pygments_lexer": "ipython3",
   "version": "3.9.12"
  }
 },
 "nbformat": 4,
 "nbformat_minor": 5
}
