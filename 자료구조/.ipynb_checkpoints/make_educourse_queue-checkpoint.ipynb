{
 "cells": [
  {
   "cell_type": "markdown",
   "id": "6c8cc39f",
   "metadata": {},
   "source": [
    "## 교육과정 설계"
   ]
  },
  {
   "cell_type": "markdown",
   "id": "0b7bbd4a",
   "metadata": {},
   "source": [
    "필수과목은 반드시 이수해야 하며 그 순서도 정해져 있다.\n",
    "필수과목이 CBA 라고 한다면, 필수과목 순서가 CBDAGE라고 하면 맞고, CGEADB 라고 하면 잘못된 계획이다.\n",
    "\n",
    "맞으면 YES, 잘못된 계획이면 NO를 출력하는 프로그램을 작성하시오."
   ]
  },
  {
   "cell_type": "code",
   "execution_count": 42,
   "id": "8ad2b835",
   "metadata": {},
   "outputs": [],
   "source": [
    "from collections import deque"
   ]
  },
  {
   "cell_type": "code",
   "execution_count": 10,
   "id": "d4284385",
   "metadata": {},
   "outputs": [
    {
     "name": "stdout",
     "output_type": "stream",
     "text": [
      "CBA\n",
      "3\n",
      "CBDAGE\n",
      "FGCDAB\n",
      "CTSBDEA\n"
     ]
    }
   ],
   "source": [
    "ess = input()\n",
    "n = int(input())\n",
    "lst = [list(input()) for _ in range(n)]"
   ]
  },
  {
   "cell_type": "code",
   "execution_count": 39,
   "id": "7f352496",
   "metadata": {},
   "outputs": [
    {
     "name": "stdout",
     "output_type": "stream",
     "text": [
      "#1 YES\n",
      "#2 NO\n",
      "#3 YES\n"
     ]
    }
   ],
   "source": [
    "for i, val in enumerate(lst): # 테스트 케이스들을 i로 받아와 검사\n",
    "    tmp = ''\n",
    "    for j in val:\n",
    "        if j in ess:\n",
    "            tmp += j\n",
    "            \n",
    "    else:\n",
    "        if tmp == 'CBA':\n",
    "            res = 'YES'\n",
    "            print(f\"#{i+1} {res}\")\n",
    "        else:\n",
    "            res = 'NO'\n",
    "            print(f\"#{i+1} {res}\")"
   ]
  },
  {
   "cell_type": "markdown",
   "id": "607914a7",
   "metadata": {},
   "source": [
    "다른 방식(큐 사용)"
   ]
  },
  {
   "cell_type": "code",
   "execution_count": 43,
   "id": "11a630f8",
   "metadata": {},
   "outputs": [
    {
     "name": "stdout",
     "output_type": "stream",
     "text": [
      "CBA\n",
      "3\n",
      "CBDAGE\n",
      "#1 YES\n",
      "FGCDAB\n",
      "#2 NO\n",
      "CTSBDEA\n",
      "#3 YES\n"
     ]
    }
   ],
   "source": [
    "ess = input()\n",
    "n = int(input())\n",
    "for i in range(n):\n",
    "    lst = input()\n",
    "    dq = deque(ess)\n",
    "    for j in lst:\n",
    "        if j in dq:\n",
    "            if j != dq.popleft():\n",
    "                print(f\"#{i+1} NO\")\n",
    "                break\n",
    "    else:\n",
    "        if len(dq)==0:\n",
    "            print(f\"#{i+1} YES\")\n",
    "        else:\n",
    "            print(f\"#{i+1} NO\")"
   ]
  },
  {
   "cell_type": "code",
   "execution_count": null,
   "id": "7efc6005",
   "metadata": {},
   "outputs": [],
   "source": []
  }
 ],
 "metadata": {
  "kernelspec": {
   "display_name": "algo",
   "language": "python",
   "name": "algo"
  },
  "language_info": {
   "codemirror_mode": {
    "name": "ipython",
    "version": 3
   },
   "file_extension": ".py",
   "mimetype": "text/x-python",
   "name": "python",
   "nbconvert_exporter": "python",
   "pygments_lexer": "ipython3",
   "version": "3.9.12"
  }
 },
 "nbformat": 4,
 "nbformat_minor": 5
}
