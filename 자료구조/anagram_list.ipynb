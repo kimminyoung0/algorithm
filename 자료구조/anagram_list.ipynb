{
 "cells": [
  {
   "cell_type": "markdown",
   "id": "88d6affe",
   "metadata": {},
   "source": [
    "리스트, 아스키코드를 이용해 다른 방식으로 풀이"
   ]
  },
  {
   "cell_type": "code",
   "execution_count": null,
   "id": "2f2b403e",
   "metadata": {},
   "outputs": [],
   "source": [
    "a = input()\n",
    "b = input()\n",
    "a_lst = [0]*52\n",
    "b_lst = [0]*52\n",
    "\n",
    "for i in a:\n",
    "    if i.isupper(): #대문자라면 65빼준다.\n",
    "        a_lst[ord(i)-65] += 1 #ord: 문자를 아스키코드로 변환, \n",
    "    else: #소문자라면 71 빼준다.\n",
    "        a_lst[ord(i)-71] += 1\n",
    "for i in b:\n",
    "    if i.isupper():\n",
    "        b_lst[ord(i)-65] += 1\n",
    "    else:\n",
    "        b_lst[ord(i)-71] += 1\n",
    "        \n",
    "if a_lst == b_lst:\n",
    "    print('YES')\n",
    "else:\n",
    "    print('NO')"
   ]
  },
  {
   "cell_type": "markdown",
   "id": "ac4a2a7b",
   "metadata": {},
   "source": [
    "비교 다른 방식"
   ]
  },
  {
   "cell_type": "code",
   "execution_count": null,
   "id": "286a00d5",
   "metadata": {},
   "outputs": [],
   "source": [
    "for i in range(52):\n",
    "    if a_lst[i]!=b_lst[i]:\n",
    "        print('NO')\n",
    "        break\n",
    "else:\n",
    "    print('YES11')"
   ]
  },
  {
   "cell_type": "code",
   "execution_count": 1,
   "id": "54a06ce3",
   "metadata": {},
   "outputs": [
    {
     "data": {
      "text/plain": [
       "65"
      ]
     },
     "execution_count": 1,
     "metadata": {},
     "output_type": "execute_result"
    }
   ],
   "source": [
    "ord('A')"
   ]
  },
  {
   "cell_type": "code",
   "execution_count": 2,
   "id": "57dd5284",
   "metadata": {},
   "outputs": [
    {
     "data": {
      "text/plain": [
       "97"
      ]
     },
     "execution_count": 2,
     "metadata": {},
     "output_type": "execute_result"
    }
   ],
   "source": [
    "ord('a')"
   ]
  },
  {
   "cell_type": "code",
   "execution_count": 3,
   "id": "d8fac805",
   "metadata": {},
   "outputs": [
    {
     "data": {
      "text/plain": [
       "90"
      ]
     },
     "execution_count": 3,
     "metadata": {},
     "output_type": "execute_result"
    }
   ],
   "source": [
    "ord('Z')"
   ]
  },
  {
   "cell_type": "code",
   "execution_count": 4,
   "id": "c8618d0f",
   "metadata": {},
   "outputs": [
    {
     "data": {
      "text/plain": [
       "122"
      ]
     },
     "execution_count": 4,
     "metadata": {},
     "output_type": "execute_result"
    }
   ],
   "source": [
    "ord('z')"
   ]
  },
  {
   "cell_type": "code",
   "execution_count": null,
   "id": "78e2af6b",
   "metadata": {},
   "outputs": [],
   "source": []
  }
 ],
 "metadata": {
  "kernelspec": {
   "display_name": "algo",
   "language": "python",
   "name": "algo"
  },
  "language_info": {
   "codemirror_mode": {
    "name": "ipython",
    "version": 3
   },
   "file_extension": ".py",
   "mimetype": "text/x-python",
   "name": "python",
   "nbconvert_exporter": "python",
   "pygments_lexer": "ipython3",
   "version": "3.9.12"
  }
 },
 "nbformat": 4,
 "nbformat_minor": 5
}
