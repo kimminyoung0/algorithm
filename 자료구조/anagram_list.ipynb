{
 "cells": [
  {
   "cell_type": "markdown",
   "id": "477d81de",
   "metadata": {},
   "source": [
    "리스트, 아스키코드를 이용해 다른 방식으로 풀이"
   ]
  },
  {
   "cell_type": "code",
   "execution_count": null,
   "id": "4048346b",
   "metadata": {},
   "outputs": [],
   "source": [
    "a = input()\n",
    "b = input()\n",
    "a_lst = [0]*52\n",
    "b_lst = [0]*52\n",
    "\n",
    "for i in a:\n",
    "    if i.isupper(): #대문자라면 65빼준다.\n",
    "        a_lst[ord(i)-65] += 1 #ord: 문자를 아스키코드로 변환, \n",
    "    else: #소문자라면 71 빼준다.\n",
    "        a_lst[ord(i)-71] += 1\n",
    "for i in b:\n",
    "    if i.isupper():\n",
    "        b_lst[ord(i)-65] += 1\n",
    "    else:\n",
    "        b_lst[ord(i)-71] += 1\n",
    "        \n",
    "if a_lst == b_lst:\n",
    "    print('YES')\n",
    "else:\n",
    "    print('NO')"
   ]
  },
  {
   "cell_type": "code",
   "execution_count": 1,
   "id": "91d2d733",
   "metadata": {},
   "outputs": [
    {
     "data": {
      "text/plain": [
       "65"
      ]
     },
     "execution_count": 1,
     "metadata": {},
     "output_type": "execute_result"
    }
   ],
   "source": [
    "ord('A')"
   ]
  },
  {
   "cell_type": "code",
   "execution_count": 2,
   "id": "fef19cdd",
   "metadata": {},
   "outputs": [
    {
     "data": {
      "text/plain": [
       "97"
      ]
     },
     "execution_count": 2,
     "metadata": {},
     "output_type": "execute_result"
    }
   ],
   "source": [
    "ord('a')"
   ]
  },
  {
   "cell_type": "code",
   "execution_count": 3,
   "id": "ee6d7134",
   "metadata": {},
   "outputs": [
    {
     "data": {
      "text/plain": [
       "90"
      ]
     },
     "execution_count": 3,
     "metadata": {},
     "output_type": "execute_result"
    }
   ],
   "source": [
    "ord('Z')"
   ]
  },
  {
   "cell_type": "code",
   "execution_count": 4,
   "id": "e849c3c8",
   "metadata": {},
   "outputs": [
    {
     "data": {
      "text/plain": [
       "122"
      ]
     },
     "execution_count": 4,
     "metadata": {},
     "output_type": "execute_result"
    }
   ],
   "source": [
    "ord('z')"
   ]
  },
  {
   "cell_type": "code",
   "execution_count": null,
   "id": "bbe58f46",
   "metadata": {},
   "outputs": [],
   "source": []
  }
 ],
 "metadata": {
  "kernelspec": {
   "display_name": "algo",
   "language": "python",
   "name": "algo"
  },
  "language_info": {
   "codemirror_mode": {
    "name": "ipython",
    "version": 3
   },
   "file_extension": ".py",
   "mimetype": "text/x-python",
   "name": "python",
   "nbconvert_exporter": "python",
   "pygments_lexer": "ipython3",
   "version": "3.9.12"
  }
 },
 "nbformat": 4,
 "nbformat_minor": 5
}
