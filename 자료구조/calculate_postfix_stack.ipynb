{
 "cells": [
  {
   "cell_type": "markdown",
   "id": "02939c91",
   "metadata": {},
   "source": [
    "## 후위식 연산"
   ]
  },
  {
   "cell_type": "markdown",
   "id": "0b0c4883",
   "metadata": {},
   "source": [
    "후위연산식이 주어지면 연산한 결과를 출력하는 프로그램을 작성하시오."
   ]
  },
  {
   "cell_type": "code",
   "execution_count": 1,
   "id": "70bfbbc2",
   "metadata": {},
   "outputs": [
    {
     "name": "stdout",
     "output_type": "stream",
     "text": [
      "352+*9-\n"
     ]
    }
   ],
   "source": [
    "post = input()"
   ]
  },
  {
   "cell_type": "code",
   "execution_count": 20,
   "id": "a022d83f",
   "metadata": {},
   "outputs": [
    {
     "name": "stdout",
     "output_type": "stream",
     "text": [
      "12\n"
     ]
    }
   ],
   "source": [
    "stack = []\n",
    "\n",
    "for i in post:\n",
    "    if i.isdecimal():\n",
    "        stack.append(int(i))\n",
    "        #print(stack)\n",
    "    else:\n",
    "        cal = 0\n",
    "        if i == '*':\n",
    "            cal = stack.pop(-2)\n",
    "            cal *= stack.pop(-1)\n",
    "            stack.append(cal)\n",
    "        elif i == '/':\n",
    "            cal = stack.pop(-2)\n",
    "            cal /= stack.pop(-1)\n",
    "            stack.append(cal)\n",
    "        elif i == '+':\n",
    "            cal = stack.pop(-2)\n",
    "            cal += stack.pop(-1)\n",
    "            stack.append(cal)\n",
    "        elif i == '-':\n",
    "            cal = stack.pop(-2)\n",
    "            cal -= stack.pop(-1)\n",
    "            stack.append(cal)\n",
    "            \n",
    "print(stack[0])"
   ]
  }
 ],
 "metadata": {
  "kernelspec": {
   "display_name": "algo",
   "language": "python",
   "name": "algo"
  },
  "language_info": {
   "codemirror_mode": {
    "name": "ipython",
    "version": 3
   },
   "file_extension": ".py",
   "mimetype": "text/x-python",
   "name": "python",
   "nbconvert_exporter": "python",
   "pygments_lexer": "ipython3",
   "version": "3.9.12"
  }
 },
 "nbformat": 4,
 "nbformat_minor": 5
}
