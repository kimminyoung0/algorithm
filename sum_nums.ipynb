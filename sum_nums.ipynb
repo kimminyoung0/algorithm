{
 "cells": [
  {
   "cell_type": "markdown",
   "id": "1110608d",
   "metadata": {},
   "source": [
    "## 수들의 합"
   ]
  },
  {
   "cell_type": "markdown",
   "id": "e7814874",
   "metadata": {},
   "source": [
    "n개의 수로 된 수열 a[1], a[2], ... , a[n] 이 있다. \n",
    "\n",
    "이 수열의 i번째 수부터 j번째 수까지의 합 이 m이 되는 경우의 수를 구하는 프로그램을 작성하시오."
   ]
  },
  {
   "cell_type": "code",
   "execution_count": 4,
   "id": "324966a1",
   "metadata": {},
   "outputs": [],
   "source": [
    "import time"
   ]
  },
  {
   "cell_type": "code",
   "execution_count": 1,
   "id": "f816554a",
   "metadata": {},
   "outputs": [
    {
     "name": "stdout",
     "output_type": "stream",
     "text": [
      "8 3\n",
      "1 2 1 3 1 1 1 2\n"
     ]
    }
   ],
   "source": [
    "n, m = map(int, input().split())\n",
    "a_lst = list(map(int, input().split()))"
   ]
  },
  {
   "cell_type": "code",
   "execution_count": 5,
   "id": "8223658b",
   "metadata": {},
   "outputs": [
    {
     "name": "stdout",
     "output_type": "stream",
     "text": [
      "5\n",
      "0.0002880096435546875\n"
     ]
    }
   ],
   "source": [
    "s1 = time.time()\n",
    "p1 = 0\n",
    "sums = 0\n",
    "cnt = 0\n",
    "for _ in range(n):\n",
    "    for i in a_lst[p1:]:\n",
    "        sums += i\n",
    "        if sums == m:\n",
    "            cnt += 1\n",
    "            break\n",
    "    sums = 0\n",
    "    p1 += 1\n",
    "\n",
    "print(cnt)\n",
    "e1 = time.time()\n",
    "print(e1-s1)"
   ]
  },
  {
   "cell_type": "code",
   "execution_count": null,
   "id": "76620371",
   "metadata": {},
   "outputs": [],
   "source": []
  }
 ],
 "metadata": {
  "kernelspec": {
   "display_name": "algo",
   "language": "python",
   "name": "algo"
  },
  "language_info": {
   "codemirror_mode": {
    "name": "ipython",
    "version": 3
   },
   "file_extension": ".py",
   "mimetype": "text/x-python",
   "name": "python",
   "nbconvert_exporter": "python",
   "pygments_lexer": "ipython3",
   "version": "3.9.12"
  }
 },
 "nbformat": 4,
 "nbformat_minor": 5
}
