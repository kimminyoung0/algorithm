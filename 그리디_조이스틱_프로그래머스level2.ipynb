{
 "cells": [
  {
   "cell_type": "markdown",
   "id": "d173657f",
   "metadata": {},
   "source": [
    "\n",
    "## 문제 설명\n",
    "\n",
    "조이스틱으로 알파벳 이름을 완성하세요. 맨 처음엔 A로만 이루어져 있습니다.\n",
    "ex) 완성해야 하는 이름이 세 글자면 AAA, 네 글자면 AAAA\n",
    "\n",
    "> 조이스틱을 각 방향으로 움직이면 아래와 같습니다.\n",
    "- ▲ - 다음 알파벳\n",
    "- ▼ - 이전 알파벳 (A에서 아래쪽으로 이동하면 Z로)\n",
    "- ◀ - 커서를 왼쪽으로 이동 (첫 번째 위치에서 왼쪽으로 이동하면 마지막 문자에 커서)\n",
    "- ▶ - 커서를 오른쪽으로 이동 (마지막 위치에서 오른쪽으로 이동하면 첫 번째 문자에 커서)\n",
    "\n",
    "> 예를 들어 아래의 방법으로 \"JAZ\"를 만들 수 있습니다.\n",
    "- 첫 번째 위치에서 조이스틱을 위로 9번 조작하여 J를 완성합니다.\n",
    "- 조이스틱을 왼쪽으로 1번 조작하여 커서를 마지막 문자 위치로 이동시킵니다.\n",
    "- 마지막 위치에서 조이스틱을 아래로 1번 조작하여 Z를 완성합니다.\n",
    "따라서 11번 이동시켜 \"JAZ\"를 만들 수 있고, 이때가 최소 이동입니다."
   ]
  },
  {
   "cell_type": "code",
   "execution_count": 1,
   "id": "5af33a1f",
   "metadata": {},
   "outputs": [],
   "source": [
    "name = \"JEROEN\"\n",
    "name2 = \"JAN\""
   ]
  },
  {
   "cell_type": "code",
   "execution_count": 13,
   "id": "dfb4f60e",
   "metadata": {},
   "outputs": [],
   "source": [
    "def solution(name):\n",
    "    answer = 0\n",
    "    now = \"A\"\n",
    "    aLst = list('ABCDEFGHIJKLMNOPQRSTUVWXYZ')\n",
    "    aDct = {aLst[i]: i for i in range(len(aLst))} #비효율적\n",
    "    "
   ]
  },
  {
   "cell_type": "code",
   "execution_count": 21,
   "id": "73649689",
   "metadata": {},
   "outputs": [
    {
     "name": "stdout",
     "output_type": "stream",
     "text": [
      "11\n",
      "56\n",
      "23\n"
     ]
    }
   ],
   "source": [
    "def solution(name):\n",
    "    move_count = 0  # 알파벳 이동 횟수\n",
    "    length = len(name)\n",
    "    min_move = length - 1  # 커서 이동 횟수 (일단 끝까지 가는 경우로 초기화)\n",
    "\n",
    "    for i, char in enumerate(name):\n",
    "        move_count += min(ord(char) - ord('A'), ord('Z') - ord(char) + 1)\n",
    "\n",
    "        # 연속된 'A'가 있을 경우 우회 가능\n",
    "        next_idx = i + 1\n",
    "        while next_idx < length and name[next_idx] == 'A':\n",
    "            next_idx += 1\n",
    "            \n",
    "        min_move = min(min_move, 2 * i + length - next_idx, i + 2 * (length - next_idx))\n",
    "\n",
    "    return move_count + min_move\n",
    "\n",
    "# 예제 실행\n",
    "print(solution(\"JAZ\"))  # 11\n",
    "print(solution(\"JEROEN\"))  # 56\n",
    "print(solution(\"JAN\"))  # 23\n"
   ]
  },
  {
   "cell_type": "code",
   "execution_count": 22,
   "id": "592021aa",
   "metadata": {},
   "outputs": [
    {
     "data": {
      "text/plain": [
       "23"
      ]
     },
     "execution_count": 22,
     "metadata": {},
     "output_type": "execute_result"
    }
   ],
   "source": [
    "solution(name2)"
   ]
  },
  {
   "cell_type": "code",
   "execution_count": 15,
   "id": "f33494f0",
   "metadata": {},
   "outputs": [
    {
     "data": {
      "text/plain": [
       "65"
      ]
     },
     "execution_count": 15,
     "metadata": {},
     "output_type": "execute_result"
    }
   ],
   "source": [
    "ord('A')"
   ]
  },
  {
   "cell_type": "code",
   "execution_count": 20,
   "id": "61dac05a",
   "metadata": {},
   "outputs": [
    {
     "data": {
      "text/plain": [
       "90"
      ]
     },
     "execution_count": 20,
     "metadata": {},
     "output_type": "execute_result"
    }
   ],
   "source": [
    "ord('Z')"
   ]
  },
  {
   "cell_type": "code",
   "execution_count": null,
   "id": "78656c3c",
   "metadata": {},
   "outputs": [],
   "source": []
  }
 ],
 "metadata": {
  "kernelspec": {
   "display_name": "algo",
   "language": "python",
   "name": "algo"
  },
  "language_info": {
   "codemirror_mode": {
    "name": "ipython",
    "version": 3
   },
   "file_extension": ".py",
   "mimetype": "text/x-python",
   "name": "python",
   "nbconvert_exporter": "python",
   "pygments_lexer": "ipython3",
   "version": "3.9.12"
  }
 },
 "nbformat": 4,
 "nbformat_minor": 5
}
