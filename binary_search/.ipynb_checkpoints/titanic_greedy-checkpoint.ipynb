{
 "cells": [
  {
   "cell_type": "markdown",
   "id": "d9aa1ed9",
   "metadata": {},
   "source": [
    "## 침몰하는 타이타닉(그리디)"
   ]
  },
  {
   "cell_type": "markdown",
   "id": "e2fe7a69",
   "metadata": {},
   "source": [
    "n명의 승객이 타고 있는데, 구명보트는 2명 이하로만 탈 수 있고, 보트 한 개에 탈 수 있는 총 무게는 mkg이하로 제한되어 있다.\n",
    "\n",
    "n명의 승객 몸무게가 주어졌을 때, 승객 모두가 탈출하기 위한 구명 보트의 최소개수를 출력하는 프로그램을 작성하세요."
   ]
  },
  {
   "cell_type": "code",
   "execution_count": null,
   "id": "4d2ca59d",
   "metadata": {},
   "outputs": [],
   "source": [
    "5 140\n",
    "90 50 80 100 60"
   ]
  },
  {
   "cell_type": "code",
   "execution_count": 41,
   "id": "0545f1bb",
   "metadata": {},
   "outputs": [
    {
     "name": "stdout",
     "output_type": "stream",
     "text": [
      "5 140\n",
      "90 50 80 100 60\n"
     ]
    }
   ],
   "source": [
    "n, m =map(int,input().split()) #4명의 승객, 한 배에 140kg 으로 제한\n",
    "wei_lst = list(map(int, input().split()))"
   ]
  },
  {
   "cell_type": "code",
   "execution_count": 42,
   "id": "14f8866f",
   "metadata": {},
   "outputs": [
    {
     "data": {
      "text/plain": [
       "[0, 100, 90, 80, 60, 50]"
      ]
     },
     "execution_count": 42,
     "metadata": {},
     "output_type": "execute_result"
    }
   ],
   "source": [
    "wei_lst = sorted(wei_lst, reverse = True)\n",
    "wei_lst.insert(0,0)\n",
    "wei_lst"
   ]
  },
  {
   "cell_type": "code",
   "execution_count": 43,
   "id": "95d5a87c",
   "metadata": {},
   "outputs": [
    {
     "name": "stdout",
     "output_type": "stream",
     "text": [
      "90 50\n",
      "80 60\n",
      "3\n"
     ]
    }
   ],
   "source": [
    "cnt = 0\n",
    "\n",
    "for i in range(1, n+1):\n",
    "    chn = False\n",
    "    for j in range(1, n-i+1):\n",
    "        if wei_lst[i] + wei_lst[i+j] <= 140:\n",
    "            cnt += 1\n",
    "            chn = True\n",
    "            #print(wei_lst[i], wei_lst[i+j])\n",
    "            wei_lst[i] = 1000000\n",
    "            wei_lst[i+j] = 1000000\n",
    "            \n",
    "        else:\n",
    "            continue\n",
    "\n",
    "    if chn == False and wei_lst[i] != 1000000:\n",
    "        cnt += 1\n",
    "print(cnt)"
   ]
  },
  {
   "cell_type": "code",
   "execution_count": null,
   "id": "698b0a2a",
   "metadata": {},
   "outputs": [],
   "source": []
  }
 ],
 "metadata": {
  "kernelspec": {
   "display_name": "algo",
   "language": "python",
   "name": "algo"
  },
  "language_info": {
   "codemirror_mode": {
    "name": "ipython",
    "version": 3
   },
   "file_extension": ".py",
   "mimetype": "text/x-python",
   "name": "python",
   "nbconvert_exporter": "python",
   "pygments_lexer": "ipython3",
   "version": "3.9.12"
  }
 },
 "nbformat": 4,
 "nbformat_minor": 5
}
