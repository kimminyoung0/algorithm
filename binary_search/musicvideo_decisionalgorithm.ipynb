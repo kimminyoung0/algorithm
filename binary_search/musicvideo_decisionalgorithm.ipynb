{
 "cells": [
  {
   "cell_type": "markdown",
   "id": "8d649fdd",
   "metadata": {},
   "source": [
    "## 뮤직비디오(결정알고리즘)"
   ]
  },
  {
   "cell_type": "markdown",
   "id": "51a8b99c",
   "metadata": {},
   "source": [
    "DVD에는 총 n개의 곡이 들어가는데, DVD에 녹화할 때에는 라이브에서의 순서가 그대로 유지되어야 한다. \n",
    "\n",
    "m개의 DVD에 모든 동영상을 녹화하기로 하였다. 이 때, DVD의 크기를 최소로 하려고 한다. m개의 DVD는 모두 같은 크기여야 한다.\n",
    "\n",
    "이 때, DVD 영상의 최소용량 크기를 출력하시오."
   ]
  },
  {
   "cell_type": "code",
   "execution_count": 1,
   "id": "0aafa530",
   "metadata": {},
   "outputs": [
    {
     "name": "stdout",
     "output_type": "stream",
     "text": [
      "9 3\n",
      "1 2 3 4 5 6 7 8 9\n"
     ]
    }
   ],
   "source": [
    "n, m = map(int,input().split()) #9개 곡을 3개의 칸으로 나눈다. 최소용량을 구하라\n",
    "song = list(map(int, input().split()))"
   ]
  },
  {
   "cell_type": "code",
   "execution_count": 2,
   "id": "791b01fc",
   "metadata": {},
   "outputs": [
    {
     "name": "stdout",
     "output_type": "stream",
     "text": [
      "17\n"
     ]
    }
   ],
   "source": [
    "#최소 용량을 rt과 lt로 잡고 가기 sum(song)//m부터 sum(song)까지\n",
    "res = 0\n",
    "max_song = max(song)\n",
    "lt = sum(song)//3  #15\n",
    "rt = sum(song)     #45\n",
    "\n",
    "def Count(mid):\n",
    "    cnt = 1\n",
    "    sum = 0\n",
    "    for x in song:\n",
    "        if sum + x > mid:\n",
    "            cnt += 1\n",
    "            sum = x\n",
    "        else:\n",
    "            sum += x\n",
    "    return cnt\n",
    "\n",
    "while lt <= rt:\n",
    "    mid = (lt+rt)//2\n",
    "    if mid >= max_song and Count(mid) <= m: #Count함수는 mid로 최소용량을 잡았을 때 몇 묶음이 필요한지 반환해주는 함수\n",
    "        res = mid\n",
    "        rt = mid-1\n",
    "    else:\n",
    "        lt = mid+1\n",
    "\n",
    "print(res)"
   ]
  }
 ],
 "metadata": {
  "kernelspec": {
   "display_name": "algo",
   "language": "python",
   "name": "algo"
  },
  "language_info": {
   "codemirror_mode": {
    "name": "ipython",
    "version": 3
   },
   "file_extension": ".py",
   "mimetype": "text/x-python",
   "name": "python",
   "nbconvert_exporter": "python",
   "pygments_lexer": "ipython3",
   "version": "3.9.12"
  }
 },
 "nbformat": 4,
 "nbformat_minor": 5
}
