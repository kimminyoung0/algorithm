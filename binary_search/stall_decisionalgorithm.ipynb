{
 "cells": [
  {
   "cell_type": "markdown",
   "id": "67fa20a1",
   "metadata": {},
   "source": [
    "## 마구간 정하기(결정알고리즘)"
   ]
  },
  {
   "cell_type": "markdown",
   "id": "97a81e0a",
   "metadata": {},
   "source": [
    "n개의 마구간이 있고, c마리의 말이 있다. \n",
    "\n",
    "각 마구간에는 한 마리의 말만 넣을 수 있고, 가장 가까운 두 말의 거리가 최대가 되게 말을 마구간에 배치.\n",
    "\n",
    "가장 가까운 두 말의 거리가 최대가 되는 그 최대 값을 출력하는 프로그램을 작성하시오"
   ]
  },
  {
   "cell_type": "code",
   "execution_count": 2,
   "id": "b6c3660a",
   "metadata": {},
   "outputs": [
    {
     "name": "stdout",
     "output_type": "stream",
     "text": [
      "5 3\n",
      "1\n",
      "2\n",
      "8\n",
      "4\n",
      "9\n"
     ]
    }
   ],
   "source": [
    "n, c = map(int, input().split())\n",
    "p_lst = sorted([int(input()) for _ in range(n)])"
   ]
  },
  {
   "cell_type": "code",
   "execution_count": 6,
   "id": "a20ad73d",
   "metadata": {},
   "outputs": [
    {
     "name": "stdout",
     "output_type": "stream",
     "text": [
      "3\n"
     ]
    }
   ],
   "source": [
    "#기준점이 가장 가까운 두 말의 최대 거리가 될 수 있는지 확인.\n",
    "def check(mid, lst):\n",
    "    cnt = 1\n",
    "    pnt = lst[0]\n",
    "    for i in range(1, n):\n",
    "        if lst[i] - pnt >= mid:\n",
    "            cnt += 1\n",
    "            pnt = lst[i]\n",
    "    return cnt\n",
    "                \n",
    "lt = 1\n",
    "rt = max(p_lst)\n",
    "\n",
    "while lt <= rt:\n",
    "    mid = (lt+rt)//2\n",
    "    if check(mid, p_lst) >= c:\n",
    "        res = mid\n",
    "        lt = mid+1\n",
    "    else:\n",
    "        rt = mid-1\n",
    "print(res)\n",
    "    "
   ]
  }
 ],
 "metadata": {
  "kernelspec": {
   "display_name": "algo",
   "language": "python",
   "name": "algo"
  },
  "language_info": {
   "codemirror_mode": {
    "name": "ipython",
    "version": 3
   },
   "file_extension": ".py",
   "mimetype": "text/x-python",
   "name": "python",
   "nbconvert_exporter": "python",
   "pygments_lexer": "ipython3",
   "version": "3.9.12"
  }
 },
 "nbformat": 4,
 "nbformat_minor": 5
}
