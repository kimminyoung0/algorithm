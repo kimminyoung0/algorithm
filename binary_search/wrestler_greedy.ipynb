{
 "cells": [
  {
   "cell_type": "markdown",
   "id": "adec7a7c",
   "metadata": {},
   "source": [
    "## 씨름선수(그리디)"
   ]
  },
  {
   "cell_type": "markdown",
   "id": "ff3368b4",
   "metadata": {},
   "source": [
    "n명의 지원자가 있는데, 키와 몸무게가 주어진다\n",
    "\n",
    "키와 몸무게 중 적어도 하나는 다른 지원자보다 커야한다.\n",
    "\n",
    "키와 몸무게가 모두 작은 경우엔 해당 지원자를 뽑지 않는다. "
   ]
  },
  {
   "cell_type": "code",
   "execution_count": 2,
   "id": "c9841483",
   "metadata": {},
   "outputs": [
    {
     "name": "stdout",
     "output_type": "stream",
     "text": [
      "5\n",
      "172 67\n",
      "183 65\n",
      "180 70\n",
      "170 72\n",
      "181 60\n"
     ]
    }
   ],
   "source": [
    "n = int(input())\n",
    "lst = [list(map(int, input().split())) for i in range(n)]"
   ]
  },
  {
   "cell_type": "code",
   "execution_count": 17,
   "id": "00642e0b",
   "metadata": {},
   "outputs": [],
   "source": [
    "lst_h = sorted(lst, key = lambda x:x[0], reverse = True)"
   ]
  },
  {
   "cell_type": "code",
   "execution_count": 21,
   "id": "4b2335ca",
   "metadata": {},
   "outputs": [
    {
     "name": "stdout",
     "output_type": "stream",
     "text": [
      "3\n"
     ]
    }
   ],
   "source": [
    "cnt = 0\n",
    "minw = -100000\n",
    "for i in lst_h:\n",
    "    if i[1] > minw:\n",
    "        cnt += 1\n",
    "        minw = i[1]\n",
    "print(cnt)"
   ]
  }
 ],
 "metadata": {
  "kernelspec": {
   "display_name": "algo",
   "language": "python",
   "name": "algo"
  },
  "language_info": {
   "codemirror_mode": {
    "name": "ipython",
    "version": 3
   },
   "file_extension": ".py",
   "mimetype": "text/x-python",
   "name": "python",
   "nbconvert_exporter": "python",
   "pygments_lexer": "ipython3",
   "version": "3.9.12"
  }
 },
 "nbformat": 4,
 "nbformat_minor": 5
}
