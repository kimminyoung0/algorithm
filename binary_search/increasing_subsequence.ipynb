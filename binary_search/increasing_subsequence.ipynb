{
 "cells": [
  {
   "cell_type": "markdown",
   "id": "6f428065",
   "metadata": {},
   "source": [
    "## 증가수열 만들기(그리디)"
   ]
  },
  {
   "cell_type": "markdown",
   "id": "0d1fe40c",
   "metadata": {},
   "source": [
    "1부터 n까지의 의 수열이 있는데, 왼쪽 맨 끝 숫자 또는 오른쪽 맨 끝 숫자 중 하나를 가져와 나열하여 가장 긴 증가수열을 만든다.\n",
    "\n",
    "첫째 줄에는 최대 증가수열의 길이 출력\n",
    "둘째 줄에는 왼쪽 끝에서 가져갔으면 \"L\", 아니면 \"R\" 등의 문자열을 출력한다.(마지막에 남은 값은 왼쪽끝으로 생각)"
   ]
  },
  {
   "cell_type": "code",
   "execution_count": 36,
   "id": "2fea3a83",
   "metadata": {},
   "outputs": [],
   "source": [
    "import time"
   ]
  },
  {
   "cell_type": "code",
   "execution_count": null,
   "id": "86ba0e37",
   "metadata": {},
   "outputs": [],
   "source": [
    "5\n",
    "2 4 5 1 3\n",
    "\n",
    "7\n",
    "1 3 5 6 7 4 2"
   ]
  },
  {
   "cell_type": "code",
   "execution_count": 37,
   "id": "2d729338",
   "metadata": {},
   "outputs": [
    {
     "name": "stdout",
     "output_type": "stream",
     "text": [
      "7\n",
      "1 3 5 6 7 4 2\n",
      "7\n",
      "LRLRLLL\n",
      "7.3794519901275635\n"
     ]
    }
   ],
   "source": [
    "s1 = time.time()\n",
    "n = int(input())\n",
    "nums = list(map(int, input().split()))\n",
    "answer = []\n",
    "lr = []\n",
    "###\n",
    "for i in range(n):\n",
    "    if i == 0:\n",
    "        if nums[0] <= nums[len(nums)-1]:\n",
    "            tmp = nums.pop(0)\n",
    "            answer.append(tmp)\n",
    "            lr.append(\"L\")\n",
    "        else:\n",
    "            tmp = nums.pop(len(nums)-1)\n",
    "            answer.append(tmp)\n",
    "            lr.append(\"R\")\n",
    "    else:\n",
    "        if nums[0] == answer[len(answer)-1] + 1:\n",
    "            tmp = nums.pop(0)\n",
    "            answer.append(tmp)\n",
    "            lr.append(\"L\")\n",
    "        elif nums[len(nums)-1] == answer[len(answer)-1] + 1:\n",
    "            tmp = nums.pop(len(nums)-1)\n",
    "            answer.append(tmp)\n",
    "            lr.append(\"R\")\n",
    "        else:\n",
    "            break\n",
    "            \n",
    "\n",
    "#print(len(answer), answer)\n",
    "print(len(answer))\n",
    "print(\"\".join(lr))  \n",
    "e1 = time.time()\n",
    "print(e1-s1)"
   ]
  },
  {
   "cell_type": "markdown",
   "id": "75065a28",
   "metadata": {},
   "source": [
    "다른 방식"
   ]
  },
  {
   "cell_type": "code",
   "execution_count": 38,
   "id": "1505b0ed",
   "metadata": {},
   "outputs": [
    {
     "name": "stdout",
     "output_type": "stream",
     "text": [
      "7\n",
      "1 3 5 6 7 4 2\n",
      "7\n",
      "LRLRLLL\n",
      "5.9266932010650635\n"
     ]
    }
   ],
   "source": [
    "s2 = time.time()\n",
    "n = int(input())\n",
    "nums = list(map(int, input().split()))\n",
    "lt = 0\n",
    "rt = n-1\n",
    "last = 0\n",
    "res = \"\"\n",
    "tmp = []\n",
    "while lt <= rt:\n",
    "    if nums[lt] > last:\n",
    "        tmp.append((nums[lt], 'L'))\n",
    "    if nums[rt] > last:\n",
    "        tmp.append((nums[rt], 'R'))\n",
    "    tmp.sort()\n",
    "    if len(tmp) == 0:\n",
    "        break\n",
    "    else:\n",
    "        res = res+tmp[0][1]\n",
    "        last = tmp[0][0]\n",
    "        if tmp[0][1] == 'L':\n",
    "            lt += 1\n",
    "        else:\n",
    "            rt -= 1\n",
    "    tmp.clear()\n",
    "print(len(res))\n",
    "print(res)\n",
    "e2 = time.time()\n",
    "print(e2-s2)"
   ]
  },
  {
   "cell_type": "code",
   "execution_count": null,
   "id": "33f48943",
   "metadata": {},
   "outputs": [],
   "source": []
  }
 ],
 "metadata": {
  "kernelspec": {
   "display_name": "algo",
   "language": "python",
   "name": "algo"
  },
  "language_info": {
   "codemirror_mode": {
    "name": "ipython",
    "version": 3
   },
   "file_extension": ".py",
   "mimetype": "text/x-python",
   "name": "python",
   "nbconvert_exporter": "python",
   "pygments_lexer": "ipython3",
   "version": "3.9.12"
  }
 },
 "nbformat": 4,
 "nbformat_minor": 5
}
