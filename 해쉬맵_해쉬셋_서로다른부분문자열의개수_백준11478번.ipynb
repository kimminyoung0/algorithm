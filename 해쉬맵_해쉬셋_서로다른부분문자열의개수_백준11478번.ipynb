{
 "cells": [
  {
   "cell_type": "markdown",
   "id": "63578576",
   "metadata": {},
   "source": [
    "### 문제 설명\n",
    "- 주어진 문자열 s의 서로 다른 부분 문자열 개수를 구하라.\n",
    "- 부분 문자열이란 연속된 문자들의 일부를 의미한다.\n",
    "- 예를 들어, \"ababc\"의 부분 문자열은 \"a\", \"ab\", \"b\", \"ba\", \"c\", \"ababc\" 등이 있다.\n",
    "- 같은 부분 문자열은 한 번만 세어야 한다."
   ]
  },
  {
   "cell_type": "code",
   "execution_count": 2,
   "id": "a43a7cd4",
   "metadata": {},
   "outputs": [],
   "source": [
    "s = \"ababc\""
   ]
  },
  {
   "cell_type": "code",
   "execution_count": 3,
   "id": "e9ecfa4c",
   "metadata": {},
   "outputs": [],
   "source": [
    "def count(text):\n",
    "    cnt = 0\n",
    "    hash_map = {}\n",
    "    \n",
    "    subtext = \"\"\n",
    "    for i in range(0, len(text)):\n",
    "        for j in range(i+1, len(text)+1):\n",
    "            subtext = text[i:j]\n",
    "            if subtext in hash_map:\n",
    "                hash_map[subtext] += 1\n",
    "            else:\n",
    "                hash_map[subtext] = 0\n",
    "        \n",
    "    return len(hash_map)"
   ]
  },
  {
   "cell_type": "markdown",
   "id": "e17f5014",
   "metadata": {},
   "source": [
    "text[0:1] text[0:2] text[0:3] text[0:4] text[0:5]\n",
    "text[1:2] text[1:3] text[1:4] text[1:5]\n",
    "text[2:3] text[2:4] text[2:5]\n",
    "text[3:4] text[3:5]\n",
    "text[4:5]"
   ]
  },
  {
   "cell_type": "markdown",
   "id": "d3a51efc",
   "metadata": {},
   "source": [
    "해쉬맵이 아닌 해쉬셋으로 하면 더 좋다!"
   ]
  },
  {
   "cell_type": "code",
   "execution_count": 5,
   "id": "cb371802",
   "metadata": {},
   "outputs": [],
   "source": [
    "def count1(text):\n",
    "    hash_set = set()\n",
    "    \n",
    "    for i in range(0, len(text)):\n",
    "        for j in range(i+1, len(text)+1):\n",
    "            hash_set.add(text[i:j])\n",
    "        \n",
    "    return len(hash_set)"
   ]
  },
  {
   "cell_type": "code",
   "execution_count": 6,
   "id": "24103ef0",
   "metadata": {},
   "outputs": [
    {
     "name": "stdout",
     "output_type": "stream",
     "text": [
      "12\n",
      "4\n"
     ]
    }
   ],
   "source": [
    "print(count1(\"ababc\"))  # 12\n",
    "print(count1(\"aaaa\"))   # 4 (\"a\", \"aa\", \"aaa\", \"aaaa\")"
   ]
  },
  {
   "cell_type": "code",
   "execution_count": null,
   "id": "013da9c3",
   "metadata": {},
   "outputs": [],
   "source": []
  }
 ],
 "metadata": {
  "kernelspec": {
   "display_name": "algo",
   "language": "python",
   "name": "algo"
  },
  "language_info": {
   "codemirror_mode": {
    "name": "ipython",
    "version": 3
   },
   "file_extension": ".py",
   "mimetype": "text/x-python",
   "name": "python",
   "nbconvert_exporter": "python",
   "pygments_lexer": "ipython3",
   "version": "3.9.12"
  }
 },
 "nbformat": 4,
 "nbformat_minor": 5
}
