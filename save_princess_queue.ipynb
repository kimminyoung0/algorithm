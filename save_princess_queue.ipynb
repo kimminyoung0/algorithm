{
 "cells": [
  {
   "cell_type": "markdown",
   "id": "f1fdf370",
   "metadata": {},
   "source": [
    "## 공주 구하기(큐 자료구조)"
   ]
  },
  {
   "cell_type": "markdown",
   "id": "4232a6d4",
   "metadata": {},
   "source": [
    "popleft appendleft ////////popright appendright "
   ]
  },
  {
   "cell_type": "code",
   "execution_count": 1,
   "id": "6e8812a7",
   "metadata": {},
   "outputs": [],
   "source": [
    "from collections import deque"
   ]
  },
  {
   "cell_type": "code",
   "execution_count": 4,
   "id": "ab531c67",
   "metadata": {},
   "outputs": [],
   "source": [
    "def solution (n, k):\n",
    "    dq = list(range(1, n+1))\n",
    "    dq = deque(dq)\n",
    "    while dq: #q가 자료가 남아있다면 계속 돈다\n",
    "        for _ in range(k-1): #_언더바로 하면 변수 없이 반복문 돈다\n",
    "            cur = dq.popleft()\n",
    "            dq.append(cur)\n",
    "        #세번째 사람\n",
    "        dq.popleft()\n",
    "        if len(dq)==1:\n",
    "            print(dq[0])\n",
    "            dq.popleft()"
   ]
  },
  {
   "cell_type": "code",
   "execution_count": 5,
   "id": "a2e6135d",
   "metadata": {},
   "outputs": [
    {
     "name": "stdout",
     "output_type": "stream",
     "text": [
      "7\n"
     ]
    }
   ],
   "source": [
    "solution(8, 3)"
   ]
  },
  {
   "cell_type": "code",
   "execution_count": null,
   "id": "37c59d8e",
   "metadata": {},
   "outputs": [],
   "source": []
  },
  {
   "cell_type": "code",
   "execution_count": null,
   "id": "4b6bc4e4",
   "metadata": {},
   "outputs": [],
   "source": []
  }
 ],
 "metadata": {
  "kernelspec": {
   "display_name": "algo",
   "language": "python",
   "name": "algo"
  },
  "language_info": {
   "codemirror_mode": {
    "name": "ipython",
    "version": 3
   },
   "file_extension": ".py",
   "mimetype": "text/x-python",
   "name": "python",
   "nbconvert_exporter": "python",
   "pygments_lexer": "ipython3",
   "version": "3.9.12"
  }
 },
 "nbformat": 4,
 "nbformat_minor": 5
}
