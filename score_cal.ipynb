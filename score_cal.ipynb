{
 "cells": [
  {
   "cell_type": "markdown",
   "id": "97024b02",
   "metadata": {},
   "source": [
    "## 점수계산"
   ]
  },
  {
   "cell_type": "markdown",
   "id": "83e99f9c",
   "metadata": {},
   "source": [
    "1이 연속되면 ans 리스트의 숫자를 변환하자!"
   ]
  },
  {
   "cell_type": "code",
   "execution_count": 11,
   "id": "d71bb125",
   "metadata": {},
   "outputs": [
    {
     "name": "stdout",
     "output_type": "stream",
     "text": [
      "10\n"
     ]
    }
   ],
   "source": [
    "n = int(input())"
   ]
  },
  {
   "cell_type": "code",
   "execution_count": 12,
   "id": "53ae4fac",
   "metadata": {},
   "outputs": [
    {
     "name": "stdout",
     "output_type": "stream",
     "text": [
      "1 0 1 1 1 0 0 1 1 0\n"
     ]
    }
   ],
   "source": [
    "ans = list(map(int, (input().split())))"
   ]
  },
  {
   "cell_type": "code",
   "execution_count": 13,
   "id": "85bf4cc8",
   "metadata": {},
   "outputs": [
    {
     "name": "stdout",
     "output_type": "stream",
     "text": [
      "[1, 0, 1, 2, 3, 0, 0, 1, 2, 0]\n",
      "10\n"
     ]
    }
   ],
   "source": [
    "isRight = False\n",
    "for i in range(n):\n",
    "    if ans[i] == 1:\n",
    "        if isRight == True:\n",
    "            ans[i] = ans[i-1] + 1\n",
    "        isRight = True\n",
    "    else:\n",
    "        isRight = False\n",
    "\n",
    "print(ans) \n",
    "score = 0\n",
    "for i in ans:\n",
    "    score += i\n",
    "print(score)\n",
    "    "
   ]
  },
  {
   "cell_type": "code",
   "execution_count": null,
   "id": "9073d75b",
   "metadata": {},
   "outputs": [],
   "source": []
  },
  {
   "cell_type": "code",
   "execution_count": null,
   "id": "45b2318f",
   "metadata": {},
   "outputs": [],
   "source": []
  }
 ],
 "metadata": {
  "kernelspec": {
   "display_name": "algo",
   "language": "python",
   "name": "algo"
  },
  "language_info": {
   "codemirror_mode": {
    "name": "ipython",
    "version": 3
   },
   "file_extension": ".py",
   "mimetype": "text/x-python",
   "name": "python",
   "nbconvert_exporter": "python",
   "pygments_lexer": "ipython3",
   "version": "3.9.12"
  }
 },
 "nbformat": 4,
 "nbformat_minor": 5
}
