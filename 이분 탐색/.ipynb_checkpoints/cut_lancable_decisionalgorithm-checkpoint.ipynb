{
 "cells": [
  {
   "cell_type": "markdown",
   "id": "20812e2c",
   "metadata": {},
   "source": [
    "## 랜선 자르기(결정 알고리즘)"
   ]
  },
  {
   "cell_type": "markdown",
   "id": "bf06a2b3",
   "metadata": {},
   "source": [
    "k개의 랜선을 가지고 있다. k개의 랜선은 길이가 제각각이다. 선생님은 랜선을 모두 n개의 같은 길이의 랜선으로 만들고 싶었기 때문에 k개의 랜선을 잘라서 만든다.\n",
    "\n",
    "n개보다 많이 만드는 것도 n개를 만드는 것에 포함된다. 이때, 만들 수 있는 최대 랜선의 길이를 구하는 프로그램을 작성하시오."
   ]
  },
  {
   "cell_type": "code",
   "execution_count": 16,
   "id": "c0cee611",
   "metadata": {},
   "outputs": [],
   "source": [
    "import time"
   ]
  },
  {
   "cell_type": "code",
   "execution_count": 18,
   "id": "991c7fb4",
   "metadata": {},
   "outputs": [
    {
     "name": "stdout",
     "output_type": "stream",
     "text": [
      "4 11\n",
      "802\n",
      "743\n",
      "457\n",
      "539\n",
      "200\n",
      "16.256356954574585\n"
     ]
    }
   ],
   "source": [
    "s1 = time.time()\n",
    "k, n = map(int,input().split()) #총 k개의 랜선이 있는데, 제각각이고, n개의 랜선으로 나누고 싶음\n",
    "lan = [int(input()) for _ in range(k)]\n",
    "cut = 0\n",
    "stn = sum(lan)//n\n",
    "for i in range(stn,0,-1):\n",
    "    for j in lan:\n",
    "        cut += j//i\n",
    "    if cut == n:\n",
    "        cut = i\n",
    "        break\n",
    "    cut = 0\n",
    "print(cut)\n",
    "e1 = time.time()\n",
    "print(e1-s1)"
   ]
  },
  {
   "cell_type": "markdown",
   "id": "6f57a145",
   "metadata": {},
   "source": [
    "이진탐색으로 푼다면"
   ]
  },
  {
   "cell_type": "code",
   "execution_count": 22,
   "id": "b22c2d2e",
   "metadata": {},
   "outputs": [
    {
     "name": "stdout",
     "output_type": "stream",
     "text": [
      "4 11\n",
      "802\n",
      "743\n",
      "457\n",
      "539\n",
      "200\n",
      "17.08064889907837\n"
     ]
    }
   ],
   "source": [
    "s2 = time.time()\n",
    "\n",
    "def Count(len):\n",
    "    cnt = 0\n",
    "    for x in line:\n",
    "        cnt += (x//len)\n",
    "    return cnt\n",
    "\n",
    "k, n = map(int,input().split())\n",
    "line = [int(input()) for _ in range(k)]\n",
    "res = 0\n",
    "largest=max(line)\n",
    "\n",
    "lt = 1\n",
    "rt = largest\n",
    "while lt<=rt:\n",
    "    mid = (lt+rt)//2\n",
    "    if Count(mid) >= n:\n",
    "        res = mid\n",
    "        lt = mid + 1\n",
    "    else:\n",
    "        rt = mid - 1 \n",
    "print(res)\n",
    "e2 = time.time()\n",
    "print(e2-s2)"
   ]
  }
 ],
 "metadata": {
  "kernelspec": {
   "display_name": "algo",
   "language": "python",
   "name": "algo"
  },
  "language_info": {
   "codemirror_mode": {
    "name": "ipython",
    "version": 3
   },
   "file_extension": ".py",
   "mimetype": "text/x-python",
   "name": "python",
   "nbconvert_exporter": "python",
   "pygments_lexer": "ipython3",
   "version": "3.9.12"
  }
 },
 "nbformat": 4,
 "nbformat_minor": 5
}
