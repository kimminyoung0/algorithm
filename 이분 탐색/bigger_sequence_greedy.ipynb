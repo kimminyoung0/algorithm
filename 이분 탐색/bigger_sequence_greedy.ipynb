{
 "cells": [
  {
   "cell_type": "markdown",
   "id": "88858d18",
   "metadata": {},
   "source": [
    "## 역수열(그리디)"
   ]
  },
  {
   "cell_type": "markdown",
   "id": "dc04a4cc",
   "metadata": {},
   "source": [
    "1부터 n까지의 수를 한번씩만 사용하여 이루어진 수열이 있을 때, \n",
    "1부터 n까지 각각의 수 앞에 높여 있는 자신보다 큰 수 들의 개수를 수열로 표현한 것을 역수열이라고 한다.\n",
    "\n",
    "4 8 6 2 5 1 3 7의 경우, 1앞에는 5개, 2 앞에는 3개, 3 앞에는 4개,,,\n",
    "\n",
    "역수열은 5 3 4 0 2 1 1 0 이 된다.\n",
    "\n",
    "역수열이 주어졌을 때, 원래의 수열을 출력하는 프로그램을 작성하시오."
   ]
  },
  {
   "cell_type": "code",
   "execution_count": null,
   "id": "75227241",
   "metadata": {},
   "outputs": [],
   "source": [
    "8\n",
    "5 3 4 0 2 1 1 0"
   ]
  },
  {
   "cell_type": "code",
   "execution_count": 19,
   "id": "bc1f72be",
   "metadata": {},
   "outputs": [
    {
     "name": "stdout",
     "output_type": "stream",
     "text": [
      "8\n",
      "5 3 4 0 2 1 1 0\n"
     ]
    }
   ],
   "source": [
    "n = int(input())\n",
    "seq = list(map(int, input().split()))"
   ]
  },
  {
   "cell_type": "code",
   "execution_count": 31,
   "id": "83eec7ab",
   "metadata": {},
   "outputs": [
    {
     "name": "stdout",
     "output_type": "stream",
     "text": [
      "4 8 6 2 5 1 3 7 "
     ]
    }
   ],
   "source": [
    "ori = [0]*(n) #[0,0,0,0,0,0,0,0]\n",
    "\n",
    "for i in range(n):\n",
    "    cnt = 0\n",
    "    for j in range(n+1):\n",
    "        if cnt == seq[i]:\n",
    "            while ori[j] != 0: #############\n",
    "                j += 1\n",
    "            ori[j] = i+1\n",
    "            break\n",
    "        if ori[j] == 0:\n",
    "            cnt += 1\n",
    "        \n",
    "    #print(ori)\n",
    "\n",
    "for i in ori:\n",
    "    print(i, end = \" \")"
   ]
  }
 ],
 "metadata": {
  "kernelspec": {
   "display_name": "algo",
   "language": "python",
   "name": "algo"
  },
  "language_info": {
   "codemirror_mode": {
    "name": "ipython",
    "version": 3
   },
   "file_extension": ".py",
   "mimetype": "text/x-python",
   "name": "python",
   "nbconvert_exporter": "python",
   "pygments_lexer": "ipython3",
   "version": "3.9.12"
  }
 },
 "nbformat": 4,
 "nbformat_minor": 5
}
