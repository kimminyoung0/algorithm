{
 "cells": [
  {
   "cell_type": "markdown",
   "id": "d8c2ecec",
   "metadata": {},
   "source": [
    "## 이진탐색 "
   ]
  },
  {
   "cell_type": "markdown",
   "id": "37342d3d",
   "metadata": {},
   "source": [
    "n개의 숫자가 입력으로 주어지면, n개의 수를 오름차순으로 정렬한 다음 n개의 수 중 한 개의 수인 m이 주어지면 이분검색으로 m이 정렬된 상태에서 몇 번째에 있는지 구하시오"
   ]
  },
  {
   "cell_type": "markdown",
   "id": "85bde697",
   "metadata": {},
   "source": [
    "이진탐색이란, mid를 설정해서 진행\n",
    "\n",
    "mid = (it+rt)//2 -> ex) (0 + 7)//2 시작인덱스:0 끝인덱스:7\n",
    "\n",
    "a[mid] == m인가를 확인해야한다."
   ]
  },
  {
   "cell_type": "code",
   "execution_count": 22,
   "id": "c5f914a6",
   "metadata": {},
   "outputs": [],
   "source": [
    "def solution(n, m, lst):\n",
    "    lst = sorted(lst)\n",
    "    lt = 0\n",
    "    rt = n-1\n",
    "    mid = (lt+rt)//2\n",
    "    while lt <= rt:\n",
    "        mid = (lt+rt)//2\n",
    "        if lst[mid] == m:\n",
    "            return mid + 1\n",
    "        elif lst[mid] > m: ####m###########\n",
    "            rt = mid - 1\n",
    "            #print(mid)\n",
    "        elif lst[mid] < m: #####m##\n",
    "            lt = mid + 1\n",
    "\n",
    "        "
   ]
  },
  {
   "cell_type": "code",
   "execution_count": 23,
   "id": "92d07942",
   "metadata": {},
   "outputs": [
    {
     "data": {
      "text/plain": [
       "3"
      ]
     },
     "execution_count": 23,
     "metadata": {},
     "output_type": "execute_result"
    }
   ],
   "source": [
    "solution(8, 32, [23, 87, 65, 12, 57, 32, 99, 81])"
   ]
  },
  {
   "cell_type": "code",
   "execution_count": null,
   "id": "b7213053",
   "metadata": {},
   "outputs": [],
   "source": []
  },
  {
   "cell_type": "code",
   "execution_count": null,
   "id": "a8eb2216",
   "metadata": {},
   "outputs": [],
   "source": []
  },
  {
   "cell_type": "code",
   "execution_count": null,
   "id": "126045f8",
   "metadata": {},
   "outputs": [],
   "source": []
  }
 ],
 "metadata": {
  "kernelspec": {
   "display_name": "algo",
   "language": "python",
   "name": "algo"
  },
  "language_info": {
   "codemirror_mode": {
    "name": "ipython",
    "version": 3
   },
   "file_extension": ".py",
   "mimetype": "text/x-python",
   "name": "python",
   "nbconvert_exporter": "python",
   "pygments_lexer": "ipython3",
   "version": "3.9.12"
  }
 },
 "nbformat": 4,
 "nbformat_minor": 5
}
