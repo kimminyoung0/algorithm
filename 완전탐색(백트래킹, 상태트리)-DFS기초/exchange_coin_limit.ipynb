{
 "cells": [
  {
   "cell_type": "markdown",
   "id": "7c4678e0",
   "metadata": {},
   "source": [
    "## 동전 바꿔주기"
   ]
  },
  {
   "cell_type": "markdown",
   "id": "305f47d2",
   "metadata": {},
   "source": [
    "k가지 동전이 있고, 각각의 동전이 몇 개씩 있는지 주어진다. t라는 금액을 바꿔줄 수 있는 경우의 수가 몇가지인지 출력하는 프로그램을 작성."
   ]
  },
  {
   "cell_type": "code",
   "execution_count": null,
   "id": "d6748fd8",
   "metadata": {},
   "outputs": [],
   "source": [
    "20\n",
    "3\n",
    "5 3\n",
    "10 2\n",
    "1 5"
   ]
  },
  {
   "cell_type": "code",
   "execution_count": 16,
   "id": "a212ff95",
   "metadata": {},
   "outputs": [],
   "source": [
    "alst = []\n",
    "blst = []"
   ]
  },
  {
   "cell_type": "code",
   "execution_count": 17,
   "id": "929f85e3",
   "metadata": {},
   "outputs": [
    {
     "name": "stdout",
     "output_type": "stream",
     "text": [
      "20\n",
      "3\n",
      "5 3\n",
      "10 2\n",
      "1 5\n"
     ]
    }
   ],
   "source": [
    "t = int(input())\n",
    "k = int(input())\n",
    "for i in range(k):\n",
    "    a, b = map(int, input().split())\n",
    "    alst.append(a)\n",
    "    blst.append(b)"
   ]
  },
  {
   "cell_type": "code",
   "execution_count": 36,
   "id": "c6d40a48",
   "metadata": {},
   "outputs": [],
   "source": [
    "cnt = 0\n",
    "def DFS(x, coin_sum):\n",
    "    global cnt\n",
    "    if x == k:\n",
    "        if coin_sum == t:\n",
    "            cnt += 1\n",
    "            print(cnt)\n",
    "    else:\n",
    "        for i in range(blst[x]+1):\n",
    "            DFS(x+1, coin_sum + (alst[x]*i))\n",
    "            print(f'DFS({x+1}, {coin_sum + (alst[x]*i)})')"
   ]
  },
  {
   "cell_type": "code",
   "execution_count": 37,
   "id": "c6443a38",
   "metadata": {},
   "outputs": [
    {
     "name": "stdout",
     "output_type": "stream",
     "text": [
      "DFS(3, 0)\n",
      "DFS(3, 1)\n",
      "DFS(3, 2)\n",
      "DFS(3, 3)\n",
      "DFS(3, 4)\n",
      "DFS(3, 5)\n",
      "DFS(2, 0)\n",
      "DFS(3, 10)\n",
      "DFS(3, 11)\n",
      "DFS(3, 12)\n",
      "DFS(3, 13)\n",
      "DFS(3, 14)\n",
      "DFS(3, 15)\n",
      "DFS(2, 10)\n",
      "1\n",
      "DFS(3, 20)\n",
      "DFS(3, 21)\n",
      "DFS(3, 22)\n",
      "DFS(3, 23)\n",
      "DFS(3, 24)\n",
      "DFS(3, 25)\n",
      "DFS(2, 20)\n",
      "DFS(1, 0)\n",
      "DFS(3, 5)\n",
      "DFS(3, 6)\n",
      "DFS(3, 7)\n",
      "DFS(3, 8)\n",
      "DFS(3, 9)\n",
      "DFS(3, 10)\n",
      "DFS(2, 5)\n",
      "DFS(3, 15)\n",
      "DFS(3, 16)\n",
      "DFS(3, 17)\n",
      "DFS(3, 18)\n",
      "DFS(3, 19)\n",
      "2\n",
      "DFS(3, 20)\n",
      "DFS(2, 15)\n",
      "DFS(3, 25)\n",
      "DFS(3, 26)\n",
      "DFS(3, 27)\n",
      "DFS(3, 28)\n",
      "DFS(3, 29)\n",
      "DFS(3, 30)\n",
      "DFS(2, 25)\n",
      "DFS(1, 5)\n",
      "DFS(3, 10)\n",
      "DFS(3, 11)\n",
      "DFS(3, 12)\n",
      "DFS(3, 13)\n",
      "DFS(3, 14)\n",
      "DFS(3, 15)\n",
      "DFS(2, 10)\n",
      "3\n",
      "DFS(3, 20)\n",
      "DFS(3, 21)\n",
      "DFS(3, 22)\n",
      "DFS(3, 23)\n",
      "DFS(3, 24)\n",
      "DFS(3, 25)\n",
      "DFS(2, 20)\n",
      "DFS(3, 30)\n",
      "DFS(3, 31)\n",
      "DFS(3, 32)\n",
      "DFS(3, 33)\n",
      "DFS(3, 34)\n",
      "DFS(3, 35)\n",
      "DFS(2, 30)\n",
      "DFS(1, 10)\n",
      "DFS(3, 15)\n",
      "DFS(3, 16)\n",
      "DFS(3, 17)\n",
      "DFS(3, 18)\n",
      "DFS(3, 19)\n",
      "4\n",
      "DFS(3, 20)\n",
      "DFS(2, 15)\n",
      "DFS(3, 25)\n",
      "DFS(3, 26)\n",
      "DFS(3, 27)\n",
      "DFS(3, 28)\n",
      "DFS(3, 29)\n",
      "DFS(3, 30)\n",
      "DFS(2, 25)\n",
      "DFS(3, 35)\n",
      "DFS(3, 36)\n",
      "DFS(3, 37)\n",
      "DFS(3, 38)\n",
      "DFS(3, 39)\n",
      "DFS(3, 40)\n",
      "DFS(2, 35)\n",
      "DFS(1, 15)\n",
      "4\n"
     ]
    }
   ],
   "source": [
    "DFS(0, 0)\n",
    "print(cnt)"
   ]
  }
 ],
 "metadata": {
  "kernelspec": {
   "display_name": "algo",
   "language": "python",
   "name": "algo"
  },
  "language_info": {
   "codemirror_mode": {
    "name": "ipython",
    "version": 3
   },
   "file_extension": ".py",
   "mimetype": "text/x-python",
   "name": "python",
   "nbconvert_exporter": "python",
   "pygments_lexer": "ipython3",
   "version": "3.9.12"
  }
 },
 "nbformat": 4,
 "nbformat_minor": 5
}
