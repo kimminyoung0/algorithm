{
 "cells": [
  {
   "cell_type": "markdown",
   "id": "9b86d292",
   "metadata": {},
   "source": [
    "## 알파코드"
   ]
  },
  {
   "cell_type": "markdown",
   "id": "2d24c467",
   "metadata": {},
   "source": [
    "A는 1, B는 2, C는 3..., Z는 26로 표현하는 암호문이 있다.\n",
    "\n",
    "입력된 값을 받고, 어떤 문자로 해석될 수 있는지 출력하고, 개수를 출력하시오."
   ]
  },
  {
   "cell_type": "code",
   "execution_count": 3,
   "id": "c5e82bf8",
   "metadata": {},
   "outputs": [
    {
     "name": "stdout",
     "output_type": "stream",
     "text": [
      "25114\n"
     ]
    }
   ],
   "source": [
    "code = input()"
   ]
  },
  {
   "cell_type": "code",
   "execution_count": 4,
   "id": "ad39f466",
   "metadata": {},
   "outputs": [
    {
     "data": {
      "text/plain": [
       "{1: 'A',\n",
       " 2: 'B',\n",
       " 3: 'C',\n",
       " 4: 'D',\n",
       " 5: 'E',\n",
       " 6: 'F',\n",
       " 7: 'G',\n",
       " 8: 'H',\n",
       " 9: 'I',\n",
       " 10: 'J',\n",
       " 11: 'K',\n",
       " 12: 'L',\n",
       " 13: 'M',\n",
       " 14: 'N',\n",
       " 15: 'O',\n",
       " 16: 'P',\n",
       " 17: 'Q',\n",
       " 18: 'R',\n",
       " 19: 'S',\n",
       " 20: 'T',\n",
       " 21: 'U',\n",
       " 22: 'V',\n",
       " 23: 'W',\n",
       " 24: 'X',\n",
       " 25: 'Y',\n",
       " 26: 'Z'}"
      ]
     },
     "execution_count": 4,
     "metadata": {},
     "output_type": "execute_result"
    }
   ],
   "source": [
    "az = ['A', 'B', 'C', 'D', 'E', 'F', 'G', 'H', 'I', 'J', 'K', 'L',\n",
    "      'M', 'N', 'O', 'P', 'Q', 'R', 'S', 'T', 'U', 'V', 'W', 'X',\n",
    "      'Y', 'Z']\n",
    "dictaz = {i+1: az[i] for i in range(len(az))}\n",
    "dictaz"
   ]
  },
  {
   "cell_type": "code",
   "execution_count": 101,
   "id": "a1f7077b",
   "metadata": {},
   "outputs": [],
   "source": [
    "decode = []\n",
    "cnt = 0\n",
    "def DFS(x, code):\n",
    "    global cnt\n",
    "    if not code:\n",
    "        print(''.join(decode))\n",
    "        cnt += 1\n",
    "        \n",
    "    else: #한 자리의 값 해석, 두 자리의 값 해석\n",
    "        num = int(code[:1])\n",
    "        if num in dictaz.keys():\n",
    "            decode.append(dictaz[num])\n",
    "            DFS(x+1, code[1:])\n",
    "            decode.pop()\n",
    "            \n",
    "        if len(code) >= 2:\n",
    "            num = int(''.join(code[:2]))\n",
    "            if num in dictaz.keys():\n",
    "                decode.append(dictaz[num])\n",
    "                DFS(x+1, code[2:])\n",
    "                decode.pop()"
   ]
  },
  {
   "cell_type": "code",
   "execution_count": 102,
   "id": "2404ae4e",
   "metadata": {},
   "outputs": [
    {
     "name": "stdout",
     "output_type": "stream",
     "text": [
      "BEAAD\n",
      "BEAN\n",
      "BEKD\n",
      "YAAD\n",
      "YAN\n",
      "YKD\n",
      "6\n"
     ]
    }
   ],
   "source": [
    "DFS(0, code)\n",
    "print(cnt)"
   ]
  }
 ],
 "metadata": {
  "kernelspec": {
   "display_name": "algo",
   "language": "python",
   "name": "algo"
  },
  "language_info": {
   "codemirror_mode": {
    "name": "ipython",
    "version": 3
   },
   "file_extension": ".py",
   "mimetype": "text/x-python",
   "name": "python",
   "nbconvert_exporter": "python",
   "pygments_lexer": "ipython3",
   "version": "3.9.12"
  }
 },
 "nbformat": 4,
 "nbformat_minor": 5
}
