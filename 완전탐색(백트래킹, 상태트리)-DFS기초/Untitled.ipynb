{
 "cells": [
  {
   "cell_type": "markdown",
   "id": "c6f60672",
   "metadata": {},
   "source": [
    "## 인접행렬(가중치 방향 그래프)"
   ]
  },
  {
   "cell_type": "markdown",
   "id": "8b6f5248",
   "metadata": {},
   "source": [
    "### 방향그래프 -> 인접행렬"
   ]
  },
  {
   "cell_type": "code",
   "execution_count": 11,
   "id": "40f841ad",
   "metadata": {},
   "outputs": [],
   "source": [
    "import pprint"
   ]
  },
  {
   "cell_type": "code",
   "execution_count": 1,
   "id": "484b97f0",
   "metadata": {},
   "outputs": [
    {
     "name": "stdout",
     "output_type": "stream",
     "text": [
      "5 5\n"
     ]
    }
   ],
   "source": [
    "n, m = map(int, input().split())"
   ]
  },
  {
   "cell_type": "code",
   "execution_count": 4,
   "id": "e772639a",
   "metadata": {},
   "outputs": [],
   "source": [
    "g = [[0]*(n+1) for _ in range(n+1)]"
   ]
  },
  {
   "cell_type": "code",
   "execution_count": 5,
   "id": "86f3093f",
   "metadata": {},
   "outputs": [
    {
     "name": "stdout",
     "output_type": "stream",
     "text": [
      "1 2\n",
      "1 3\n",
      "2 4\n",
      "3 4\n",
      "4 5\n"
     ]
    }
   ],
   "source": [
    "for i in range(m):\n",
    "    a, b = map(int, input().split())\n",
    "    g[a][b] = 1\n",
    "    g[b][a] = 1  "
   ]
  },
  {
   "cell_type": "markdown",
   "id": "22225afb",
   "metadata": {},
   "source": [
    "### 가중치 방향 그래프 -> 인접행렬"
   ]
  },
  {
   "cell_type": "code",
   "execution_count": 6,
   "id": "ba3016fb",
   "metadata": {},
   "outputs": [
    {
     "name": "stdout",
     "output_type": "stream",
     "text": [
      "6 9\n"
     ]
    }
   ],
   "source": [
    "n, m = map(int, input().split())"
   ]
  },
  {
   "cell_type": "code",
   "execution_count": 8,
   "id": "e18d6aba",
   "metadata": {},
   "outputs": [],
   "source": [
    "g = [[0]*(n+1) for _ in range(n+1)]"
   ]
  },
  {
   "cell_type": "code",
   "execution_count": 9,
   "id": "658ed423",
   "metadata": {},
   "outputs": [
    {
     "name": "stdout",
     "output_type": "stream",
     "text": [
      "1 2 7\n",
      "1 3 4\n",
      "2 1 2\n",
      "2 3 5\n",
      "2 5 5\n",
      "3 4 5\n",
      "4 2 2\n",
      "4 5 5\n",
      "6 4 5\n"
     ]
    }
   ],
   "source": [
    "for i in range(m):\n",
    "    a, b, c = map(int, input().split())\n",
    "    g[a][b] = c"
   ]
  },
  {
   "cell_type": "code",
   "execution_count": 13,
   "id": "49842394",
   "metadata": {},
   "outputs": [
    {
     "name": "stdout",
     "output_type": "stream",
     "text": [
      "[[0, 0, 0, 0, 0, 0, 0],\n",
      " [0, 0, 7, 4, 0, 0, 0],\n",
      " [0, 2, 0, 5, 0, 5, 0],\n",
      " [0, 0, 0, 0, 5, 0, 0],\n",
      " [0, 0, 2, 0, 0, 5, 0],\n",
      " [0, 0, 0, 0, 0, 0, 0],\n",
      " [0, 0, 0, 0, 5, 0, 0]]\n"
     ]
    }
   ],
   "source": [
    "pprint.pprint(g)"
   ]
  }
 ],
 "metadata": {
  "kernelspec": {
   "display_name": "algo",
   "language": "python",
   "name": "algo"
  },
  "language_info": {
   "codemirror_mode": {
    "name": "ipython",
    "version": 3
   },
   "file_extension": ".py",
   "mimetype": "text/x-python",
   "name": "python",
   "nbconvert_exporter": "python",
   "pygments_lexer": "ipython3",
   "version": "3.9.12"
  }
 },
 "nbformat": 4,
 "nbformat_minor": 5
}
