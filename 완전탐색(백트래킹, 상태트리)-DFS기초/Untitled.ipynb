{
 "cells": [
  {
   "cell_type": "markdown",
   "id": "f26eadda",
   "metadata": {},
   "source": [
    "## 양팔 저울"
   ]
  },
  {
   "cell_type": "markdown",
   "id": "5f14af4c",
   "metadata": {},
   "source": [
    "추의 개수와 추의 무게가 주어지면, 1부터 추들을 다 더한 s 사이의 수들 중 측정이 불가능한 물의 무게는 몇 가지가 있을지 출력하는 프로그램을 작성하시오."
   ]
  },
  {
   "cell_type": "code",
   "execution_count": 10,
   "id": "61eae40f",
   "metadata": {},
   "outputs": [
    {
     "name": "stdout",
     "output_type": "stream",
     "text": [
      "3\n",
      "1 5 7\n"
     ]
    }
   ],
   "source": [
    "n = int(input())\n",
    "wei_lst = list(map(int, input().split()))"
   ]
  },
  {
   "cell_type": "code",
   "execution_count": 40,
   "id": "8c33da09",
   "metadata": {},
   "outputs": [],
   "source": [
    "prob_lst = [i for i in range(1, sum(wei_lst)+1)]\n",
    "def DFS(x, s, aval):\n",
    "    if x == n+1:\n",
    "        if abs(aval) in prob_lst:\n",
    "            print(prob_lst.pop(abs(aval)))\n",
    "    else:\n",
    "        for i in range(s, n): #0,1,2\n",
    "            DFS(x+1, i+1, aval+wei_lst[i])\n",
    "            DFS(x+1, i+1, aval-wei_lst[i])\n",
    "            DFS(x+1, i+1, aval)"
   ]
  },
  {
   "cell_type": "code",
   "execution_count": 41,
   "id": "58ee708c",
   "metadata": {},
   "outputs": [
    {
     "name": "stdout",
     "output_type": "stream",
     "text": [
      "13\n"
     ]
    }
   ],
   "source": [
    "DFS(0, 0, 0)\n",
    "print(len(prob_lst))"
   ]
  }
 ],
 "metadata": {
  "kernelspec": {
   "display_name": "algo",
   "language": "python",
   "name": "algo"
  },
  "language_info": {
   "codemirror_mode": {
    "name": "ipython",
    "version": 3
   },
   "file_extension": ".py",
   "mimetype": "text/x-python",
   "name": "python",
   "nbconvert_exporter": "python",
   "pygments_lexer": "ipython3",
   "version": "3.9.12"
  }
 },
 "nbformat": 4,
 "nbformat_minor": 5
}
