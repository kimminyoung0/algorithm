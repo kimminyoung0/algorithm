{
 "cells": [
  {
   "cell_type": "markdown",
   "id": "142f11c9",
   "metadata": {},
   "source": [
    "## 수들의 조합"
   ]
  },
  {
   "cell_type": "markdown",
   "id": "47deeeed",
   "metadata": {},
   "source": [
    "n개의 정수가 주어지면 그 숫자들 중 k개를 뽑는 조합의 합이 임의의 정수 m의 배수인 개수는 몇 개가 있는지 출력하는 프로그램을 작성하시오."
   ]
  },
  {
   "cell_type": "code",
   "execution_count": 1,
   "id": "b4ca2ae4",
   "metadata": {},
   "outputs": [
    {
     "name": "stdout",
     "output_type": "stream",
     "text": [
      "5 3\n",
      "2 4 5 8 12\n",
      "6\n"
     ]
    }
   ],
   "source": [
    "n, k = map(int, input().split())\n",
    "lst = list(map(int, input().split()))\n",
    "m = int(input())"
   ]
  },
  {
   "cell_type": "code",
   "execution_count": null,
   "id": "b3e878d1",
   "metadata": {},
   "outputs": [],
   "source": [
    "res = [0]*m\n",
    "cnt = 0\n",
    "def DFS(x):\n",
    "    global cnt\n",
    "    if x == m:\n",
    "        if int(''.join(res))%6 == 0:\n",
    "            cnt += 1\n",
    "    else:\n",
    "        for i in lst:\n",
    "            res[]\n",
    "            \n",
    "    "
   ]
  },
  {
   "cell_type": "code",
   "execution_count": null,
   "id": "3a556be9",
   "metadata": {},
   "outputs": [],
   "source": []
  },
  {
   "cell_type": "code",
   "execution_count": null,
   "id": "c655129d",
   "metadata": {},
   "outputs": [],
   "source": []
  },
  {
   "cell_type": "code",
   "execution_count": null,
   "id": "bb4f6bbb",
   "metadata": {},
   "outputs": [],
   "source": []
  },
  {
   "cell_type": "markdown",
   "id": "d8331124",
   "metadata": {},
   "source": []
  },
  {
   "cell_type": "code",
   "execution_count": null,
   "id": "d1e5d28b",
   "metadata": {},
   "outputs": [],
   "source": []
  }
 ],
 "metadata": {
  "kernelspec": {
   "display_name": "algo",
   "language": "python",
   "name": "algo"
  },
  "language_info": {
   "codemirror_mode": {
    "name": "ipython",
    "version": 3
   },
   "file_extension": ".py",
   "mimetype": "text/x-python",
   "name": "python",
   "nbconvert_exporter": "python",
   "pygments_lexer": "ipython3",
   "version": "3.9.12"
  }
 },
 "nbformat": 4,
 "nbformat_minor": 5
}
