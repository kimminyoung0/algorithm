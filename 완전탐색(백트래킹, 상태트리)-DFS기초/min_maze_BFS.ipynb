{
 "cells": [
  {
   "cell_type": "markdown",
   "id": "7ad2b2ef",
   "metadata": {},
   "source": [
    "## 미로의 최단거리 통로(BFS)"
   ]
  },
  {
   "cell_type": "markdown",
   "id": "068087f8",
   "metadata": {},
   "source": [
    "7x7 격자판이 주어지는데 격자판의 1은 벽이고, 0은 도로이다. 시작좌표는 (1,1) 이고 탈출 도착점은 (7,7) 이다. "
   ]
  },
  {
   "cell_type": "code",
   "execution_count": 3,
   "id": "993bff28",
   "metadata": {},
   "outputs": [],
   "source": [
    "from collections import deque"
   ]
  },
  {
   "cell_type": "code",
   "execution_count": null,
   "id": "49664fa9",
   "metadata": {},
   "outputs": [],
   "source": [
    "7\n",
    "0 0 0 0 0 0 0\n",
    "0 1 1 1 1 1 0\n",
    "0 0 0 1 0 0 0\n",
    "1 1 0 1 0 1 1\n",
    "1 1 0 1 0 0 0\n",
    "1 0 0 0 1 0 0\n",
    "1 0 1 0 0 0 0"
   ]
  },
  {
   "cell_type": "code",
   "execution_count": 44,
   "id": "33efe77a",
   "metadata": {},
   "outputs": [
    {
     "name": "stdout",
     "output_type": "stream",
     "text": [
      "7\n",
      "0 0 0 0 0 0 0\n",
      "0 1 1 1 1 1 0\n",
      "0 0 0 1 0 0 0\n",
      "1 1 0 1 0 1 1\n",
      "1 1 0 1 0 0 0\n",
      "1 0 0 0 1 0 0\n",
      "1 0 1 0 0 0 0\n"
     ]
    }
   ],
   "source": [
    "n = int(input())\n",
    "board = [list(map(int, input().split())) for _ in range(n)]"
   ]
  },
  {
   "cell_type": "code",
   "execution_count": 45,
   "id": "1d09c1f3",
   "metadata": {},
   "outputs": [
    {
     "name": "stdout",
     "output_type": "stream",
     "text": [
      "12\n"
     ]
    }
   ],
   "source": [
    "dis = [[0]*n for _ in range(n)] #거리를 체크\n",
    "dx = [-1, 0, 1, 0]\n",
    "dy = [0, 1, 0, -1]\n",
    "min_dis = 2000000000\n",
    "\n",
    "q = deque()\n",
    "q.append((0,0))\n",
    "board[0][0] = 1\n",
    "while q:\n",
    "    if (n, n) in q:\n",
    "        if dis[n][n] < min_dis:\n",
    "            min_dis = dis[n][n]\n",
    "            print(min_dis)\n",
    "        break\n",
    "\n",
    "    tmp = q.popleft()\n",
    "\n",
    "    for j in range(4):\n",
    "        x = tmp[0] + dx[j]\n",
    "        y = tmp[1] + dy[j]\n",
    "        if 0 <= x <= 6 and 0 <= y <= 6 and board[x][y] == 0:\n",
    "            dis[x][y] = dis[tmp[0]][tmp[1]] + 1\n",
    "            board[x][y] = 1\n",
    "            q.append((x, y))\n",
    "            \n",
    "#벽에 가로막쳐 도착점에 도착 불가\n",
    "if dis[n-1][n-1] == 0:\n",
    "    print(-1)\n",
    "else:\n",
    "    print(dis[n-1][n-1])\n",
    "    "
   ]
  },
  {
   "cell_type": "code",
   "execution_count": 46,
   "id": "6fea6c33",
   "metadata": {},
   "outputs": [
    {
     "data": {
      "text/plain": [
       "[[0, 1, 2, 3, 4, 5, 6],\n",
       " [1, 0, 0, 0, 0, 0, 7],\n",
       " [2, 3, 4, 0, 10, 9, 8],\n",
       " [0, 0, 5, 0, 11, 0, 0],\n",
       " [0, 0, 6, 0, 12, 13, 14],\n",
       " [0, 8, 7, 8, 0, 12, 13],\n",
       " [0, 9, 0, 9, 10, 11, 12]]"
      ]
     },
     "execution_count": 46,
     "metadata": {},
     "output_type": "execute_result"
    }
   ],
   "source": [
    "dis"
   ]
  },
  {
   "cell_type": "code",
   "execution_count": null,
   "id": "31359d96",
   "metadata": {},
   "outputs": [],
   "source": []
  }
 ],
 "metadata": {
  "kernelspec": {
   "display_name": "algo",
   "language": "python",
   "name": "algo"
  },
  "language_info": {
   "codemirror_mode": {
    "name": "ipython",
    "version": 3
   },
   "file_extension": ".py",
   "mimetype": "text/x-python",
   "name": "python",
   "nbconvert_exporter": "python",
   "pygments_lexer": "ipython3",
   "version": "3.9.12"
  }
 },
 "nbformat": 4,
 "nbformat_minor": 5
}
