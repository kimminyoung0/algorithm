{
 "cells": [
  {
   "cell_type": "markdown",
   "id": "3ba2085b",
   "metadata": {},
   "source": [
    "## 수들의 조합"
   ]
  },
  {
   "cell_type": "markdown",
   "id": "c6e1fe32",
   "metadata": {},
   "source": [
    "n개의 정수가 주어지면 그 숫자들 중 k개를 뽑는 조합의 합이 임의의 정수 m의 배수인 개수는 몇 개가 있는지 출력하는 프로그램을 작성하시오."
   ]
  },
  {
   "cell_type": "code",
   "execution_count": 1,
   "id": "2f33f95a",
   "metadata": {},
   "outputs": [
    {
     "name": "stdout",
     "output_type": "stream",
     "text": [
      "5 3\n",
      "2 4 5 8 12\n",
      "6\n"
     ]
    }
   ],
   "source": [
    "n, k = map(int, input().split())\n",
    "lst = list(map(int, input().split()))\n",
    "m = int(input())"
   ]
  },
  {
   "cell_type": "code",
   "execution_count": 61,
   "id": "357a5e3b",
   "metadata": {},
   "outputs": [],
   "source": [
    "ch = [0]*(n+1)\n",
    "res = [0]*k\n",
    "cnt = 0\n",
    "def DFS(x):\n",
    "    global cnt\n",
    "    global res\n",
    "    if x == k:\n",
    "        if sorted(res) == res:\n",
    "            if sum(res)%6 == 0:\n",
    "                cnt += 1\n",
    "        else:\n",
    "            pass\n",
    "            \n",
    "    else:\n",
    "        for i, val in enumerate(lst):\n",
    "            if ch[i] == 0:\n",
    "                ch[i] = 1\n",
    "                res[x] = val\n",
    "                DFS(x+1)\n",
    "                ch[i]=0\n",
    "            \n",
    "    "
   ]
  },
  {
   "cell_type": "code",
   "execution_count": 62,
   "id": "ebf07d72",
   "metadata": {},
   "outputs": [
    {
     "name": "stdout",
     "output_type": "stream",
     "text": [
      "2\n"
     ]
    }
   ],
   "source": [
    "DFS(0)\n",
    "print(cnt)"
   ]
  },
  {
   "cell_type": "markdown",
   "id": "4c93d4ab",
   "metadata": {},
   "source": [
    "다른 방식"
   ]
  },
  {
   "cell_type": "code",
   "execution_count": 65,
   "id": "b956ea85",
   "metadata": {},
   "outputs": [],
   "source": [
    "cnt = 0\n",
    "def DFS(L, s, sum):\n",
    "    global cnt\n",
    "    if L == k:\n",
    "        if sum%m == 0:\n",
    "            cnt += 1\n",
    "    else:\n",
    "        for i in range(s, n):\n",
    "            DFS(L+1, i+1, sum + lst[i])"
   ]
  },
  {
   "cell_type": "code",
   "execution_count": 66,
   "id": "de6821ea",
   "metadata": {},
   "outputs": [
    {
     "name": "stdout",
     "output_type": "stream",
     "text": [
      "2\n"
     ]
    }
   ],
   "source": [
    "DFS(0,0,0)\n",
    "print(cnt)"
   ]
  }
 ],
 "metadata": {
  "kernelspec": {
   "display_name": "algo",
   "language": "python",
   "name": "algo"
  },
  "language_info": {
   "codemirror_mode": {
    "name": "ipython",
    "version": 3
   },
   "file_extension": ".py",
   "mimetype": "text/x-python",
   "name": "python",
   "nbconvert_exporter": "python",
   "pygments_lexer": "ipython3",
   "version": "3.9.12"
  }
 },
 "nbformat": 4,
 "nbformat_minor": 5
}
