{
 "cells": [
  {
   "cell_type": "markdown",
   "id": "093190af",
   "metadata": {},
   "source": [
    "## 합이 같은 부분 집합(DFS : 아마존 인터뷰)"
   ]
  },
  {
   "cell_type": "markdown",
   "id": "b83d7be7",
   "metadata": {},
   "source": [
    "n개의 원소로 구성된 자연수 집합이 주어지면, 이 집합을 두 개의 부분집합으로 나누었을 때, 두 부분집합의 원소의 합이 서로 같은 경우가 존재하면 'YES' 출력, 그렇지 않으면 'NO' 출력.\n",
    "\n",
    "ex) {1,3,5,6,7,10}이 입력되면, {1,3,5,7} = {6, 10}"
   ]
  },
  {
   "cell_type": "code",
   "execution_count": 11,
   "id": "2ee60aff",
   "metadata": {},
   "outputs": [],
   "source": [
    "import sys"
   ]
  },
  {
   "cell_type": "code",
   "execution_count": 24,
   "id": "449d793f",
   "metadata": {},
   "outputs": [],
   "source": [
    "isTrue = False\n",
    "def DFS(L, sum): #L는 인덱스나 레벨\n",
    "    if L == n:\n",
    "        if sum == (total-sum):\n",
    "            isTrue = True\n",
    "            print(\"YES\")\n",
    "            sys.exit()\n",
    "\n",
    "    else:\n",
    "        DFS(L+1, sum+sett[L])\n",
    "        DFS(L+1, sum)"
   ]
  },
  {
   "cell_type": "code",
   "execution_count": 27,
   "id": "a78d9905",
   "metadata": {},
   "outputs": [
    {
     "name": "stdout",
     "output_type": "stream",
     "text": [
      "6\n",
      "1 3 5 6 8 10\n",
      "NO\n"
     ]
    }
   ],
   "source": [
    "n = int(input())\n",
    "sett = list(map(int, input().split()))\n",
    "total = sum(sett)\n",
    "DFS(0, 0)\n",
    "if isTrue == False:\n",
    "    print(\"NO\")"
   ]
  },
  {
   "cell_type": "code",
   "execution_count": null,
   "id": "4e3ce349",
   "metadata": {},
   "outputs": [],
   "source": []
  }
 ],
 "metadata": {
  "kernelspec": {
   "display_name": "algo",
   "language": "python",
   "name": "algo"
  },
  "language_info": {
   "codemirror_mode": {
    "name": "ipython",
    "version": 3
   },
   "file_extension": ".py",
   "mimetype": "text/x-python",
   "name": "python",
   "nbconvert_exporter": "python",
   "pygments_lexer": "ipython3",
   "version": "3.9.12"
  }
 },
 "nbformat": 4,
 "nbformat_minor": 5
}
