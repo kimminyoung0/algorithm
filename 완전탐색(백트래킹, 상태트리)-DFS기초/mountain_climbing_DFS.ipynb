{
 "cells": [
  {
   "cell_type": "markdown",
   "id": "2f957501",
   "metadata": {},
   "source": [
    "## 등산 경로 (DFS)"
   ]
  },
  {
   "cell_type": "markdown",
   "id": "4348fef8",
   "metadata": {},
   "source": [
    "철수는 nxn의 구역으로 나누어진 지도를 보면서 위, 아래, 왼쪽, 오른쪽 중 \n",
    "더 높은 구역으로만 이동할 수 있도록 등산로를 설계하려고 한다. \n",
    "\n",
    "등산로의 출발지는 전체 영역에서 가장 낮은 곳이고, 목적지는 가장 높은 곳이다.\n",
    "\n",
    "출발지에서 목적지까지 등산 경로가 몇 가지 있는지 구하는 프로그램을 작성하시오."
   ]
  },
  {
   "cell_type": "code",
   "execution_count": null,
   "id": "2dd72ce5",
   "metadata": {},
   "outputs": [],
   "source": [
    "5\n",
    "2 23 92 78 93\n",
    "59 50 48 90 80\n",
    "30 53 70 75 96\n",
    "94 91 82 89 93\n",
    "97 98 95 96 100"
   ]
  },
  {
   "cell_type": "code",
   "execution_count": 68,
   "id": "90d7eb00",
   "metadata": {},
   "outputs": [
    {
     "name": "stdout",
     "output_type": "stream",
     "text": [
      "5\n",
      "2 23 92 78 93\n",
      "59 50 48 90 80\n",
      "30 53 70 75 96\n",
      "94 91 82 89 93\n",
      "97 98 95 96 100\n"
     ]
    }
   ],
   "source": [
    "n = int(input())\n",
    "min_place = 20000000\n",
    "max_place = -20000000\n",
    "mmap = []\n",
    "for i in range(n):\n",
    "    tmp = list(map(int, input().split()))\n",
    "    for j, val in enumerate(tmp):\n",
    "        if val < min_place:\n",
    "            min_place = val\n",
    "            start = (i, j)\n",
    "            \n",
    "        if val > max_place:\n",
    "            max_place = val\n",
    "            end = (i, j)\n",
    "    mmap.append(tmp)\n",
    "    "
   ]
  },
  {
   "cell_type": "code",
   "execution_count": 69,
   "id": "70c9b2b6",
   "metadata": {},
   "outputs": [
    {
     "data": {
      "text/plain": [
       "(0, 0)"
      ]
     },
     "execution_count": 69,
     "metadata": {},
     "output_type": "execute_result"
    }
   ],
   "source": [
    "start"
   ]
  },
  {
   "cell_type": "code",
   "execution_count": 70,
   "id": "4f95decd",
   "metadata": {},
   "outputs": [
    {
     "data": {
      "text/plain": [
       "(4, 4)"
      ]
     },
     "execution_count": 70,
     "metadata": {},
     "output_type": "execute_result"
    }
   ],
   "source": [
    "end"
   ]
  },
  {
   "cell_type": "code",
   "execution_count": 79,
   "id": "3007fdbf",
   "metadata": {},
   "outputs": [],
   "source": [
    "cnt = 0\n",
    "dx = [-1, 0, 1, 0]\n",
    "dy = [0, 1, 0, -1]\n",
    "ch = [[0]*n for _ in range(n)]\n",
    "ch[start[0]][start[1]] = 1\n",
    "\n",
    "def DFS(x, y):\n",
    "    global cnt\n",
    "    if x == end[0] and y == end[1]:\n",
    "        cnt += 1\n",
    "    else:\n",
    "        for i in range(4):\n",
    "            xx = x + dx[i]\n",
    "            yy = y + dy[i]\n",
    "            #이 때 xx, yy의 인덱스 범위 검사가 ch[xx][yy]가 0인지 확인하는 검사보다\n",
    "            #앞에 있어야 한다. 인덱스 에러.\n",
    "            if 0 <= xx < n and 0 <= yy < n and ch[xx][yy] == 0 and mmap[xx][yy] > mmap[x][y]:\n",
    "                ch[xx][yy] = 1\n",
    "                print(f'DFS({xx}, {yy})')\n",
    "                DFS(xx, yy)\n",
    "                ch[xx][yy] = 0"
   ]
  },
  {
   "cell_type": "code",
   "execution_count": 80,
   "id": "b61d0c59",
   "metadata": {},
   "outputs": [
    {
     "name": "stdout",
     "output_type": "stream",
     "text": [
      "DFS(0, 1)\n",
      "DFS(0, 2)\n",
      "DFS(1, 1)\n",
      "DFS(2, 1)\n",
      "DFS(2, 2)\n",
      "DFS(2, 3)\n",
      "DFS(1, 3)\n",
      "DFS(2, 4)\n",
      "DFS(3, 3)\n",
      "DFS(3, 4)\n",
      "DFS(2, 4)\n",
      "DFS(4, 4)\n",
      "DFS(4, 3)\n",
      "DFS(4, 4)\n",
      "DFS(3, 2)\n",
      "DFS(3, 3)\n",
      "DFS(3, 4)\n",
      "DFS(2, 4)\n",
      "DFS(4, 4)\n",
      "DFS(4, 3)\n",
      "DFS(4, 4)\n",
      "DFS(4, 2)\n",
      "DFS(4, 3)\n",
      "DFS(4, 4)\n",
      "DFS(4, 1)\n",
      "DFS(3, 1)\n",
      "DFS(4, 1)\n",
      "DFS(3, 0)\n",
      "DFS(4, 0)\n",
      "DFS(4, 1)\n",
      "DFS(3, 1)\n",
      "DFS(4, 1)\n",
      "DFS(3, 0)\n",
      "DFS(4, 0)\n",
      "DFS(4, 1)\n",
      "DFS(1, 0)\n",
      "DFS(1, 0)\n",
      "5\n"
     ]
    }
   ],
   "source": [
    "DFS(start[0], start[1])\n",
    "print(cnt)"
   ]
  },
  {
   "cell_type": "code",
   "execution_count": null,
   "id": "5a03225d",
   "metadata": {},
   "outputs": [],
   "source": []
  }
 ],
 "metadata": {
  "kernelspec": {
   "display_name": "algo",
   "language": "python",
   "name": "algo"
  },
  "language_info": {
   "codemirror_mode": {
    "name": "ipython",
    "version": 3
   },
   "file_extension": ".py",
   "mimetype": "text/x-python",
   "name": "python",
   "nbconvert_exporter": "python",
   "pygments_lexer": "ipython3",
   "version": "3.9.12"
  }
 },
 "nbformat": 4,
 "nbformat_minor": 5
}
