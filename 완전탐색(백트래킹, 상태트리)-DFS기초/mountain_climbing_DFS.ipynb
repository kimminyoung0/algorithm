{
 "cells": [
  {
   "cell_type": "markdown",
   "id": "1e9aac2f",
   "metadata": {},
   "source": [
    "## 등산 경로 (DFS)"
   ]
  },
  {
   "cell_type": "markdown",
   "id": "28e968bf",
   "metadata": {},
   "source": [
    "철수는 nxn의 구역으로 나누어진 지도를 보면서 위, 아래, 왼쪽, 오른쪽 중 \n",
    "더 높은 구역으로만 이동할 수 있도록 등산로를 설계하려고 한다. \n",
    "\n",
    "등산로의 출발지는 전체 영역에서 가장 낮은 곳이고, 목적지는 가장 높은 곳이다.\n",
    "\n",
    "출발지에서 목적지까지 등산 경로가 몇 가지 있는지 구하는 프로그램을 작성하시오."
   ]
  },
  {
   "cell_type": "code",
   "execution_count": null,
   "id": "cc7f2e58",
   "metadata": {},
   "outputs": [],
   "source": [
    "5\n",
    "2 23 92 78 93\n",
    "59 50 48 90 80\n",
    "30 53 70 75 96\n",
    "94 91 82 89 93\n",
    "97 98 95 96 100"
   ]
  },
  {
   "cell_type": "code",
   "execution_count": 15,
   "id": "4eafcd92",
   "metadata": {},
   "outputs": [
    {
     "name": "stdout",
     "output_type": "stream",
     "text": [
      "5\n",
      "2 23 92 78 93\n",
      "59 50 48 90 80\n",
      "30 53 70 75 96\n",
      "94 91 82 89 93\n",
      "97 98 95 96 100\n"
     ]
    }
   ],
   "source": [
    "n = int(input())\n",
    "min_place = 20000000\n",
    "max_place = -20000000\n",
    "mmap = []\n",
    "for i in range(n):\n",
    "    tmp = list(map(int, input().split()))\n",
    "    for j, val in enumerate(tmp):\n",
    "        if val < min_place:\n",
    "            min_place = val\n",
    "            start = (i, j)\n",
    "            \n",
    "        if val > max_place:\n",
    "            max_place = val\n",
    "            end = (i, j)\n",
    "    mmap.append(tmp)\n",
    "    "
   ]
  },
  {
   "cell_type": "code",
   "execution_count": 65,
   "id": "17a252af",
   "metadata": {},
   "outputs": [],
   "source": [
    "cnt = 0\n",
    "dx = [-1, 0, 1, 0]\n",
    "dy = [0, 1, 0, -1]\n",
    "ch = [[0]*n for _ in range(n)]\n",
    "ch[start[0]][start[1]] = 1\n",
    "\n",
    "def DFS(x, y):\n",
    "    global cnt\n",
    "    if x == end[0] and y == end[1]:\n",
    "        cnt += 1\n",
    "    else:\n",
    "        for i in range(4):\n",
    "            xx = x + dx[i]\n",
    "            yy = y + dy[i]\n",
    "            if ch[xx][yy] == 0 and 0 <= xx < n and 0 <= yy < n and mmap[xx][yy] > mmap[x][y]:\n",
    "                ch[xx][yy] = 1\n",
    "                print(f'DFS({xx}, {yy})')\n",
    "                DFS(xx, yy)\n",
    "                ch[xx][yy] = 0"
   ]
  },
  {
   "cell_type": "code",
   "execution_count": 66,
   "id": "6fff3764",
   "metadata": {},
   "outputs": [
    {
     "name": "stdout",
     "output_type": "stream",
     "text": [
      "DFS(0, 1)\n",
      "DFS(0, 2)\n",
      "DFS(1, 1)\n",
      "DFS(2, 1)\n",
      "DFS(2, 2)\n",
      "DFS(2, 3)\n",
      "DFS(1, 3)\n",
      "DFS(2, 4)\n"
     ]
    },
    {
     "ename": "IndexError",
     "evalue": "list index out of range",
     "output_type": "error",
     "traceback": [
      "\u001b[0;31m---------------------------------------------------------------------------\u001b[0m",
      "\u001b[0;31mIndexError\u001b[0m                                Traceback (most recent call last)",
      "Input \u001b[0;32mIn [66]\u001b[0m, in \u001b[0;36m<cell line: 1>\u001b[0;34m()\u001b[0m\n\u001b[0;32m----> 1\u001b[0m \u001b[43mDFS\u001b[49m\u001b[43m(\u001b[49m\u001b[43mstart\u001b[49m\u001b[43m[\u001b[49m\u001b[38;5;241;43m0\u001b[39;49m\u001b[43m]\u001b[49m\u001b[43m,\u001b[49m\u001b[43m \u001b[49m\u001b[43mstart\u001b[49m\u001b[43m[\u001b[49m\u001b[38;5;241;43m1\u001b[39;49m\u001b[43m]\u001b[49m\u001b[43m)\u001b[49m\n\u001b[1;32m      2\u001b[0m \u001b[38;5;28mprint\u001b[39m(cnt)\n",
      "Input \u001b[0;32mIn [65]\u001b[0m, in \u001b[0;36mDFS\u001b[0;34m(x, y)\u001b[0m\n\u001b[1;32m     16\u001b[0m ch[xx][yy] \u001b[38;5;241m=\u001b[39m \u001b[38;5;241m1\u001b[39m\n\u001b[1;32m     17\u001b[0m \u001b[38;5;28mprint\u001b[39m(\u001b[38;5;124mf\u001b[39m\u001b[38;5;124m'\u001b[39m\u001b[38;5;124mDFS(\u001b[39m\u001b[38;5;132;01m{\u001b[39;00mxx\u001b[38;5;132;01m}\u001b[39;00m\u001b[38;5;124m, \u001b[39m\u001b[38;5;132;01m{\u001b[39;00myy\u001b[38;5;132;01m}\u001b[39;00m\u001b[38;5;124m)\u001b[39m\u001b[38;5;124m'\u001b[39m)\n\u001b[0;32m---> 18\u001b[0m \u001b[43mDFS\u001b[49m\u001b[43m(\u001b[49m\u001b[43mxx\u001b[49m\u001b[43m,\u001b[49m\u001b[43m \u001b[49m\u001b[43myy\u001b[49m\u001b[43m)\u001b[49m\n\u001b[1;32m     19\u001b[0m ch[xx][yy] \u001b[38;5;241m=\u001b[39m \u001b[38;5;241m0\u001b[39m\n",
      "Input \u001b[0;32mIn [65]\u001b[0m, in \u001b[0;36mDFS\u001b[0;34m(x, y)\u001b[0m\n\u001b[1;32m     16\u001b[0m ch[xx][yy] \u001b[38;5;241m=\u001b[39m \u001b[38;5;241m1\u001b[39m\n\u001b[1;32m     17\u001b[0m \u001b[38;5;28mprint\u001b[39m(\u001b[38;5;124mf\u001b[39m\u001b[38;5;124m'\u001b[39m\u001b[38;5;124mDFS(\u001b[39m\u001b[38;5;132;01m{\u001b[39;00mxx\u001b[38;5;132;01m}\u001b[39;00m\u001b[38;5;124m, \u001b[39m\u001b[38;5;132;01m{\u001b[39;00myy\u001b[38;5;132;01m}\u001b[39;00m\u001b[38;5;124m)\u001b[39m\u001b[38;5;124m'\u001b[39m)\n\u001b[0;32m---> 18\u001b[0m \u001b[43mDFS\u001b[49m\u001b[43m(\u001b[49m\u001b[43mxx\u001b[49m\u001b[43m,\u001b[49m\u001b[43m \u001b[49m\u001b[43myy\u001b[49m\u001b[43m)\u001b[49m\n\u001b[1;32m     19\u001b[0m ch[xx][yy] \u001b[38;5;241m=\u001b[39m \u001b[38;5;241m0\u001b[39m\n",
      "    \u001b[0;31m[... skipping similar frames: DFS at line 18 (3 times)]\u001b[0m\n",
      "Input \u001b[0;32mIn [65]\u001b[0m, in \u001b[0;36mDFS\u001b[0;34m(x, y)\u001b[0m\n\u001b[1;32m     16\u001b[0m ch[xx][yy] \u001b[38;5;241m=\u001b[39m \u001b[38;5;241m1\u001b[39m\n\u001b[1;32m     17\u001b[0m \u001b[38;5;28mprint\u001b[39m(\u001b[38;5;124mf\u001b[39m\u001b[38;5;124m'\u001b[39m\u001b[38;5;124mDFS(\u001b[39m\u001b[38;5;132;01m{\u001b[39;00mxx\u001b[38;5;132;01m}\u001b[39;00m\u001b[38;5;124m, \u001b[39m\u001b[38;5;132;01m{\u001b[39;00myy\u001b[38;5;132;01m}\u001b[39;00m\u001b[38;5;124m)\u001b[39m\u001b[38;5;124m'\u001b[39m)\n\u001b[0;32m---> 18\u001b[0m \u001b[43mDFS\u001b[49m\u001b[43m(\u001b[49m\u001b[43mxx\u001b[49m\u001b[43m,\u001b[49m\u001b[43m \u001b[49m\u001b[43myy\u001b[49m\u001b[43m)\u001b[49m\n\u001b[1;32m     19\u001b[0m ch[xx][yy] \u001b[38;5;241m=\u001b[39m \u001b[38;5;241m0\u001b[39m\n",
      "Input \u001b[0;32mIn [65]\u001b[0m, in \u001b[0;36mDFS\u001b[0;34m(x, y)\u001b[0m\n\u001b[1;32m     13\u001b[0m xx \u001b[38;5;241m=\u001b[39m x \u001b[38;5;241m+\u001b[39m dx[i]\n\u001b[1;32m     14\u001b[0m yy \u001b[38;5;241m=\u001b[39m y \u001b[38;5;241m+\u001b[39m dy[i]\n\u001b[0;32m---> 15\u001b[0m \u001b[38;5;28;01mif\u001b[39;00m \u001b[43mch\u001b[49m\u001b[43m[\u001b[49m\u001b[43mxx\u001b[49m\u001b[43m]\u001b[49m\u001b[43m[\u001b[49m\u001b[43myy\u001b[49m\u001b[43m]\u001b[49m \u001b[38;5;241m==\u001b[39m \u001b[38;5;241m0\u001b[39m \u001b[38;5;129;01mand\u001b[39;00m \u001b[38;5;241m0\u001b[39m \u001b[38;5;241m<\u001b[39m\u001b[38;5;241m=\u001b[39m xx \u001b[38;5;241m<\u001b[39m n \u001b[38;5;129;01mand\u001b[39;00m \u001b[38;5;241m0\u001b[39m \u001b[38;5;241m<\u001b[39m\u001b[38;5;241m=\u001b[39m yy \u001b[38;5;241m<\u001b[39m n \u001b[38;5;129;01mand\u001b[39;00m mmap[xx][yy] \u001b[38;5;241m>\u001b[39m mmap[x][y]:\n\u001b[1;32m     16\u001b[0m     ch[xx][yy] \u001b[38;5;241m=\u001b[39m \u001b[38;5;241m1\u001b[39m\n\u001b[1;32m     17\u001b[0m     \u001b[38;5;28mprint\u001b[39m(\u001b[38;5;124mf\u001b[39m\u001b[38;5;124m'\u001b[39m\u001b[38;5;124mDFS(\u001b[39m\u001b[38;5;132;01m{\u001b[39;00mxx\u001b[38;5;132;01m}\u001b[39;00m\u001b[38;5;124m, \u001b[39m\u001b[38;5;132;01m{\u001b[39;00myy\u001b[38;5;132;01m}\u001b[39;00m\u001b[38;5;124m)\u001b[39m\u001b[38;5;124m'\u001b[39m)\n",
      "\u001b[0;31mIndexError\u001b[0m: list index out of range"
     ]
    }
   ],
   "source": [
    "DFS(start[0], start[1])\n",
    "print(cnt)"
   ]
  },
  {
   "cell_type": "code",
   "execution_count": 67,
   "id": "4ef33817",
   "metadata": {},
   "outputs": [
    {
     "data": {
      "text/plain": [
       "[[1, 1, 0, 0, 0],\n",
       " [0, 1, 0, 0, 0],\n",
       " [0, 1, 1, 1, 1],\n",
       " [0, 0, 0, 0, 0],\n",
       " [0, 0, 0, 0, 0]]"
      ]
     },
     "execution_count": 67,
     "metadata": {},
     "output_type": "execute_result"
    }
   ],
   "source": [
    "ch"
   ]
  },
  {
   "cell_type": "code",
   "execution_count": null,
   "id": "693d9a23",
   "metadata": {},
   "outputs": [],
   "source": []
  }
 ],
 "metadata": {
  "kernelspec": {
   "display_name": "algo",
   "language": "python",
   "name": "algo"
  },
  "language_info": {
   "codemirror_mode": {
    "name": "ipython",
    "version": 3
   },
   "file_extension": ".py",
   "mimetype": "text/x-python",
   "name": "python",
   "nbconvert_exporter": "python",
   "pygments_lexer": "ipython3",
   "version": "3.9.12"
  }
 },
 "nbformat": 4,
 "nbformat_minor": 5
}
