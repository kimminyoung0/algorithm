{
 "cells": [
  {
   "cell_type": "markdown",
   "id": "3c04da08",
   "metadata": {},
   "source": [
    "## 순열 구하기"
   ]
  },
  {
   "cell_type": "markdown",
   "id": "aad336b8",
   "metadata": {},
   "source": [
    "1부터 n까지 번호가 적힌 구슬이 있는데,  이 중 m개를 뽑아 일렬로 나열하는 방법을 모두 출력하시오."
   ]
  },
  {
   "cell_type": "code",
   "execution_count": 1,
   "id": "b072655c",
   "metadata": {},
   "outputs": [
    {
     "name": "stdout",
     "output_type": "stream",
     "text": [
      "3 2\n"
     ]
    }
   ],
   "source": [
    "n, m = map(int, input().split())"
   ]
  },
  {
   "cell_type": "code",
   "execution_count": 71,
   "id": "60fb53ca",
   "metadata": {},
   "outputs": [],
   "source": [
    "cnt = 0\n",
    "res = [0]*m #[0,0]\n",
    "def DFS(x):\n",
    "    global cnt\n",
    "    global res\n",
    "    if x == m:\n",
    "        for i in res:\n",
    "            print(i, end = ' ')\n",
    "        cnt += 1\n",
    "        print()\n",
    "    else:\n",
    "        for j in range(1,n+1):\n",
    "            if j in res:\n",
    "                continue\n",
    "            res[x] = j\n",
    "            DFS(x+1)\n",
    "        "
   ]
  },
  {
   "cell_type": "code",
   "execution_count": 72,
   "id": "9dd4efa0",
   "metadata": {},
   "outputs": [
    {
     "name": "stdout",
     "output_type": "stream",
     "text": [
      "1 2 \n",
      "1 3 \n",
      "2 1 \n",
      "2 3 \n",
      "4\n"
     ]
    }
   ],
   "source": [
    "DFS(0)\n",
    "print(cnt)"
   ]
  }
 ],
 "metadata": {
  "kernelspec": {
   "display_name": "algo",
   "language": "python",
   "name": "algo"
  },
  "language_info": {
   "codemirror_mode": {
    "name": "ipython",
    "version": 3
   },
   "file_extension": ".py",
   "mimetype": "text/x-python",
   "name": "python",
   "nbconvert_exporter": "python",
   "pygments_lexer": "ipython3",
   "version": "3.9.12"
  }
 },
 "nbformat": 4,
 "nbformat_minor": 5
}
