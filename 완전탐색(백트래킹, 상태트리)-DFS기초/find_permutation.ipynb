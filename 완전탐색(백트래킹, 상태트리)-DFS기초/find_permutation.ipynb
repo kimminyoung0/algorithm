{
 "cells": [
  {
   "cell_type": "markdown",
   "id": "9a8621d4",
   "metadata": {},
   "source": [
    "## 순열 구하기"
   ]
  },
  {
   "cell_type": "markdown",
   "id": "efe1d7fc",
   "metadata": {},
   "source": [
    "1부터 n까지 번호가 적힌 구슬이 있는데,  이 중 m개를 뽑아 일렬로 나열하는 방법을 모두 출력하시오."
   ]
  },
  {
   "cell_type": "code",
   "execution_count": 73,
   "id": "e59f1ba1",
   "metadata": {},
   "outputs": [
    {
     "name": "stdout",
     "output_type": "stream",
     "text": [
      "3 2\n"
     ]
    }
   ],
   "source": [
    "n, m = map(int, input().split())"
   ]
  },
  {
   "cell_type": "code",
   "execution_count": 103,
   "id": "845250eb",
   "metadata": {},
   "outputs": [],
   "source": [
    "cnt = 0\n",
    "res = [0]*m #[0,0]\n",
    "def DFS(x):\n",
    "    global cnt\n",
    "    global res\n",
    "    if x == m:\n",
    "        for i in res:\n",
    "            print(i, end = ' ')\n",
    "        cnt += 1\n",
    "        print()\n",
    "    else:\n",
    "        for j in range(1,n+1):\n",
    "            if j in res and x == 1:\n",
    "                continue\n",
    "            #print(f'res[{x}] = {j} 로 값 할당')\n",
    "            res[x] = j\n",
    "            DFS(x+1)\n",
    "        "
   ]
  },
  {
   "cell_type": "code",
   "execution_count": 104,
   "id": "f79c7a01",
   "metadata": {},
   "outputs": [
    {
     "name": "stdout",
     "output_type": "stream",
     "text": [
      "1 2 \n",
      "1 3 \n",
      "2 1 \n",
      "2 3 \n",
      "3 1 \n",
      "3 2 \n",
      "6\n"
     ]
    }
   ],
   "source": [
    "DFS(0)\n",
    "print(cnt)"
   ]
  },
  {
   "cell_type": "markdown",
   "id": "5648b90f",
   "metadata": {},
   "source": [
    "## 다른 방식"
   ]
  },
  {
   "cell_type": "code",
   "execution_count": 105,
   "id": "fbfec9a9",
   "metadata": {},
   "outputs": [],
   "source": [
    "def DFS(L):\n",
    "    global cnt\n",
    "    if L == m:\n",
    "        for j in range(L):\n",
    "            print(res[j], end = ' ')\n",
    "        print()\n",
    "        cnt += 1\n",
    "    else:\n",
    "        for i in range(1, n+1):\n",
    "            if ch[i] == 0:\n",
    "                ch[i] = 1\n",
    "                res[L] = i\n",
    "                DFS(L+1)\n",
    "                ch[i] = 0"
   ]
  },
  {
   "cell_type": "code",
   "execution_count": 107,
   "id": "d56b05ce",
   "metadata": {},
   "outputs": [
    {
     "name": "stdout",
     "output_type": "stream",
     "text": [
      "3 2\n",
      "[0, 1, 0, 0] [1, 0, 0]\n",
      "[0, 1, 1, 0] [1, 2, 0]\n",
      "1 2 \n",
      "[0, 1, 0, 1] [1, 3, 0]\n",
      "1 3 \n",
      "[0, 0, 1, 0] [2, 3, 0]\n",
      "[0, 1, 1, 0] [2, 1, 0]\n",
      "2 1 \n",
      "[0, 0, 1, 1] [2, 3, 0]\n",
      "2 3 \n",
      "[0, 0, 0, 1] [3, 3, 0]\n",
      "[0, 1, 0, 1] [3, 1, 0]\n",
      "3 1 \n",
      "[0, 0, 1, 1] [3, 2, 0]\n",
      "3 2 \n",
      "6\n"
     ]
    }
   ],
   "source": [
    "n, m = map(int, input().split())\n",
    "res = [0]*n\n",
    "ch = [0]*(n+1)\n",
    "cnt = 0\n",
    "DFS(0)\n",
    "print(cnt)"
   ]
  }
 ],
 "metadata": {
  "kernelspec": {
   "display_name": "algo",
   "language": "python",
   "name": "algo"
  },
  "language_info": {
   "codemirror_mode": {
    "name": "ipython",
    "version": 3
   },
   "file_extension": ".py",
   "mimetype": "text/x-python",
   "name": "python",
   "nbconvert_exporter": "python",
   "pygments_lexer": "ipython3",
   "version": "3.9.12"
  }
 },
 "nbformat": 4,
 "nbformat_minor": 5
}
