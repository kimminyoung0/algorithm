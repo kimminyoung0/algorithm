{
 "cells": [
  {
   "cell_type": "markdown",
   "id": "0513aece",
   "metadata": {},
   "source": [
    "## 조합 구하기"
   ]
  },
  {
   "cell_type": "markdown",
   "id": "2121435e",
   "metadata": {},
   "source": [
    "자연수 n과 m이 주어지면, 1부터 n까지의 숫자 중 m개를 뽑는 방법의 수를 출력하는 프로그램을 작성하시오."
   ]
  },
  {
   "cell_type": "code",
   "execution_count": 1,
   "id": "9ceec86d",
   "metadata": {},
   "outputs": [
    {
     "name": "stdout",
     "output_type": "stream",
     "text": [
      "4 2\n"
     ]
    }
   ],
   "source": [
    "n, m = map(int, input().split())"
   ]
  },
  {
   "cell_type": "code",
   "execution_count": 36,
   "id": "7f93dd41",
   "metadata": {},
   "outputs": [],
   "source": [
    "cnt = 0\n",
    "ch = [0]*(n+1)\n",
    "res = [0]*m\n",
    "def DFS(x):\n",
    "    global cnt\n",
    "    if x == m:\n",
    "        if sorted(res) != res:\n",
    "            pass\n",
    "        else:\n",
    "            for i in range(m):\n",
    "                print(res[i], end = ' ')\n",
    "            print()\n",
    "            cnt += 1\n",
    "            \n",
    "    else:\n",
    "        for i in range(1, n+1):\n",
    "            if ch[i] == 0:\n",
    "                ch[i] = 1\n",
    "                res[x] = i\n",
    "                DFS(x+1)\n",
    "                ch[i]=0"
   ]
  },
  {
   "cell_type": "code",
   "execution_count": 37,
   "id": "83e8a70b",
   "metadata": {},
   "outputs": [
    {
     "name": "stdout",
     "output_type": "stream",
     "text": [
      "1 2 \n",
      "1 3 \n",
      "1 4 \n",
      "2 3 \n",
      "2 4 \n",
      "3 4 \n",
      "6\n"
     ]
    }
   ],
   "source": [
    "DFS(0)\n",
    "print(cnt)"
   ]
  },
  {
   "cell_type": "markdown",
   "id": "88276ebd",
   "metadata": {},
   "source": [
    "다른 방식"
   ]
  },
  {
   "cell_type": "code",
   "execution_count": 38,
   "id": "abf36dae",
   "metadata": {},
   "outputs": [],
   "source": [
    "def DFS(L, s):\n",
    "    if L == m:\n",
    "        global cnt\n",
    "        for j in range(L):\n",
    "            print(res[j], end = ' ')\n",
    "        cnt += 1\n",
    "        print()\n",
    "    else:\n",
    "        for i in range(s, n+1):\n",
    "            res[L] = i\n",
    "            DFS(L+1, i+1)"
   ]
  },
  {
   "cell_type": "code",
   "execution_count": 40,
   "id": "70a1ad4d",
   "metadata": {},
   "outputs": [
    {
     "name": "stdout",
     "output_type": "stream",
     "text": [
      "1 2 \n",
      "1 3 \n",
      "1 4 \n",
      "2 3 \n",
      "2 4 \n",
      "3 4 \n",
      "6\n"
     ]
    }
   ],
   "source": [
    "res = [0]*(n+1)\n",
    "cnt = 0\n",
    "DFS(0, 1)\n",
    "print(cnt)"
   ]
  }
 ],
 "metadata": {
  "kernelspec": {
   "display_name": "algo",
   "language": "python",
   "name": "algo"
  },
  "language_info": {
   "codemirror_mode": {
    "name": "ipython",
    "version": 3
   },
   "file_extension": ".py",
   "mimetype": "text/x-python",
   "name": "python",
   "nbconvert_exporter": "python",
   "pygments_lexer": "ipython3",
   "version": "3.9.12"
  }
 },
 "nbformat": 4,
 "nbformat_minor": 5
}
