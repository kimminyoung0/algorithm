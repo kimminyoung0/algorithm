{
 "cells": [
  {
   "cell_type": "markdown",
   "id": "3b0501af",
   "metadata": {},
   "source": [
    "### 내림차순으로 출력"
   ]
  },
  {
   "cell_type": "code",
   "execution_count": 1,
   "id": "2c71ac28",
   "metadata": {},
   "outputs": [],
   "source": [
    "def DFS(x):\n",
    "    if x > 0:\n",
    "        print(x, end = ' ')\n",
    "        DFS(x-1)"
   ]
  },
  {
   "cell_type": "code",
   "execution_count": 2,
   "id": "565e4ce6",
   "metadata": {},
   "outputs": [
    {
     "name": "stdout",
     "output_type": "stream",
     "text": [
      "10\n",
      "10\n",
      "9\n",
      "8\n",
      "7\n",
      "6\n",
      "5\n",
      "4\n",
      "3\n",
      "2\n",
      "1\n"
     ]
    }
   ],
   "source": [
    "n = int(input())\n",
    "DFS(n)"
   ]
  },
  {
   "cell_type": "markdown",
   "id": "a1c0e9ba",
   "metadata": {},
   "source": [
    "### 오름차순으로 출력"
   ]
  },
  {
   "cell_type": "code",
   "execution_count": 3,
   "id": "f429f397",
   "metadata": {},
   "outputs": [],
   "source": [
    "def DFS(x):\n",
    "    if x > 0:\n",
    "        DFS(x-1)\n",
    "        print(x, end = ' ')"
   ]
  },
  {
   "cell_type": "code",
   "execution_count": 4,
   "id": "91ae8f0d",
   "metadata": {},
   "outputs": [
    {
     "name": "stdout",
     "output_type": "stream",
     "text": [
      "10\n",
      "1\n",
      "2\n",
      "3\n",
      "4\n",
      "5\n",
      "6\n",
      "7\n",
      "8\n",
      "9\n",
      "10\n"
     ]
    }
   ],
   "source": [
    "n = int(input())\n",
    "DFS(n)"
   ]
  },
  {
   "cell_type": "code",
   "execution_count": null,
   "id": "e456f25c",
   "metadata": {},
   "outputs": [],
   "source": []
  }
 ],
 "metadata": {
  "kernelspec": {
   "display_name": "algo",
   "language": "python",
   "name": "algo"
  },
  "language_info": {
   "codemirror_mode": {
    "name": "ipython",
    "version": 3
   },
   "file_extension": ".py",
   "mimetype": "text/x-python",
   "name": "python",
   "nbconvert_exporter": "python",
   "pygments_lexer": "ipython3",
   "version": "3.9.12"
  }
 },
 "nbformat": 4,
 "nbformat_minor": 5
}
