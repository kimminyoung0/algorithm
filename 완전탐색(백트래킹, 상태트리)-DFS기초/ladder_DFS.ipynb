{
 "cells": [
  {
   "cell_type": "markdown",
   "id": "f0d2b581",
   "metadata": {},
   "source": [
    "## 사다리타기(DFS)"
   ]
  },
  {
   "cell_type": "markdown",
   "id": "85235d4d",
   "metadata": {},
   "source": [
    "사다리타기를 하는데 1은 이동할 수 있는 사다리, 0은 공백을 의미한다.\n",
    "\n",
    "현수는 특정 도착지점으로 도착하기 위해서는 몇 번째 열에서 출발해야 하는지 알고 싶다.\n",
    "\n",
    "특정 도착지점은 2로 표기된다."
   ]
  },
  {
   "cell_type": "code",
   "execution_count": null,
   "id": "a27939f4",
   "metadata": {},
   "outputs": [],
   "source": [
    "1 0 1 0 0 1 0 1 0 1\n",
    "1 0 1 1 1 1 0 1 0 1 \n",
    "1 0 1 0 0 1 0 1 0 1\n",
    "1 0 1 0 0 1 0 1 1 1\n",
    "1 0 1 0 0 1 0 1 0 1\n",
    "1 0 1 1 1 1 0 1 0 1 \n",
    "1 0 1 0 0 1 0 1 1 1\n",
    "1 1 1 0 0 1 0 1 0 1\n",
    "1 0 1 0 0 1 1 1 0 1\n",
    "1 0 1 0 0 2 0 1 0 1"
   ]
  },
  {
   "cell_type": "code",
   "execution_count": 27,
   "id": "c4e4262b",
   "metadata": {},
   "outputs": [
    {
     "name": "stdout",
     "output_type": "stream",
     "text": [
      "1 0 1 0 0 1 0 1 0 1\n",
      "1 0 1 1 1 1 0 1 0 1 \n",
      "1 0 1 0 0 1 0 1 0 1\n",
      "1 0 1 0 0 1 0 1 1 1\n",
      "1 0 1 0 0 1 0 1 0 1\n",
      "1 0 1 1 1 1 0 1 0 1 \n",
      "1 0 1 0 0 1 0 1 1 1\n",
      "1 1 1 0 0 1 0 1 0 1\n",
      "1 0 1 0 0 1 1 1 0 1\n",
      "1 0 1 0 0 2 0 1 0 1\n"
     ]
    }
   ],
   "source": [
    "for i in range(10):\n",
    "    row = list(map(int, input().split()))\n",
    "    if 2 in row:\n",
    "        for j in range(10):\n",
    "            if row[j] == 2:\n",
    "                goal = (j, i)\n",
    "    board.append(row)"
   ]
  },
  {
   "cell_type": "code",
   "execution_count": 28,
   "id": "15c3083f",
   "metadata": {},
   "outputs": [
    {
     "data": {
      "text/plain": [
       "(5, 9)"
      ]
     },
     "execution_count": 28,
     "metadata": {},
     "output_type": "execute_result"
    }
   ],
   "source": [
    "goal"
   ]
  },
  {
   "cell_type": "code",
   "execution_count": 29,
   "id": "cd7455c7",
   "metadata": {},
   "outputs": [],
   "source": [
    "dx = [0, 0] # 보통의 경우와 순서 변경, 왼, 오 (상 제외)\n",
    "dy = [-1, 1]\n",
    "ch = [[0]*10 for _ in range(10)]\n",
    "#출발지 저장해야할 것 같음.\n",
    "\n",
    "def DFS(x, y, start):\n",
    "    print(f'DFS({x}, {y}, {start})')\n",
    "    if x == i and y == j:\n",
    "        print(start)\n",
    "        \n",
    "    else:\n",
    "        ch[x][y] = 1\n",
    "        for k in range(2):\n",
    "            xx = x + dx[k]\n",
    "            yy = y + dy[k]\n",
    "            if 0<=xx<10 and 0<=yy<10 and board[xx][yy] == 1 and ch[xx][yy] == 0:\n",
    "                DFS(xx, yy, start)\n",
    "            elif k == 1:\n",
    "                xx = x + 1\n",
    "                yy = y\n",
    "                if 0<=xx<10 and 0<=yy<10 and board[xx][yy] == 1 and ch[xx][yy] == 0:\n",
    "                    DFS(xx, yy, start)"
   ]
  },
  {
   "cell_type": "code",
   "execution_count": 30,
   "id": "7269cb48",
   "metadata": {},
   "outputs": [
    {
     "name": "stdout",
     "output_type": "stream",
     "text": [
      "DFS(0, 0, 0)\n",
      "DFS(1, 0, 0)\n",
      "DFS(2, 0, 0)\n",
      "DFS(3, 0, 0)\n",
      "DFS(4, 0, 0)\n",
      "DFS(5, 0, 0)\n",
      "DFS(6, 0, 0)\n",
      "DFS(7, 0, 0)\n",
      "DFS(7, 1, 0)\n",
      "DFS(7, 2, 0)\n",
      "DFS(8, 2, 0)\n",
      "DFS(9, 2, 0)\n",
      "DFS(0, 2, 2)\n",
      "DFS(1, 2, 2)\n",
      "DFS(1, 3, 2)\n",
      "DFS(1, 4, 2)\n",
      "DFS(1, 5, 2)\n",
      "DFS(2, 5, 2)\n",
      "DFS(3, 5, 2)\n",
      "DFS(4, 5, 2)\n",
      "DFS(5, 5, 2)\n",
      "DFS(5, 4, 2)\n",
      "DFS(5, 3, 2)\n",
      "DFS(5, 2, 2)\n",
      "DFS(6, 2, 2)\n",
      "DFS(7, 2, 2)\n",
      "DFS(7, 1, 2)\n",
      "DFS(7, 0, 2)\n",
      "DFS(8, 0, 2)\n",
      "DFS(9, 0, 2)\n",
      "DFS(8, 2, 2)\n",
      "DFS(9, 2, 2)\n",
      "DFS(6, 5, 2)\n",
      "DFS(7, 5, 2)\n",
      "DFS(8, 5, 2)\n",
      "DFS(8, 6, 2)\n",
      "DFS(8, 7, 2)\n",
      "DFS(9, 7, 2)\n",
      "DFS(0, 5, 5)\n",
      "DFS(1, 5, 5)\n",
      "DFS(1, 4, 5)\n",
      "DFS(1, 3, 5)\n",
      "DFS(1, 2, 5)\n",
      "DFS(2, 2, 5)\n",
      "DFS(3, 2, 5)\n",
      "DFS(4, 2, 5)\n",
      "DFS(5, 2, 5)\n",
      "DFS(5, 3, 5)\n",
      "DFS(5, 4, 5)\n",
      "DFS(5, 5, 5)\n",
      "DFS(6, 5, 5)\n",
      "DFS(7, 5, 5)\n",
      "DFS(8, 5, 5)\n",
      "DFS(8, 6, 5)\n",
      "DFS(8, 7, 5)\n",
      "DFS(9, 7, 5)\n",
      "DFS(2, 5, 5)\n",
      "DFS(3, 5, 5)\n",
      "DFS(4, 5, 5)\n",
      "DFS(0, 7, 7)\n",
      "DFS(1, 7, 7)\n",
      "DFS(2, 7, 7)\n",
      "DFS(3, 7, 7)\n",
      "DFS(3, 8, 7)\n",
      "DFS(3, 9, 7)\n",
      "DFS(4, 9, 7)\n",
      "DFS(5, 9, 7)\n",
      "DFS(6, 9, 7)\n",
      "DFS(6, 8, 7)\n",
      "DFS(6, 7, 7)\n",
      "DFS(7, 7, 7)\n",
      "DFS(8, 7, 7)\n",
      "DFS(8, 6, 7)\n",
      "DFS(8, 5, 7)\n",
      "DFS(9, 7, 7)\n",
      "DFS(7, 9, 7)\n",
      "7\n",
      "DFS(0, 9, 9)\n",
      "DFS(1, 9, 9)\n",
      "DFS(2, 9, 9)\n",
      "DFS(3, 9, 9)\n",
      "DFS(3, 8, 9)\n",
      "DFS(3, 7, 9)\n",
      "DFS(4, 7, 9)\n",
      "DFS(5, 7, 9)\n",
      "DFS(6, 7, 9)\n",
      "DFS(6, 8, 9)\n",
      "DFS(6, 9, 9)\n",
      "DFS(7, 9, 9)\n",
      "DFS(8, 9, 9)\n",
      "DFS(9, 9, 9)\n",
      "9\n",
      "DFS(4, 9, 9)\n",
      "DFS(5, 9, 9)\n"
     ]
    }
   ],
   "source": [
    "for i in range(10):\n",
    "    if board[0][i]==1:\n",
    "        DFS(0, i, i)\n",
    "        ch = [[0]*10 for _ in range(10)]"
   ]
  },
  {
   "cell_type": "code",
   "execution_count": null,
   "id": "bd8ee2e8",
   "metadata": {},
   "outputs": [],
   "source": [
    "왜 9도 출력되는지 찾고 해결하기"
   ]
  }
 ],
 "metadata": {
  "kernelspec": {
   "display_name": "algo",
   "language": "python",
   "name": "algo"
  },
  "language_info": {
   "codemirror_mode": {
    "name": "ipython",
    "version": 3
   },
   "file_extension": ".py",
   "mimetype": "text/x-python",
   "name": "python",
   "nbconvert_exporter": "python",
   "pygments_lexer": "ipython3",
   "version": "3.9.12"
  }
 },
 "nbformat": 4,
 "nbformat_minor": 5
}
