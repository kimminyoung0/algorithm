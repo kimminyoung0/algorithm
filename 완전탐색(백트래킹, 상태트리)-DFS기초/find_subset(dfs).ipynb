{
 "cells": [
  {
   "cell_type": "markdown",
   "id": "ff78c0b7",
   "metadata": {},
   "source": [
    "## 부분집합 구하기"
   ]
  },
  {
   "cell_type": "markdown",
   "id": "c382b65f",
   "metadata": {},
   "source": [
    "자연수 n이 주어지면, 1부터 n까지의 숫자를 원소로 갖는 부분집합을 출력하라(전위순회)\n",
    "\n",
    "공집합은 출력하지 않는다."
   ]
  },
  {
   "cell_type": "markdown",
   "id": "c0363398",
   "metadata": {},
   "source": [
    "1을 사용하는가 아닌가로 이진트리 구성.\n",
    "\n",
    "2를 사용하는가 아닌가로 이진트리 구성.\n",
    "\n",
    "...\n",
    "\n",
    "n을 사용하는가 아닌가로 이진트리 구성."
   ]
  },
  {
   "cell_type": "markdown",
   "id": "0cda7323",
   "metadata": {},
   "source": [
    "**DFS문제를 잘 풀려면 상태트리를 잘 만들어야 한다.**"
   ]
  },
  {
   "cell_type": "code",
   "execution_count": 12,
   "id": "ec01643a",
   "metadata": {},
   "outputs": [],
   "source": [
    "def find_subset(v):\n",
    "    if v==n+1:\n",
    "        for i in range(1, n+1):\n",
    "            if ch[i] == 1:\n",
    "                print(i, end = ' ')\n",
    "        print() #######줄바꿈\n",
    "    else:\n",
    "        ch[v] = 1\n",
    "        find_subset(v+1) #v3이 들어와서 4가 함수에 들어가게 되면, 바로 출력.\n",
    "        ch[v] = 0\n",
    "        find_subset(v+1)"
   ]
  },
  {
   "cell_type": "code",
   "execution_count": 13,
   "id": "b966eeaf",
   "metadata": {},
   "outputs": [
    {
     "name": "stdout",
     "output_type": "stream",
     "text": [
      "3\n",
      "1 2 3 \n",
      "1 2 \n",
      "1 3 \n",
      "1 \n",
      "2 3 \n",
      "2 \n",
      "3 \n",
      "\n"
     ]
    }
   ],
   "source": [
    "n = int(input())\n",
    "ch = [0]*(n+1)\n",
    "find_subset(1)"
   ]
  },
  {
   "cell_type": "code",
   "execution_count": null,
   "id": "12332bd9",
   "metadata": {},
   "outputs": [],
   "source": []
  }
 ],
 "metadata": {
  "kernelspec": {
   "display_name": "algo",
   "language": "python",
   "name": "algo"
  },
  "language_info": {
   "codemirror_mode": {
    "name": "ipython",
    "version": 3
   },
   "file_extension": ".py",
   "mimetype": "text/x-python",
   "name": "python",
   "nbconvert_exporter": "python",
   "pygments_lexer": "ipython3",
   "version": "3.9.12"
  }
 },
 "nbformat": 4,
 "nbformat_minor": 5
}
