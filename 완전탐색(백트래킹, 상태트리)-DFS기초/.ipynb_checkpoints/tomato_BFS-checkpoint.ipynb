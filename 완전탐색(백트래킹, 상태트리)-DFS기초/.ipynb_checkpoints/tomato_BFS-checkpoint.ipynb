{
 "cells": [
  {
   "cell_type": "markdown",
   "id": "ccfb2371",
   "metadata": {},
   "source": [
    "## 토마토(BFS)"
   ]
  },
  {
   "cell_type": "markdown",
   "id": "6d7beab9",
   "metadata": {},
   "source": [
    "토마토는 nxm 격자 모양 상자의 칸에 하나씩 넣어서 창고에 보관한다. 토마토들 중에 잘 익은 것들은 상하좌우에 있는 익지않은 토마토들을 하루동안 익을 수 있게 만든다.\n",
    "\n",
    "창고에 보관된 토마토들이 며칠이 지나면 다 익게 되는지, 그 최소 일수를 알고 싶어 한다.\n",
    "단, 상자의 일부 칸에는 토마토가 들어있지 않을 수도 있다.\n",
    "\n",
    "첫 줄에는 상자의 크기 m(가로), n(세로)이 주어지고, 다음 줄부터는 n개의 줄에 걸쳐서 토마토의 상태 정보가 주어지는데, 1은 익으 토마토, 0은 익지 않은 토마토, -1은 토마토가 들어 있지 않은 칸을 나타낸다."
   ]
  },
  {
   "cell_type": "code",
   "execution_count": null,
   "id": "d2d0cd00",
   "metadata": {},
   "outputs": [],
   "source": [
    "6 4\n",
    "0 0 -1 0 0 0\n",
    "0 0 1 0 -1 0\n",
    "0 0 -1 0 0 0\n",
    "0 0 0 0 -1 1"
   ]
  },
  {
   "cell_type": "code",
   "execution_count": 18,
   "id": "51a9f8f0",
   "metadata": {},
   "outputs": [
    {
     "name": "stdout",
     "output_type": "stream",
     "text": [
      "6 4\n",
      "0 0 -1 0 0 0\n",
      "0 0 1 0 -1 0\n",
      "0 0 -1 0 0 0\n",
      "0 0 0 0 -1 1\n"
     ]
    }
   ],
   "source": [
    "m, n = map(int, input().split())\n",
    "board = [list(map(int, input().split())) for _ in range(n)]"
   ]
  },
  {
   "cell_type": "code",
   "execution_count": 19,
   "id": "75352070",
   "metadata": {},
   "outputs": [
    {
     "name": "stdout",
     "output_type": "stream",
     "text": [
      "i, j 1 2\n",
      "x, y 1 3\n",
      "x, y 1 1\n",
      "i, j 3 5\n",
      "x, y 2 5\n",
      "i, j 1 1\n",
      "x, y 0 1\n",
      "x, y 2 1\n",
      "x, y 1 0\n",
      "i, j 1 2\n",
      "i, j 1 3\n",
      "x, y 0 3\n",
      "x, y 2 3\n",
      "i, j 2 5\n",
      "x, y 1 5\n",
      "x, y 2 4\n",
      "i, j 3 5\n",
      "i, j 0 1\n",
      "x, y 0 0\n",
      "i, j 0 3\n",
      "x, y 0 4\n",
      "i, j 1 0\n",
      "x, y 2 0\n",
      "i, j 1 1\n",
      "i, j 1 2\n",
      "i, j 1 3\n",
      "i, j 1 5\n",
      "x, y 0 5\n",
      "i, j 2 1\n",
      "x, y 3 1\n",
      "i, j 2 3\n",
      "x, y 3 3\n",
      "i, j 2 4\n",
      "i, j 2 5\n",
      "i, j 3 5\n",
      "i, j 0 0\n",
      "i, j 0 1\n",
      "i, j 0 3\n",
      "i, j 0 4\n",
      "i, j 0 5\n",
      "i, j 1 0\n",
      "i, j 1 1\n",
      "i, j 1 2\n",
      "i, j 1 3\n",
      "i, j 1 5\n",
      "i, j 2 0\n",
      "x, y 3 0\n",
      "i, j 2 1\n",
      "i, j 2 3\n",
      "i, j 2 4\n",
      "i, j 2 5\n",
      "i, j 3 1\n",
      "x, y 3 2\n",
      "i, j 3 3\n",
      "i, j 3 5\n",
      "4\n"
     ]
    }
   ],
   "source": [
    "from collections import deque\n",
    "\n",
    "dx = [-1, 0, 1, 0]\n",
    "dy = [0, 1, 0, -1]\n",
    "cnt = 0\n",
    "q = deque()\n",
    "ch = [[0]*m for _ in range(n)]\n",
    "\n",
    "while any(0 in row for row in board):\n",
    "    for i in range(n):\n",
    "        for j in range(m):\n",
    "            if board[i][j] == 1 and ch[i][j] == 0:\n",
    "                #print(\"i, j\", i, j)\n",
    "                ch[i][j] = 1\n",
    "\n",
    "                for k in range(4):\n",
    "                    x = i + dx[k]\n",
    "                    y = j + dy[k]\n",
    "                    if 0<=x<n and 0<=y<m and board[x][y] == 0 and ch[x][y] == 0:\n",
    "                        #print(\"x, y\", x, y)\n",
    "                        board[x][y] = 1\n",
    "                        ch[x][y] = 1\n",
    "    else:\n",
    "        cnt += 1\n",
    "        ch = [[0]*m for _ in range(n)]\n",
    "\n",
    "print(cnt)"
   ]
  }
 ],
 "metadata": {
  "kernelspec": {
   "display_name": "algo",
   "language": "python",
   "name": "algo"
  },
  "language_info": {
   "codemirror_mode": {
    "name": "ipython",
    "version": 3
   },
   "file_extension": ".py",
   "mimetype": "text/x-python",
   "name": "python",
   "nbconvert_exporter": "python",
   "pygments_lexer": "ipython3",
   "version": "3.9.12"
  }
 },
 "nbformat": 4,
 "nbformat_minor": 5
}
