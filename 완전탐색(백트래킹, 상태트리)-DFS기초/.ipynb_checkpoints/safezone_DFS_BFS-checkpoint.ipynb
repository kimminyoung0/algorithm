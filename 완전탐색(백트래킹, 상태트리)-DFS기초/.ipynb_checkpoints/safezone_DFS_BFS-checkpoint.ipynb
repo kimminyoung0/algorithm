{
 "cells": [
  {
   "cell_type": "markdown",
   "id": "9aec0385",
   "metadata": {},
   "source": [
    "## 안전영역(DFS & BFS)"
   ]
  },
  {
   "cell_type": "markdown",
   "id": "7581f8fd",
   "metadata": {},
   "source": [
    "어떤 지역의 높이 정보가 nxn 격자판으로 주어지는데, 일정한 높이 이상의 상하좌우로 붙어있는 지점을 안전지역이라고 한다.\n",
    "\n",
    "주어지는 일정한 높이에 따라 안전한 영역의 개수가 바뀌는데, 어떤 지역의 높이 정보가 주어졌을 때, 장마철에 물에 잠기지 않는 안전한 영역의 최대 개수를 계산하는 프로그램을 작성하라."
   ]
  },
  {
   "cell_type": "code",
   "execution_count": null,
   "id": "928ac402",
   "metadata": {},
   "outputs": [],
   "source": [
    "5\n",
    "6 8 2 6 2\n",
    "3 2 3 4 6\n",
    "6 7 3 3 2\n",
    "7 2 5 3 6\n",
    "8 9 5 2 7"
   ]
  },
  {
   "cell_type": "code",
   "execution_count": 6,
   "id": "f94d0f5e",
   "metadata": {},
   "outputs": [
    {
     "name": "stdout",
     "output_type": "stream",
     "text": [
      "5\n",
      "6 8 2 6 2\n",
      "3 2 3 4 6\n",
      "6 7 3 3 2\n",
      "7 2 5 3 6\n",
      "8 9 5 2 7\n"
     ]
    }
   ],
   "source": [
    "n = int(input())\n",
    "\n",
    "max_h = -200000000\n",
    "min_h = 200000000\n",
    "board = []\n",
    "for i in range(n):\n",
    "    tmp = list(map(int, input().split()))\n",
    "    for j in tmp:\n",
    "        if j > max_h:\n",
    "            max_h = j\n",
    "        if j< min_h:\n",
    "            min_h = j\n",
    "    board.append(tmp)"
   ]
  },
  {
   "cell_type": "markdown",
   "id": "ebfd5116",
   "metadata": {},
   "source": [
    "### DFS 방식"
   ]
  },
  {
   "cell_type": "code",
   "execution_count": 36,
   "id": "622f5ae6",
   "metadata": {},
   "outputs": [
    {
     "name": "stdout",
     "output_type": "stream",
     "text": [
      "[1, 4, 5, 5, 4, 2, 1]\n",
      "5\n"
     ]
    }
   ],
   "source": [
    "dx = [-1, 0, 1, 0]\n",
    "dy = [0, 1, 0, -1]\n",
    "res = []\n",
    "def DFS(x, y, h):\n",
    "    global cnt\n",
    "    for k in range(4):\n",
    "        xx = x + dx[k]\n",
    "        yy = y + dy[k]\n",
    "        if 0<=xx<n and 0<=yy<n and board[xx][yy]>h and ch[xx][yy] == 0:\n",
    "            #print(f'DFS({xx}, {yy}, {h})')\n",
    "            ch[xx][yy] = 1\n",
    "            DFS(xx, yy, h)\n",
    "            \n",
    "for h in range(min_h, max_h):\n",
    "    ch = [[0]*n for _ in range(n)]\n",
    "    cnt = 0\n",
    "    for i in range(n):\n",
    "        for j in range(n):\n",
    "            \n",
    "            if board[i][j] > h and ch[i][j] == 0:\n",
    "                ch[i][j] = 1\n",
    "                cnt += 1\n",
    "                #print(f'DFS({i}, {j}, {h})')\n",
    "                DFS(i, j, h) #맨처음 (0,0,2)\n",
    "    res.append(cnt)\n",
    "\n",
    "print(res)\n",
    "print(max(res))"
   ]
  },
  {
   "cell_type": "markdown",
   "id": "a75c209f",
   "metadata": {},
   "source": [
    "### BFS방식"
   ]
  },
  {
   "cell_type": "code",
   "execution_count": 56,
   "id": "1b724703",
   "metadata": {},
   "outputs": [
    {
     "name": "stdout",
     "output_type": "stream",
     "text": [
      "[1, 4, 5, 5, 4, 2, 1]\n",
      "5\n"
     ]
    }
   ],
   "source": [
    "from collections import deque\n",
    "\n",
    "dx = [-1, 0, 1, 0]\n",
    "dy = [0, 1, 0, -1]\n",
    "res = []\n",
    "q = deque()\n",
    "\n",
    "for h in range(min_h, max_h):\n",
    "    ch = [[0]*n for _ in range(n)]\n",
    "    cnt = 0\n",
    "    for i in range(n):\n",
    "        for j in range(n):\n",
    "            if board[i][j] > h and ch[i][j] == 0:\n",
    "                ch[i][j] = 1\n",
    "                q.append((i, j))\n",
    "                cnt += 1\n",
    "                while q:\n",
    "                    tmp = q.popleft()\n",
    "                    for k in range(4):\n",
    "                        x = tmp[0] + dx[k]\n",
    "                        y = tmp[1] + dy[k]\n",
    "                        if 0<=x<n and 0<=y<n and ch[x][y]==0 and board[x][y]>h:\n",
    "                            ch[x][y] = 1\n",
    "                            q.append((x, y))\n",
    "    res.append(cnt)\n",
    "                \n",
    "print(res)\n",
    "print(max(res))"
   ]
  }
 ],
 "metadata": {
  "kernelspec": {
   "display_name": "algo",
   "language": "python",
   "name": "algo"
  },
  "language_info": {
   "codemirror_mode": {
    "name": "ipython",
    "version": 3
   },
   "file_extension": ".py",
   "mimetype": "text/x-python",
   "name": "python",
   "nbconvert_exporter": "python",
   "pygments_lexer": "ipython3",
   "version": "3.9.12"
  }
 },
 "nbformat": 4,
 "nbformat_minor": 5
}
