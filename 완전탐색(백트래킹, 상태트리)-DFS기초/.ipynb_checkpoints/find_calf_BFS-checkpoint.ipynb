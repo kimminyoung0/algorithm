{
 "cells": [
  {
   "cell_type": "markdown",
   "id": "c74b88fb",
   "metadata": {},
   "source": [
    "## 송아지찾기(BFS)"
   ]
  },
  {
   "cell_type": "markdown",
   "id": "f0b24af5",
   "metadata": {},
   "source": [
    "현수는 스카이콩콩을 타고 송아지의 위치로 가는데, 앞으로 1, 뒤로 1, 앞으로 5만큼 이동할 수 있다. 최소 몇 번의 점프로 현수가 송아지의 위치까지 갈 수 있는지 구하는 프로그램을 작성하시오."
   ]
  },
  {
   "cell_type": "code",
   "execution_count": 32,
   "id": "b239eb1d",
   "metadata": {},
   "outputs": [],
   "source": [
    "from collections import deque\n",
    "\n",
    "MAX = 10000 #좌표의 맥시멈\n",
    "ch = [0] * (MAX+1)\n",
    "dis = [0] * (MAX+1)"
   ]
  },
  {
   "cell_type": "code",
   "execution_count": 33,
   "id": "0b02c0e8",
   "metadata": {},
   "outputs": [
    {
     "name": "stdout",
     "output_type": "stream",
     "text": [
      "5 14\n"
     ]
    }
   ],
   "source": [
    "s, e = map(int, input().split())"
   ]
  },
  {
   "cell_type": "code",
   "execution_count": 34,
   "id": "77d969a6",
   "metadata": {},
   "outputs": [
    {
     "name": "stdout",
     "output_type": "stream",
     "text": [
      "3\n"
     ]
    }
   ],
   "source": [
    "ch[s] = 1\n",
    "dq = deque()\n",
    "dq.append(s)\n",
    "\n",
    "while dq:\n",
    "#     print('dq의 상태', dq)\n",
    "#     print('dis의 상태', dis)\n",
    "    now = dq.popleft()\n",
    "    if now == e:\n",
    "        break\n",
    "    for next in(now-1, now+1, now+5):\n",
    "        if 0 < next <= MAX:\n",
    "            if ch[next] == 0: #방문을 안 했을 때만\n",
    "                dq.append(next)\n",
    "                ch[next] = 1\n",
    "                dis[next] = dis[now] + 1\n",
    "                \n",
    "print(dis[e])  "
   ]
  }
 ],
 "metadata": {
  "kernelspec": {
   "display_name": "algo",
   "language": "python",
   "name": "algo"
  },
  "language_info": {
   "codemirror_mode": {
    "name": "ipython",
    "version": 3
   },
   "file_extension": ".py",
   "mimetype": "text/x-python",
   "name": "python",
   "nbconvert_exporter": "python",
   "pygments_lexer": "ipython3",
   "version": "3.9.12"
  }
 },
 "nbformat": 4,
 "nbformat_minor": 5
}
