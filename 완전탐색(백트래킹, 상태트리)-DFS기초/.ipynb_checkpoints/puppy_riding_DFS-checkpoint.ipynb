{
 "cells": [
  {
   "cell_type": "markdown",
   "id": "5fda5c0a",
   "metadata": {},
   "source": [
    "## 바둑이 승차(DFS)"
   ]
  },
  {
   "cell_type": "markdown",
   "id": "aa379ea8",
   "metadata": {},
   "source": [
    "철수는 그의 바둑이들을 데리고 시장에 가는데, 그의 트럭에는 c킬로그램을 넘게 태울 수가 없다. \n",
    "\n",
    "철수는 c를 넘지않으면서 그의 바둑이들을 가장 무겁게 태우고 싶다.\n",
    " \n",
    "n마리의 바둑이와 각 바둑이의 무게 w가 주어지면, 철수가 트럭에 태울 수 있는 가장 무거운 무게를 출력하시오."
   ]
  },
  {
   "cell_type": "code",
   "execution_count": 4,
   "id": "3ec7d244",
   "metadata": {},
   "outputs": [
    {
     "name": "stdout",
     "output_type": "stream",
     "text": [
      "259 5\n",
      "81\n",
      "58\n",
      "42\n",
      "33\n",
      "61\n"
     ]
    }
   ],
   "source": [
    "c, n =map(int, input().split())\n",
    "weis = []\n",
    "for i in range(n):\n",
    "    wei = int(input())\n",
    "    weis.append(wei)\n"
   ]
  },
  {
   "cell_type": "code",
   "execution_count": 81,
   "id": "06ff6ae5",
   "metadata": {},
   "outputs": [],
   "source": [
    "ch = [0]*(n+1)\n",
    "bigg = -100000000\n",
    "def DFS(x):\n",
    "    global bigg\n",
    "    if x == n+1:\n",
    "        sums = 0\n",
    "        for i in range(len(weis)):\n",
    "            if ch[i] == 1:\n",
    "                sums += weis[i]\n",
    "        \n",
    "        if sums > bigg and sums < 259:\n",
    "            bigg = sums\n",
    "    else:\n",
    "        ch[x] = 1\n",
    "        DFS(x+1)\n",
    "        ch[x] = 0\n",
    "        DFS(x+1)"
   ]
  },
  {
   "cell_type": "code",
   "execution_count": 82,
   "id": "7eac5270",
   "metadata": {},
   "outputs": [
    {
     "name": "stdout",
     "output_type": "stream",
     "text": [
      "242\n"
     ]
    }
   ],
   "source": [
    "DFS(0)\n",
    "print(bigg)"
   ]
  },
  {
   "cell_type": "code",
   "execution_count": null,
   "id": "72e0c40a",
   "metadata": {},
   "outputs": [],
   "source": []
  },
  {
   "cell_type": "code",
   "execution_count": null,
   "id": "c10015ff",
   "metadata": {},
   "outputs": [],
   "source": []
  }
 ],
 "metadata": {
  "kernelspec": {
   "display_name": "algo",
   "language": "python",
   "name": "algo"
  },
  "language_info": {
   "codemirror_mode": {
    "name": "ipython",
    "version": 3
   },
   "file_extension": ".py",
   "mimetype": "text/x-python",
   "name": "python",
   "nbconvert_exporter": "python",
   "pygments_lexer": "ipython3",
   "version": "3.9.12"
  }
 },
 "nbformat": 4,
 "nbformat_minor": 5
}
