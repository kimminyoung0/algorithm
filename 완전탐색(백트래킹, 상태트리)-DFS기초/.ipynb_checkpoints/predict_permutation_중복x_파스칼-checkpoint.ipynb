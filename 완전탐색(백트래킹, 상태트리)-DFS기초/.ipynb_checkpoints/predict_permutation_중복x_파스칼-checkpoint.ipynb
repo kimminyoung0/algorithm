{
 "cells": [
  {
   "cell_type": "markdown",
   "id": "5e547cc7",
   "metadata": {},
   "source": [
    "## 수열 추측하기"
   ]
  },
  {
   "cell_type": "markdown",
   "id": "463cd8a1",
   "metadata": {},
   "source": [
    "가장 윗줄에 1부터 n까지의 숫자가 한 개 씩 적혀져 있고, 파스칼의 삼각형처럼 위의 두 개를 더한 값이 저장되어 최종적으로는 마지막줄에 숫자 하나가 들어간다.(역삼각형)\n",
    "\n",
    "n과 맨 마지막 줄의 숫자가 주어지면, 맨 윗줄의 숫자들을 구하는 프로그램을 작성하시오."
   ]
  },
  {
   "cell_type": "code",
   "execution_count": 3,
   "id": "a71aae15",
   "metadata": {},
   "outputs": [],
   "source": [
    "import sys"
   ]
  },
  {
   "cell_type": "code",
   "execution_count": 4,
   "id": "6fdddf6e",
   "metadata": {},
   "outputs": [
    {
     "name": "stdout",
     "output_type": "stream",
     "text": [
      "4 16\n"
     ]
    }
   ],
   "source": [
    "n, f = map(int, input().split())"
   ]
  },
  {
   "cell_type": "code",
   "execution_count": 5,
   "id": "12154c20",
   "metadata": {},
   "outputs": [],
   "source": [
    "res = [0]*n\n",
    "ch = [0]*(n+1)\n",
    "def DFS(x):\n",
    "    if x == n: #4개 뽑으면 그 숫자들로 더해내려갔을 때 16이 나오면 res 출력\n",
    "#         for i in res:\n",
    "#              print(i, end = ' ')\n",
    "#         print()\n",
    "        \n",
    "        sums = res.copy()\n",
    "        ans = pas(n, sums)\n",
    "        if ans == f:\n",
    "            print(' '.join(map(str, res)))\n",
    "            sys.exit()\n",
    "        else: \n",
    "            pass\n",
    "    else:\n",
    "        for i in range(1, n+1):\n",
    "            if ch[i] == 0:\n",
    "                ch[i] = 1\n",
    "                res[x] = i\n",
    "                DFS(x+1)\n",
    "                ch[i] = 0"
   ]
  },
  {
   "cell_type": "code",
   "execution_count": 6,
   "id": "9402f3fb",
   "metadata": {},
   "outputs": [],
   "source": [
    "def pas(l, sums):\n",
    "\n",
    "    if l == 1:\n",
    "        return sums[0]\n",
    "    else:\n",
    "        lenn = len(sums) #4\n",
    "        for i in range(1, lenn): #1, 2, 3\n",
    "            tmp = sums[0] + sums[1]\n",
    "            sums.append(tmp)\n",
    "            sums.pop(0)\n",
    "        else:\n",
    "            sums.pop(0)\n",
    "        \n",
    "        return pas(l-1, sums)"
   ]
  },
  {
   "cell_type": "code",
   "execution_count": 7,
   "id": "604959b5",
   "metadata": {},
   "outputs": [
    {
     "name": "stdout",
     "output_type": "stream",
     "text": [
      "3 1 2 4\n"
     ]
    },
    {
     "ename": "SystemExit",
     "evalue": "",
     "output_type": "error",
     "traceback": [
      "An exception has occurred, use %tb to see the full traceback.\n",
      "\u001b[0;31mSystemExit\u001b[0m\n"
     ]
    },
    {
     "name": "stderr",
     "output_type": "stream",
     "text": [
      "/Users/kimminyoung/opt/anaconda3/envs/algo/lib/python3.9/site-packages/IPython/core/interactiveshell.py:3405: UserWarning: To exit: use 'exit', 'quit', or Ctrl-D.\n",
      "  warn(\"To exit: use 'exit', 'quit', or Ctrl-D.\", stacklevel=1)\n"
     ]
    }
   ],
   "source": [
    "DFS(0)"
   ]
  }
 ],
 "metadata": {
  "kernelspec": {
   "display_name": "algo",
   "language": "python",
   "name": "algo"
  },
  "language_info": {
   "codemirror_mode": {
    "name": "ipython",
    "version": 3
   },
   "file_extension": ".py",
   "mimetype": "text/x-python",
   "name": "python",
   "nbconvert_exporter": "python",
   "pygments_lexer": "ipython3",
   "version": "3.9.12"
  }
 },
 "nbformat": 4,
 "nbformat_minor": 5
}
