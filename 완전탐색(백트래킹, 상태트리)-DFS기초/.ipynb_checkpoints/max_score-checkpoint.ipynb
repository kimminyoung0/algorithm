{
 "cells": [
  {
   "cell_type": "markdown",
   "id": "b059e11e",
   "metadata": {},
   "source": [
    "## 최대 점수 구하기(DFS)"
   ]
  },
  {
   "cell_type": "markdown",
   "id": "df567368",
   "metadata": {},
   "source": [
    "현수는 n개의 문제를 푸는데, 각 문제는 그것을 풀었을 때 얻는 점수와 푸는데 걸리는 시간이 주어지게 된다. 제안시간 m안에 n개의 문제 중 최대점수를 얻을 수 있도록 해야 한다."
   ]
  },
  {
   "cell_type": "code",
   "execution_count": null,
   "id": "1178a5cf",
   "metadata": {},
   "outputs": [],
   "source": [
    "5 20\n",
    "\n",
    "#점수와 시간\n",
    "10 5\n",
    "25 12\n",
    "15 8\n",
    "6 3\n",
    "7 4"
   ]
  },
  {
   "cell_type": "code",
   "execution_count": 3,
   "id": "48d87ea0",
   "metadata": {},
   "outputs": [
    {
     "name": "stdout",
     "output_type": "stream",
     "text": [
      "5 20\n",
      "10 5\n",
      "25 12\n",
      "15 8\n",
      "6 3\n",
      "7 4\n"
     ]
    }
   ],
   "source": [
    "n, m = map(int, input().split())\n",
    "lst = [list(map(int, input().split())) for i in range(n)]"
   ]
  },
  {
   "cell_type": "code",
   "execution_count": 11,
   "id": "c938d1a5",
   "metadata": {},
   "outputs": [],
   "source": [
    "max_score = -1000000000\n",
    "def DFS(x, score, time):\n",
    "    global max_score\n",
    "    if time > m:\n",
    "        return\n",
    "    if x == n:\n",
    "        if score > max_score:\n",
    "            max_score = score\n",
    "        \n",
    "    else:        \n",
    "        DFS(x+1, score + lst[x][0], time + lst[x][1]) #푼다\n",
    "        DFS(x+1, score, time) #안 푼다"
   ]
  },
  {
   "cell_type": "code",
   "execution_count": 12,
   "id": "9e00c363",
   "metadata": {},
   "outputs": [
    {
     "name": "stdout",
     "output_type": "stream",
     "text": [
      "41\n"
     ]
    }
   ],
   "source": [
    "DFS(0, 0, 0)\n",
    "print(max_score)"
   ]
  },
  {
   "cell_type": "code",
   "execution_count": null,
   "id": "4b76c09a",
   "metadata": {},
   "outputs": [],
   "source": []
  },
  {
   "cell_type": "code",
   "execution_count": null,
   "id": "1744abe4",
   "metadata": {},
   "outputs": [],
   "source": []
  }
 ],
 "metadata": {
  "kernelspec": {
   "display_name": "algo",
   "language": "python",
   "name": "algo"
  },
  "language_info": {
   "codemirror_mode": {
    "name": "ipython",
    "version": 3
   },
   "file_extension": ".py",
   "mimetype": "text/x-python",
   "name": "python",
   "nbconvert_exporter": "python",
   "pygments_lexer": "ipython3",
   "version": "3.9.12"
  }
 },
 "nbformat": 4,
 "nbformat_minor": 5
}
