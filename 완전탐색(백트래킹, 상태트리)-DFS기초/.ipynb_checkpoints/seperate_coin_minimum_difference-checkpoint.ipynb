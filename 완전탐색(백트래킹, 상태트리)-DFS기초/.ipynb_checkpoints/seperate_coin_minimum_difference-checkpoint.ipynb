{
 "cells": [
  {
   "cell_type": "markdown",
   "id": "b6904eb1",
   "metadata": {},
   "source": [
    "## 동전 분배하기"
   ]
  },
  {
   "cell_type": "markdown",
   "id": "c63b70aa",
   "metadata": {},
   "source": [
    "n개의 동전을 a, b, c 세 명에게 나누어 주려고 하는데, 세 명이 받은 각각의 총액을 계산해 총액이 가장 큰 사람과 가장 작은 사람의 차가 최소가 되도록 최소차를 출력하시오."
   ]
  },
  {
   "cell_type": "code",
   "execution_count": 2,
   "id": "0e910303",
   "metadata": {},
   "outputs": [
    {
     "name": "stdout",
     "output_type": "stream",
     "text": [
      "7\n",
      "8\n",
      "9\n",
      "11\n",
      "12\n",
      "23\n",
      "15\n",
      "17\n"
     ]
    }
   ],
   "source": [
    "n = int(input())\n",
    "lst = [int(input()) for _ in range(n)]"
   ]
  },
  {
   "cell_type": "code",
   "execution_count": 54,
   "id": "616d5c08",
   "metadata": {},
   "outputs": [],
   "source": [
    "part = []\n",
    "min_dif = 20000000000\n",
    "#p1, p2, asum, bsum, csum, \n",
    "max_sum = 0 \n",
    "min_sum= 0\n",
    "dif = 0\n",
    "def DFS(x, s):\n",
    "    global max_sum, min_sum, dif, min_dif\n",
    "    if x == 2:\n",
    "        print(part)\n",
    "        p1 = part[0]+1\n",
    "        p2 = part[1]+1\n",
    "        asum = sum(lst[:p1])\n",
    "        bsum = sum(lst[p1:p2])\n",
    "        csum = sum(lst[p2:])\n",
    "        max_sum = max(asum, bsum, csum)\n",
    "        min_sum  = min(asum, bsum, csum)\n",
    "        dif = abs(max_sum - min_sum)\n",
    "        print(max_sum, min_sum, dif)\n",
    "        if dif < min_dif:\n",
    "            min_dif = dif\n",
    "    else:\n",
    "        for i in range(s, n-1): #0~5 6가지 파티션\n",
    "            part.append(i)\n",
    "            print(f'DFS({x+1}, {i+1})')\n",
    "            DFS(x+1, i+1)\n",
    "            part.pop()"
   ]
  },
  {
   "cell_type": "code",
   "execution_count": 55,
   "id": "706216f5",
   "metadata": {},
   "outputs": [
    {
     "name": "stdout",
     "output_type": "stream",
     "text": [
      "DFS(1, 1)\n",
      "DFS(2, 2)\n",
      "[0, 1]\n",
      "78 8 70\n",
      "DFS(2, 3)\n",
      "[0, 2]\n",
      "67 8 59\n",
      "DFS(2, 4)\n",
      "[0, 3]\n",
      "55 8 47\n",
      "DFS(2, 5)\n",
      "[0, 4]\n",
      "55 8 47\n",
      "DFS(2, 6)\n",
      "[0, 5]\n",
      "70 8 62\n",
      "DFS(1, 2)\n",
      "DFS(2, 3)\n",
      "[1, 2]\n",
      "67 11 56\n",
      "DFS(2, 4)\n",
      "[1, 3]\n",
      "55 17 38\n",
      "DFS(2, 5)\n",
      "[1, 4]\n",
      "46 17 29\n",
      "DFS(2, 6)\n",
      "[1, 5]\n",
      "61 17 44\n",
      "DFS(1, 3)\n",
      "DFS(2, 4)\n",
      "[2, 3]\n",
      "55 12 43\n",
      "DFS(2, 5)\n",
      "[2, 4]\n",
      "35 28 7\n",
      "DFS(2, 6)\n",
      "[2, 5]\n",
      "50 17 33\n",
      "DFS(1, 4)\n",
      "DFS(2, 5)\n",
      "[3, 4]\n",
      "40 23 17\n",
      "DFS(2, 6)\n",
      "[3, 5]\n",
      "40 17 23\n",
      "DFS(1, 5)\n",
      "DFS(2, 6)\n",
      "[4, 5]\n",
      "63 15 48\n",
      "DFS(1, 6)\n",
      "7\n"
     ]
    }
   ],
   "source": [
    "DFS(0, 0)\n",
    "print(min_dif)"
   ]
  },
  {
   "cell_type": "code",
   "execution_count": null,
   "id": "ea694621",
   "metadata": {},
   "outputs": [],
   "source": []
  },
  {
   "cell_type": "code",
   "execution_count": 56,
   "id": "8eee5371",
   "metadata": {},
   "outputs": [
    {
     "name": "stdout",
     "output_type": "stream",
     "text": [
      "7\n",
      "8\n",
      "9\n",
      "11\n",
      "12\n",
      "23\n",
      "15\n",
      "17\n"
     ]
    }
   ],
   "source": [
    "n = int(input())\n",
    "lst = [int(input()) for _ in range(n)]"
   ]
  },
  {
   "cell_type": "code",
   "execution_count": null,
   "id": "01768fed",
   "metadata": {},
   "outputs": [],
   "source": [
    "abc_coin = [0]*3\n",
    "def DFS(x):\n",
    "    if x == n:\n",
    "        "
   ]
  }
 ],
 "metadata": {
  "kernelspec": {
   "display_name": "algo",
   "language": "python",
   "name": "algo"
  },
  "language_info": {
   "codemirror_mode": {
    "name": "ipython",
    "version": 3
   },
   "file_extension": ".py",
   "mimetype": "text/x-python",
   "name": "python",
   "nbconvert_exporter": "python",
   "pygments_lexer": "ipython3",
   "version": "3.9.12"
  }
 },
 "nbformat": 4,
 "nbformat_minor": 5
}
