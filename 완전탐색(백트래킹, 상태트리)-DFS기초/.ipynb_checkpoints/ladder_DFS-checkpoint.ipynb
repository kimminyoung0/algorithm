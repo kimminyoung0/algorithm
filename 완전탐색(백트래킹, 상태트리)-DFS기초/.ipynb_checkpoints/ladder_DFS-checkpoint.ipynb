{
 "cells": [
  {
   "cell_type": "markdown",
   "id": "f0d2b581",
   "metadata": {},
   "source": [
    "## 사다리타기(DFS)"
   ]
  },
  {
   "cell_type": "markdown",
   "id": "85235d4d",
   "metadata": {},
   "source": [
    "사다리타기를 하는데 1은 이동할 수 있는 사다리, 0은 공백을 의미한다.\n",
    "\n",
    "현수는 특정 도착지점으로 도착하기 위해서는 몇 번째 열에서 출발해야 하는지 알고 싶다.\n",
    "\n",
    "특정 도착지점은 2로 표기된다."
   ]
  },
  {
   "cell_type": "code",
   "execution_count": null,
   "id": "a27939f4",
   "metadata": {},
   "outputs": [],
   "source": [
    "1 0 1 0 0 1 0 1 0 1\n",
    "1 0 1 1 1 1 0 1 0 1 \n",
    "1 0 1 0 0 1 0 1 0 1\n",
    "1 0 1 0 0 1 0 1 1 1\n",
    "1 0 1 0 0 1 0 1 0 1\n",
    "1 0 1 1 1 1 0 1 0 1 \n",
    "1 0 1 0 0 1 0 1 1 1\n",
    "1 1 1 0 0 1 0 1 0 1\n",
    "1 0 1 0 0 1 1 1 0 1\n",
    "1 0 1 0 0 2 0 1 0 1"
   ]
  },
  {
   "cell_type": "code",
   "execution_count": 27,
   "id": "c4e4262b",
   "metadata": {},
   "outputs": [
    {
     "name": "stdout",
     "output_type": "stream",
     "text": [
      "1 0 1 0 0 1 0 1 0 1\n",
      "1 0 1 1 1 1 0 1 0 1 \n",
      "1 0 1 0 0 1 0 1 0 1\n",
      "1 0 1 0 0 1 0 1 1 1\n",
      "1 0 1 0 0 1 0 1 0 1\n",
      "1 0 1 1 1 1 0 1 0 1 \n",
      "1 0 1 0 0 1 0 1 1 1\n",
      "1 1 1 0 0 1 0 1 0 1\n",
      "1 0 1 0 0 1 1 1 0 1\n",
      "1 0 1 0 0 2 0 1 0 1\n"
     ]
    }
   ],
   "source": [
    "for i in range(10):\n",
    "    row = list(map(int, input().split()))\n",
    "    if 2 in row:\n",
    "        for j in range(10):\n",
    "            if row[j] == 2:\n",
    "                goal = (j, i)\n",
    "    board.append(row)"
   ]
  },
  {
   "cell_type": "code",
   "execution_count": 43,
   "id": "86ae5c31",
   "metadata": {},
   "outputs": [
    {
     "data": {
      "text/plain": [
       "(5, 9)"
      ]
     },
     "execution_count": 43,
     "metadata": {},
     "output_type": "execute_result"
    }
   ],
   "source": [
    "goal"
   ]
  },
  {
   "cell_type": "code",
   "execution_count": 44,
   "id": "cd7455c7",
   "metadata": {},
   "outputs": [],
   "source": [
    "ch = [[0]*10 for _ in range(10)]\n",
    "#출발지 저장해야할 것 같음.\n",
    "\n",
    "def DFS(x, y, start):\n",
    "    #print(f'DFS({x}, {y}, {start})')\n",
    "    if (x, y) == goal:\n",
    "        print(start)\n",
    "        \n",
    "    else:\n",
    "        ch[x][y] = 1\n",
    "        #왼쪽 1이면 왼쪽가고\n",
    "        if 0<=x<10 and 0<=y-1<10 and board[x][y-1] == 1 and ch[x][y-1] == 0:\n",
    "            ch[x][y-1] = 1\n",
    "            DFS(x, y-1, start)\n",
    "        #오른쪽 1이면 오른쪽 가고\n",
    "        elif 0<=x<10 and 0<=y+1<10 and board[x][y+1] == 1 and ch[x][y+1] == 0:\n",
    "            ch[x][y+1] = 1\n",
    "            DFS(x, y+1, start)\n",
    "        #왼쪽 오른쪽 둘 다 1 아니면 아래로 내려가기\n",
    "        elif 0<=x+1<10 and 0<=y<10 and board[x+1][y] == 1 and ch[x+1][y] == 0:\n",
    "            ch[x+1][y] = 1\n",
    "            DFS(x+1, y, start)"
   ]
  },
  {
   "cell_type": "code",
   "execution_count": 45,
   "id": "7269cb48",
   "metadata": {},
   "outputs": [
    {
     "name": "stdout",
     "output_type": "stream",
     "text": [
      "7\n"
     ]
    }
   ],
   "source": [
    "for i in range(10):\n",
    "    if board[0][i]==1:\n",
    "        DFS(0, i, i)\n",
    "        ch = [[0]*10 for _ in range(10)]"
   ]
  }
 ],
 "metadata": {
  "kernelspec": {
   "display_name": "algo",
   "language": "python",
   "name": "algo"
  },
  "language_info": {
   "codemirror_mode": {
    "name": "ipython",
    "version": 3
   },
   "file_extension": ".py",
   "mimetype": "text/x-python",
   "name": "python",
   "nbconvert_exporter": "python",
   "pygments_lexer": "ipython3",
   "version": "3.9.12"
  }
 },
 "nbformat": 4,
 "nbformat_minor": 5
}
