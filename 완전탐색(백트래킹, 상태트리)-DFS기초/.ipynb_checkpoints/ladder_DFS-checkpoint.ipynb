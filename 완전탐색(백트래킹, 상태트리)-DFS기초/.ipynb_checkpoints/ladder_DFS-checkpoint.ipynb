{
 "cells": [
  {
   "cell_type": "markdown",
   "id": "f0d2b581",
   "metadata": {},
   "source": [
    "## 사다리타기(DFS)"
   ]
  },
  {
   "cell_type": "markdown",
   "id": "85235d4d",
   "metadata": {},
   "source": [
    "사다리타기를 하는데 1은 이동할 수 있는 사다리, 0은 공백을 의미한다.\n",
    "\n",
    "현수는 특정 도착지점으로 도착하기 위해서는 몇 번째 열에서 출발해야 하는지 알고 싶다.\n",
    "\n",
    "특정 도착지점은 2로 표기된다."
   ]
  },
  {
   "cell_type": "code",
   "execution_count": null,
   "id": "a27939f4",
   "metadata": {},
   "outputs": [],
   "source": [
    "1 0 1 0 0 1 0 1 0 1\n",
    "1 0 1 1 1 1 0 1 0 1 \n",
    "1 0 1 0 0 1 0 1 0 1\n",
    "1 0 1 0 0 1 0 1 1 1\n",
    "1 0 1 0 0 1 0 1 0 1\n",
    "1 0 1 1 1 1 0 1 0 1 \n",
    "1 0 1 0 0 1 0 1 1 1\n",
    "1 1 1 0 0 1 0 1 0 1\n",
    "1 0 1 0 0 1 1 1 0 1\n",
    "1 0 1 0 0 2 0 1 0 1"
   ]
  },
  {
   "cell_type": "code",
   "execution_count": 1,
   "id": "c4e4262b",
   "metadata": {},
   "outputs": [
    {
     "name": "stdout",
     "output_type": "stream",
     "text": [
      "1 0 1 0 0 1 0 1 0 1\n",
      "1 0 1 1 1 1 0 1 0 1 \n",
      "1 0 1 0 0 1 0 1 0 1\n",
      "1 0 1 0 0 1 0 1 1 1\n",
      "1 0 1 0 0 1 0 1 0 1\n",
      "1 0 1 1 1 1 0 1 0 1 \n",
      "1 0 1 0 0 1 0 1 1 1\n",
      "1 1 1 0 0 1 0 1 0 1\n",
      "1 0 1 0 0 1 1 1 0 1\n",
      "1 0 1 0 0 2 0 1 0 1\n"
     ]
    }
   ],
   "source": [
    "board = [list(map(int, input().split())) for _ in range(10)]"
   ]
  },
  {
   "cell_type": "code",
   "execution_count": null,
   "id": "cd7455c7",
   "metadata": {},
   "outputs": [],
   "source": [
    "dx = [0, 0, 1] # 보통의 경우와 순서 변경, 왼, 오, 하 (상 제외)\n",
    "dy = [-1, 1, 0]\n",
    "ch = [[0]*10 for _ in range(10)]\n",
    "#출발지 저장해야할 것 같음.\n",
    "\n",
    "def DFS(x, y):\n",
    "    if board\n",
    "\n",
    "#첫번째줄 1에서 부터 시작하고"
   ]
  },
  {
   "cell_type": "code",
   "execution_count": null,
   "id": "7269cb48",
   "metadata": {},
   "outputs": [],
   "source": []
  },
  {
   "cell_type": "code",
   "execution_count": null,
   "id": "cd93af98",
   "metadata": {},
   "outputs": [],
   "source": []
  },
  {
   "cell_type": "code",
   "execution_count": null,
   "id": "e595b7ee",
   "metadata": {},
   "outputs": [],
   "source": []
  },
  {
   "cell_type": "code",
   "execution_count": null,
   "id": "cc6a9793",
   "metadata": {},
   "outputs": [],
   "source": []
  },
  {
   "cell_type": "code",
   "execution_count": null,
   "id": "c6a1b654",
   "metadata": {},
   "outputs": [],
   "source": []
  },
  {
   "cell_type": "code",
   "execution_count": null,
   "id": "dd88921d",
   "metadata": {},
   "outputs": [],
   "source": []
  }
 ],
 "metadata": {
  "kernelspec": {
   "display_name": "algo",
   "language": "python",
   "name": "algo"
  },
  "language_info": {
   "codemirror_mode": {
    "name": "ipython",
    "version": 3
   },
   "file_extension": ".py",
   "mimetype": "text/x-python",
   "name": "python",
   "nbconvert_exporter": "python",
   "pygments_lexer": "ipython3",
   "version": "3.9.12"
  }
 },
 "nbformat": 4,
 "nbformat_minor": 5
}
