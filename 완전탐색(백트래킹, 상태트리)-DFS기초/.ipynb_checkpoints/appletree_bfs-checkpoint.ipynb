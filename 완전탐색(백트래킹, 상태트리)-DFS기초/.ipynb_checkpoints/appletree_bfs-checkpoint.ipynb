{
 "cells": [
  {
   "cell_type": "markdown",
   "id": "886b1b5f",
   "metadata": {},
   "source": [
    "## 사과나무 (BFS)"
   ]
  },
  {
   "cell_type": "code",
   "execution_count": 1,
   "id": "5ab651fa",
   "metadata": {},
   "outputs": [],
   "source": [
    "from collections import deque"
   ]
  },
  {
   "cell_type": "code",
   "execution_count": null,
   "id": "c5085257",
   "metadata": {},
   "outputs": [],
   "source": [
    "5\n",
    "10 13 10 12 15\n",
    "12 39 30 23 11\n",
    "11 25 50 53 15\n",
    "19 27 29 37 27\n",
    "19 13 30 13 19"
   ]
  },
  {
   "cell_type": "code",
   "execution_count": 8,
   "id": "6272f5d8",
   "metadata": {},
   "outputs": [
    {
     "name": "stdout",
     "output_type": "stream",
     "text": [
      "5\n",
      "10 13 10 12 15\n",
      "12 39 30 23 11\n",
      "11 25 50 53 15\n",
      "19 27 29 37 27\n",
      "19 13 30 13 19\n"
     ]
    }
   ],
   "source": [
    "dx = [-1, 0, 1, 0]\n",
    "dy = [0, 1, 0, -1]\n",
    "\n",
    "n = int(input())\n",
    "a = [list(map(int, input().split())) for _ in range(n)]\n",
    "ch = [[0]*n for _ in range(n)]\n",
    "sum = 0\n",
    "q = deque()\n",
    "ch[n//2][n//2] = 1 #중앙지점 체크(시작점)\n",
    "sum += a[n//2][n//2]\n",
    "q.append((n//2, n//2))\n",
    "L = 0\n",
    "while True:\n",
    "    if L == n//2:\n",
    "        break\n",
    "    size = len(q)\n",
    "    for i in range(size):\n",
    "        tmp = q.popleft()\n",
    "        \n",
    "        for j in range(4):\n",
    "            x = tmp[0] + dx[j]\n",
    "            y = tmp[1] + dy[j]\n",
    "            if ch[x][y] == 0:\n",
    "                sum += a[x][y]\n",
    "                ch[x][y] = 1\n",
    "                q.append((x, y))\n",
    "    \n",
    "#     for x in ch:\n",
    "#         print(x)\n",
    "    L += 1\n",
    "        "
   ]
  },
  {
   "cell_type": "code",
   "execution_count": 9,
   "id": "0b84c06a",
   "metadata": {},
   "outputs": [
    {
     "name": "stdout",
     "output_type": "stream",
     "text": [
      "379\n"
     ]
    }
   ],
   "source": [
    "print(sum)"
   ]
  }
 ],
 "metadata": {
  "kernelspec": {
   "display_name": "algo",
   "language": "python",
   "name": "algo"
  },
  "language_info": {
   "codemirror_mode": {
    "name": "ipython",
    "version": 3
   },
   "file_extension": ".py",
   "mimetype": "text/x-python",
   "name": "python",
   "nbconvert_exporter": "python",
   "pygments_lexer": "ipython3",
   "version": "3.9.12"
  }
 },
 "nbformat": 4,
 "nbformat_minor": 5
}
