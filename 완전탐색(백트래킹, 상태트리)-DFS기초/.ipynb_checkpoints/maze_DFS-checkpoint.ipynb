{
 "cells": [
  {
   "cell_type": "markdown",
   "id": "1f6c6870",
   "metadata": {},
   "source": [
    "## 미로 탐색(DFS)"
   ]
  },
  {
   "cell_type": "markdown",
   "id": "d7fb1a8e",
   "metadata": {},
   "source": [
    "모든 길을 다 탐색해보자"
   ]
  },
  {
   "cell_type": "code",
   "execution_count": null,
   "id": "7f54f983",
   "metadata": {},
   "outputs": [],
   "source": [
    "0 0 0 0 0 0 0\n",
    "0 1 1 1 1 1 0\n",
    "0 0 0 1 0 0 0\n",
    "1 1 0 1 0 1 1\n",
    "1 1 0 0 0 0 1\n",
    "1 1 0 1 1 0 0\n",
    "1 0 0 0 0 0 0"
   ]
  },
  {
   "cell_type": "code",
   "execution_count": 9,
   "id": "97c91c39",
   "metadata": {},
   "outputs": [
    {
     "name": "stdout",
     "output_type": "stream",
     "text": [
      "0 0 0 0 0 0 0\n",
      "0 1 1 1 1 1 0\n",
      "0 0 0 1 0 0 0\n",
      "1 1 0 1 0 1 1\n",
      "1 1 0 0 0 0 1\n",
      "1 1 0 1 1 0 0\n",
      "1 0 0 0 0 0 0\n"
     ]
    }
   ],
   "source": [
    "board = [list(map(int, input().split())) for _ in range(7)]\n",
    "cnt = 0\n",
    "board[0][0] = 1\n",
    "dx = [-1, 0, 1, 0]\n",
    "dy = [0, 1, 0, -1]"
   ]
  },
  {
   "cell_type": "code",
   "execution_count": 10,
   "id": "e415006d",
   "metadata": {},
   "outputs": [],
   "source": [
    "def DFS(x, y):\n",
    "    global cnt\n",
    "    if x == 6 and y == 6:\n",
    "        cnt += 1\n",
    "    else:\n",
    "        for i in range(4):\n",
    "            xx = x + dx[i]\n",
    "            yy = y + dy[i]\n",
    "            if 0 <= xx <= 6 and 0 <= yy <= 6 and board[xx][yy] == 0:\n",
    "                board[xx][yy] = 1\n",
    "                DFS(xx, yy)\n",
    "                board[xx][yy] = 0"
   ]
  },
  {
   "cell_type": "code",
   "execution_count": 11,
   "id": "f0519ce8",
   "metadata": {},
   "outputs": [
    {
     "name": "stdout",
     "output_type": "stream",
     "text": [
      "8\n"
     ]
    }
   ],
   "source": [
    "DFS(0, 0)\n",
    "print(cnt)"
   ]
  }
 ],
 "metadata": {
  "kernelspec": {
   "display_name": "algo",
   "language": "python",
   "name": "algo"
  },
  "language_info": {
   "codemirror_mode": {
    "name": "ipython",
    "version": 3
   },
   "file_extension": ".py",
   "mimetype": "text/x-python",
   "name": "python",
   "nbconvert_exporter": "python",
   "pygments_lexer": "ipython3",
   "version": "3.9.12"
  }
 },
 "nbformat": 4,
 "nbformat_minor": 5
}
