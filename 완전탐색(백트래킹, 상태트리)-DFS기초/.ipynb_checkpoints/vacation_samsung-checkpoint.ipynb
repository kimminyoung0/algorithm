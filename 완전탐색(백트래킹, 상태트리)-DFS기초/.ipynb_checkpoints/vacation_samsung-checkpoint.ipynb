{
 "cells": [
  {
   "cell_type": "markdown",
   "id": "b73b8ce4",
   "metadata": {},
   "source": [
    "## 휴가(DFS)"
   ]
  },
  {
   "cell_type": "code",
   "execution_count": 2,
   "id": "b98b89ed",
   "metadata": {},
   "outputs": [
    {
     "name": "stdout",
     "output_type": "stream",
     "text": [
      "7\n",
      "4 20\n",
      "2 10\n",
      "3 15\n",
      "3 20\n",
      "2 30\n",
      "2 20\n",
      "1 10\n"
     ]
    }
   ],
   "source": [
    "n = int(input())\n",
    "lst = [list(map(int, input().split())) for _ in range(n)]"
   ]
  },
  {
   "cell_type": "code",
   "execution_count": null,
   "id": "cba02cf2",
   "metadata": {},
   "outputs": [],
   "source": [
    "def DFS(x, s, money):\n",
    "    if s == n:\n",
    "        print(money)\n",
    "    else:\n",
    "        for i in range(s, n):\n",
    "            DFS(x+1, i, money + lst[x][1])\n",
    "            DFS(x+1, )\n",
    "        "
   ]
  },
  {
   "cell_type": "code",
   "execution_count": null,
   "id": "b13bcff0",
   "metadata": {},
   "outputs": [],
   "source": [
    "DFS(0, 0, 0)"
   ]
  },
  {
   "cell_type": "code",
   "execution_count": null,
   "id": "737b0397",
   "metadata": {},
   "outputs": [],
   "source": []
  },
  {
   "cell_type": "code",
   "execution_count": null,
   "id": "cf0e5aa8",
   "metadata": {},
   "outputs": [],
   "source": []
  },
  {
   "cell_type": "code",
   "execution_count": null,
   "id": "97366636",
   "metadata": {},
   "outputs": [],
   "source": []
  },
  {
   "cell_type": "code",
   "execution_count": null,
   "id": "9e20bc97",
   "metadata": {},
   "outputs": [],
   "source": []
  },
  {
   "cell_type": "code",
   "execution_count": null,
   "id": "72c49cd3",
   "metadata": {},
   "outputs": [],
   "source": []
  },
  {
   "cell_type": "code",
   "execution_count": null,
   "id": "08b4ff9a",
   "metadata": {},
   "outputs": [],
   "source": []
  }
 ],
 "metadata": {
  "kernelspec": {
   "display_name": "algo",
   "language": "python",
   "name": "algo"
  },
  "language_info": {
   "codemirror_mode": {
    "name": "ipython",
    "version": 3
   },
   "file_extension": ".py",
   "mimetype": "text/x-python",
   "name": "python",
   "nbconvert_exporter": "python",
   "pygments_lexer": "ipython3",
   "version": "3.9.12"
  }
 },
 "nbformat": 4,
 "nbformat_minor": 5
}
