{
 "cells": [
  {
   "cell_type": "markdown",
   "id": "f2086e0b",
   "metadata": {},
   "source": [
    "## 섬나라 아일랜드(BFS)\n"
   ]
  },
  {
   "cell_type": "markdown",
   "id": "492e36d1",
   "metadata": {},
   "source": [
    "섬나라 지도가 격자판의 정보로 주어지면, 섬은 1로 표시되고, 바다는 0으로 표시됩니다. 섬나라 아일랜드에 몇 개의 섬이 있는지 구하는 프로그램을 작성하시오.\n",
    "\n",
    "각 섬은 상하좌우와 대각선으로 연결되어 있습니다."
   ]
  },
  {
   "cell_type": "code",
   "execution_count": 2,
   "id": "8d03bba0",
   "metadata": {},
   "outputs": [],
   "source": [
    "from collections import deque"
   ]
  },
  {
   "cell_type": "code",
   "execution_count": null,
   "id": "1f21355d",
   "metadata": {},
   "outputs": [],
   "source": [
    "7\n",
    "1 1 0 0 0 1 0\n",
    "0 1 1 0 1 1 0\n",
    "0 1 0 0 0 0 0\n",
    "0 0 0 1 0 1 1\n",
    "1 1 0 1 1 0 0\n",
    "1 0 0 0 1 0 0\n",
    "1 0 1 0 1 0 0"
   ]
  },
  {
   "cell_type": "code",
   "execution_count": 1,
   "id": "73611164",
   "metadata": {},
   "outputs": [
    {
     "name": "stdout",
     "output_type": "stream",
     "text": [
      "7\n",
      "1 1 0 0 0 1 0\n",
      "0 1 1 0 1 1 0\n",
      "0 1 0 0 0 0 0\n",
      "0 0 0 1 0 1 1\n",
      "1 1 0 1 1 0 0\n",
      "1 0 0 0 1 0 0\n",
      "1 0 1 0 1 0 0\n"
     ]
    }
   ],
   "source": [
    "n = int(input())\n",
    "mmap = [list(map(int, input().split())) for _ in range(n)]"
   ]
  },
  {
   "cell_type": "code",
   "execution_count": 4,
   "id": "6cc09c43",
   "metadata": {},
   "outputs": [],
   "source": [
    "dx = [-1, -1, 0, 1, 1, 1, 0, -1]\n",
    "dy = [0, 1, 1, 1, 0, -1, -1, -1]\n",
    "cnt = 0\n",
    "q = deque()"
   ]
  },
  {
   "cell_type": "code",
   "execution_count": 5,
   "id": "e01384e6",
   "metadata": {},
   "outputs": [],
   "source": [
    "for i in range(n):\n",
    "    for j in range(n):\n",
    "        if mmap[i][j] == 1:\n",
    "            mmap[i][j] = 0\n",
    "            q.append((i, j))\n",
    "            while q:\n",
    "                tmp = q.popleft()\n",
    "                for k in range(8):\n",
    "                    x = tmp[0] + dx[k]\n",
    "                    y = tmp[1] + dy[k]\n",
    "                    if 0<=x<n and 0<=y<n and mmap[x][y] == 1:\n",
    "                        mmap[x][y] = 0\n",
    "                        q.append((x, y))\n",
    "            cnt += 1\n",
    "                        "
   ]
  },
  {
   "cell_type": "code",
   "execution_count": 6,
   "id": "c317586e",
   "metadata": {},
   "outputs": [
    {
     "name": "stdout",
     "output_type": "stream",
     "text": [
      "5\n"
     ]
    }
   ],
   "source": [
    "print(cnt)"
   ]
  }
 ],
 "metadata": {
  "kernelspec": {
   "display_name": "algo",
   "language": "python",
   "name": "algo"
  },
  "language_info": {
   "codemirror_mode": {
    "name": "ipython",
    "version": 3
   },
   "file_extension": ".py",
   "mimetype": "text/x-python",
   "name": "python",
   "nbconvert_exporter": "python",
   "pygments_lexer": "ipython3",
   "version": "3.9.12"
  }
 },
 "nbformat": 4,
 "nbformat_minor": 5
}
