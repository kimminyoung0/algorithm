{
 "cells": [
  {
   "cell_type": "markdown",
   "id": "9c8aa20e",
   "metadata": {},
   "source": [
    "## 알파코드"
   ]
  },
  {
   "cell_type": "markdown",
   "id": "1d766431",
   "metadata": {},
   "source": [
    "A는 1, B는 2, C는 3..., Z는 26로 표현하는 암호문이 있다.\n",
    "\n",
    "입력된 값을 받고, 어떤 문자로 해석될 수 있는지 출력하고, 개수를 출력하시오."
   ]
  },
  {
   "cell_type": "code",
   "execution_count": 6,
   "id": "b4b3a28b",
   "metadata": {},
   "outputs": [
    {
     "name": "stdout",
     "output_type": "stream",
     "text": [
      "25114\n"
     ]
    }
   ],
   "source": [
    "code = input()"
   ]
  },
  {
   "cell_type": "code",
   "execution_count": 5,
   "id": "2a581ad8",
   "metadata": {},
   "outputs": [
    {
     "data": {
      "text/plain": [
       "{1: 'A',\n",
       " 2: 'B',\n",
       " 3: 'C',\n",
       " 4: 'D',\n",
       " 5: 'E',\n",
       " 6: 'F',\n",
       " 7: 'G',\n",
       " 8: 'H',\n",
       " 9: 'I',\n",
       " 10: 'J',\n",
       " 11: 'K',\n",
       " 12: 'L',\n",
       " 13: 'M',\n",
       " 14: 'N',\n",
       " 15: 'O',\n",
       " 16: 'P',\n",
       " 17: 'Q',\n",
       " 18: 'R',\n",
       " 19: 'S',\n",
       " 20: 'T',\n",
       " 21: 'U',\n",
       " 22: 'V',\n",
       " 23: 'W',\n",
       " 24: 'X',\n",
       " 25: 'Y',\n",
       " 26: 'Z'}"
      ]
     },
     "execution_count": 5,
     "metadata": {},
     "output_type": "execute_result"
    }
   ],
   "source": [
    "az = ['A', 'B', 'C', 'D', 'E', 'F', 'G', 'H', 'I', 'J', 'K', 'L',\n",
    "      'M', 'N', 'O', 'P', 'Q', 'R', 'S', 'T', 'U', 'V', 'W', 'X',\n",
    "      'Y', 'Z']\n",
    "dictaz = {i+1: az[i] for i in range(len(az))}\n",
    "dictaz"
   ]
  },
  {
   "cell_type": "code",
   "execution_count": 20,
   "id": "15a80c62",
   "metadata": {},
   "outputs": [],
   "source": [
    "decode = []\n",
    "cnt = 0\n",
    "def DFS(x, code):\n",
    "    global cnt\n",
    "    if not code:\n",
    "        print(decode)\n",
    "        cnt += 1\n",
    "        \n",
    "    else: #한 자리의 값 해석, 두 자리의 값 해석\n",
    "        if len(code) >= 2:\n",
    "            num = int(''.join(code[:2]))\n",
    "            if num in dictaz.keys():\n",
    "                decode.append(dictaz[num])\n",
    "                DFS(x+1, code[2:])\n",
    "        if len(code) >= 1:\n",
    "            num = int(code[0])\n",
    "            if num in dictaz.keys():\n",
    "                decode.append(dictaz[num])\n",
    "                DFS(x+1, code[1:])\n",
    "        "
   ]
  },
  {
   "cell_type": "code",
   "execution_count": 21,
   "id": "14b7d2d7",
   "metadata": {},
   "outputs": [
    {
     "name": "stdout",
     "output_type": "stream",
     "text": [
      "['Y', 'K', 'D']\n",
      "['Y', 'K', 'D', 'A', 'N']\n",
      "['Y', 'K', 'D', 'A', 'N', 'A', 'D']\n",
      "['Y', 'K', 'D', 'A', 'N', 'A', 'D', 'B', 'E', 'K', 'D']\n",
      "['Y', 'K', 'D', 'A', 'N', 'A', 'D', 'B', 'E', 'K', 'D', 'A', 'N']\n",
      "['Y', 'K', 'D', 'A', 'N', 'A', 'D', 'B', 'E', 'K', 'D', 'A', 'N', 'A', 'D']\n",
      "6\n"
     ]
    }
   ],
   "source": [
    "DFS(0, code)\n",
    "print(cnt)"
   ]
  },
  {
   "cell_type": "code",
   "execution_count": null,
   "id": "039c1227",
   "metadata": {},
   "outputs": [],
   "source": []
  }
 ],
 "metadata": {
  "kernelspec": {
   "display_name": "algo",
   "language": "python",
   "name": "algo"
  },
  "language_info": {
   "codemirror_mode": {
    "name": "ipython",
    "version": 3
   },
   "file_extension": ".py",
   "mimetype": "text/x-python",
   "name": "python",
   "nbconvert_exporter": "python",
   "pygments_lexer": "ipython3",
   "version": "3.9.12"
  }
 },
 "nbformat": 4,
 "nbformat_minor": 5
}
