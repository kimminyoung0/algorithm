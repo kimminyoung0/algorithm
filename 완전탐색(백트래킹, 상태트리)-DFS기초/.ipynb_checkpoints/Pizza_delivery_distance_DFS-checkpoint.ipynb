{
 "cells": [
  {
   "cell_type": "markdown",
   "id": "18ded0a6",
   "metadata": {},
   "source": [
    "## 피자 배달 거리 DFS"
   ]
  },
  {
   "cell_type": "markdown",
   "id": "a5097c05",
   "metadata": {},
   "source": [
    "크기가 nxn인 도시가 있는데 도시의 각 빈칸은 빈칸, 피자집, 집 중 하나이다. **0은 빈 칸, 1은 집,2는 피자집.**\n",
    "\n",
    "r행 c열로 표현하고 각각은 1부터 시작한다.\n",
    "\n",
    "임의의 두 칸 (r1, c1)과 (r2, c2) 사이의 피자 배달 거리는 |r1-r2|+|c1-c2|이다.\n",
    "\n",
    "피자 인기가 너무 많아 피자집의 개수를 m개로 제한해야 하는데, 시장은 m개의 피자집을 고르고, 나머지는 폐업시켜야 하는데, 어떻게 고르면 도시의 피자 배달 거리가 가장 작게 될지 구하는 프로그램을 작성해라.\n",
    "\n",
    "도시의 피자배달거리는 각 집들의 피자 배달 거리를 합한 것을 말한다.\n",
    "\n",
    "첫째줄에 n, m 입력\n",
    "\n",
    "출력은 도시의 피자 거리의 최솟값을 출력"
   ]
  },
  {
   "cell_type": "code",
   "execution_count": null,
   "id": "0fe12114",
   "metadata": {},
   "outputs": [],
   "source": [
    "4 4\n",
    "0 1 2 0 \n",
    "1 0 2 1\n",
    "0 2 1 2\n",
    "2 0 1 2"
   ]
  },
  {
   "cell_type": "code",
   "execution_count": 4,
   "id": "e2996c66",
   "metadata": {},
   "outputs": [
    {
     "name": "stdout",
     "output_type": "stream",
     "text": [
      "4 4\n"
     ]
    }
   ],
   "source": [
    "n, m = map(int, input().split())"
   ]
  },
  {
   "cell_type": "code",
   "execution_count": 9,
   "id": "61beddf3",
   "metadata": {},
   "outputs": [
    {
     "name": "stdout",
     "output_type": "stream",
     "text": [
      "0 1 2 0\n",
      "1 0 2 1\n",
      "0 2 1 2 \n",
      "2 0 1 2\n"
     ]
    }
   ],
   "source": [
    "home_loc = []\n",
    "for i in range(n):\n",
    "    tmp = list(map(int, input().split()))\n",
    "    for j in range(n):\n",
    "        if tmp[j] == 1:\n",
    "            home_loc.append((i, j))\n",
    "            \n",
    "    board.append(tmp)"
   ]
  },
  {
   "cell_type": "code",
   "execution_count": 10,
   "id": "9d1d4cd3",
   "metadata": {},
   "outputs": [
    {
     "data": {
      "text/plain": [
       "[(0, 1), (1, 0), (1, 3), (2, 2), (3, 2)]"
      ]
     },
     "execution_count": 10,
     "metadata": {},
     "output_type": "execute_result"
    }
   ],
   "source": [
    "home_loc"
   ]
  },
  {
   "cell_type": "code",
   "execution_count": 21,
   "id": "afce781e",
   "metadata": {},
   "outputs": [],
   "source": [
    "#어느 피자집을 폐업시킬지를 정해야한다?\n",
    "\n",
    "#각각의 집에서 피자집까지의 최소 거리들을 더해야 한다.\n",
    "ch = [[0]*n for _ in range(n)]\n",
    "dx = [-1, 0, 1, 0]\n",
    "dy = [0, 1, 0, -1]\n",
    "def DFS(x, y):\n",
    "    global dis\n",
    "    global total_dis\n",
    "    if board[x][y] == 2:\n",
    "        total_dis += dis\n",
    "        \n",
    "    else:\n",
    "        for k in range(4):\n",
    "            xx = x + dx[k]\n",
    "            yy = y + dy[k]\n",
    "            if 0<=xx<n and 0<=yy<n and ch[xx][yy] == 0:\n",
    "                dis += 1\n",
    "                ch[xx][yy] = 1\n",
    "                DFS(xx, yy)\n",
    "        "
   ]
  },
  {
   "cell_type": "code",
   "execution_count": 22,
   "id": "b94cc092",
   "metadata": {},
   "outputs": [],
   "source": [
    "for loc in home_loc:\n",
    "    total_dis = 0\n",
    "    dis = 0\n",
    "    ch = [[0]*n for _ in range(n)]\n",
    "    ch[loc[0]][loc[1]] = 1\n",
    "    DFS(loc[0], loc[1])"
   ]
  },
  {
   "cell_type": "code",
   "execution_count": 23,
   "id": "90356deb",
   "metadata": {},
   "outputs": [
    {
     "name": "stdout",
     "output_type": "stream",
     "text": [
      "21\n"
     ]
    }
   ],
   "source": [
    "print(total_dis)"
   ]
  },
  {
   "cell_type": "code",
   "execution_count": null,
   "id": "018afe00",
   "metadata": {},
   "outputs": [],
   "source": []
  }
 ],
 "metadata": {
  "kernelspec": {
   "display_name": "algo",
   "language": "python",
   "name": "algo"
  },
  "language_info": {
   "codemirror_mode": {
    "name": "ipython",
    "version": 3
   },
   "file_extension": ".py",
   "mimetype": "text/x-python",
   "name": "python",
   "nbconvert_exporter": "python",
   "pygments_lexer": "ipython3",
   "version": "3.9.12"
  }
 },
 "nbformat": 4,
 "nbformat_minor": 5
}
