{
 "cells": [
  {
   "cell_type": "markdown",
   "id": "b1e9c83e",
   "metadata": {},
   "source": [
    "## 수들의 조합(라이브러리 사용)"
   ]
  },
  {
   "cell_type": "code",
   "execution_count": 1,
   "id": "d1b49ee3",
   "metadata": {},
   "outputs": [],
   "source": [
    "import itertools as it"
   ]
  },
  {
   "cell_type": "code",
   "execution_count": 3,
   "id": "37469df4",
   "metadata": {},
   "outputs": [
    {
     "name": "stdout",
     "output_type": "stream",
     "text": [
      "5 3\n",
      "2 4 5 8 12\n",
      "6\n",
      "2\n"
     ]
    }
   ],
   "source": [
    "n, k = map(int, input().split())\n",
    "a = list(map(int, input().split()))\n",
    "m = int(input())\n",
    "cnt = 0\n",
    "for x in it.combinations(a, k):\n",
    "    if sum(x)%m == 0:\n",
    "        cnt += 1\n",
    "print(cnt)"
   ]
  }
 ],
 "metadata": {
  "kernelspec": {
   "display_name": "algo",
   "language": "python",
   "name": "algo"
  },
  "language_info": {
   "codemirror_mode": {
    "name": "ipython",
    "version": 3
   },
   "file_extension": ".py",
   "mimetype": "text/x-python",
   "name": "python",
   "nbconvert_exporter": "python",
   "pygments_lexer": "ipython3",
   "version": "3.9.12"
  }
 },
 "nbformat": 4,
 "nbformat_minor": 5
}
