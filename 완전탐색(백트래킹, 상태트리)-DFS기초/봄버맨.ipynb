{
 "cells": [
  {
   "cell_type": "code",
   "execution_count": 20,
   "id": "380d0517",
   "metadata": {},
   "outputs": [],
   "source": [
    "from collections import deque\n",
    "import pprint"
   ]
  },
  {
   "cell_type": "code",
   "execution_count": null,
   "id": "5969c161",
   "metadata": {},
   "outputs": [],
   "source": [
    "6 7 3\n",
    ". . . . . . .\n",
    ". . . 0 . . .\n",
    ". . . . 0 . .\n",
    ". . . . . . .\n",
    "0 0 . . . . .\n",
    "0 0 . . . . ."
   ]
  },
  {
   "cell_type": "code",
   "execution_count": 42,
   "id": "1a651335",
   "metadata": {},
   "outputs": [
    {
     "name": "stdout",
     "output_type": "stream",
     "text": [
      "6 7 5\n",
      ". . . . . . .\n",
      ". . . 0 . . .\n",
      ". . . . 0 . . \n",
      ". . . . . . .\n",
      "0 0 . . . . .\n",
      "0 0 . . . . .\n"
     ]
    }
   ],
   "source": [
    "r, c, n = map(int, input().split())\n",
    "board = [list(input().split()) for _ in range(r)]"
   ]
  },
  {
   "cell_type": "code",
   "execution_count": 43,
   "id": "bb60c8f9",
   "metadata": {},
   "outputs": [
    {
     "name": "stdout",
     "output_type": "stream",
     "text": [
      ".......\n",
      "...0...\n",
      "....0..\n",
      ".......\n",
      "00.....\n",
      "00.....\n"
     ]
    }
   ],
   "source": [
    "dx = [-1, 0, 1, 0]\n",
    "dy = [0, 1, 0, -1]\n",
    "seconds = 1\n",
    "q = deque()\n",
    "        \n",
    "while any('0' in row for row in board):   \n",
    "    if seconds%2 == 0: #짝수초 #폭탄 인접한구간까지 터지기\n",
    "        while q:\n",
    "            tmp = q.popleft()\n",
    "            board[tmp[0]][tmp[1]] = '.'\n",
    "            for k in range(4):\n",
    "                x = tmp[0] + dx[k]\n",
    "                y = tmp[1] + dy[k]\n",
    "                if 0<=x<r and 0<=y<c:\n",
    "                    board[x][y] = '.'\n",
    "        seconds += 1\n",
    "        \n",
    "    else: #홀수초 #3초가 진행되면 #폭탄 나머지칸 설치\n",
    "        for row in range(r):\n",
    "            for col in range(c):\n",
    "                if board[row][col] == '.':\n",
    "                    board[row][col] = '0'\n",
    "                elif board[row][col] == '0':\n",
    "                    q.append((row, col))\n",
    "        seconds += 1\n",
    "    \n",
    "    if seconds == n:\n",
    "        for row in range(r):\n",
    "            print(''.join(board[row]))\n",
    "        break"
   ]
  },
  {
   "cell_type": "code",
   "execution_count": null,
   "id": "3424fc37",
   "metadata": {},
   "outputs": [],
   "source": []
  },
  {
   "cell_type": "code",
   "execution_count": null,
   "id": "828af530",
   "metadata": {},
   "outputs": [],
   "source": []
  }
 ],
 "metadata": {
  "kernelspec": {
   "display_name": "algo",
   "language": "python",
   "name": "algo"
  },
  "language_info": {
   "codemirror_mode": {
    "name": "ipython",
    "version": 3
   },
   "file_extension": ".py",
   "mimetype": "text/x-python",
   "name": "python",
   "nbconvert_exporter": "python",
   "pygments_lexer": "ipython3",
   "version": "3.9.12"
  }
 },
 "nbformat": 4,
 "nbformat_minor": 5
}
