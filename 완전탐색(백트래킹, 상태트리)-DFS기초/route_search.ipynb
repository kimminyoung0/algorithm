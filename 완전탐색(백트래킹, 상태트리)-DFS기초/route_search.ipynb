{
 "cells": [
  {
   "cell_type": "markdown",
   "id": "b497ca4a",
   "metadata": {},
   "source": [
    "## 경로탐색(DFS)"
   ]
  },
  {
   "cell_type": "markdown",
   "id": "570afeb7",
   "metadata": {},
   "source": []
  },
  {
   "cell_type": "code",
   "execution_count": 1,
   "id": "02aec5ca",
   "metadata": {},
   "outputs": [
    {
     "name": "stdout",
     "output_type": "stream",
     "text": [
      "5 9\n"
     ]
    }
   ],
   "source": [
    "n, m = map(int, input().split())\n",
    "g = [[0]*(n+1) for _ in range(n+1)]\n",
    "ch = [0]*(n+1)"
   ]
  },
  {
   "cell_type": "code",
   "execution_count": 2,
   "id": "5e5dc482",
   "metadata": {},
   "outputs": [
    {
     "name": "stdout",
     "output_type": "stream",
     "text": [
      "1 2\n",
      "1 3\n",
      "1 4\n",
      "2 1\n",
      "2 3\n",
      "2 5\n",
      "3 4\n",
      "4 2\n",
      "4 5\n"
     ]
    }
   ],
   "source": [
    "for i in range(m):\n",
    "    a, b = map(int, input().split())\n",
    "    g[a][b] = 1"
   ]
  },
  {
   "cell_type": "code",
   "execution_count": 12,
   "id": "2e4864ba",
   "metadata": {},
   "outputs": [],
   "source": [
    "cnt = 0\n",
    "path = []\n",
    "path.append(1)\n",
    "ch[1] = 1\n",
    "\n",
    "def DFS(v):\n",
    "    global cnt\n",
    "    if v == n:\n",
    "        cnt += 1\n",
    "        for x in path:\n",
    "            print(x, end = ' ')\n",
    "        print()\n",
    "    else:\n",
    "        for i in range(1, n+1):\n",
    "            #v번째 노드에서 i번째 노드로 갈 수 있는가, i번째 노드를 간 적이 있는가 확인\n",
    "            if g[v][i] == 1 and ch[i] == 0:\n",
    "                ch[i] = 1\n",
    "                path.append(i)\n",
    "                DFS(i)\n",
    "                path.pop()\n",
    "                ch[i] = 0"
   ]
  },
  {
   "cell_type": "code",
   "execution_count": 13,
   "id": "0a0c03a4",
   "metadata": {},
   "outputs": [
    {
     "name": "stdout",
     "output_type": "stream",
     "text": [
      "1 2 3 4 5 \n",
      "1 2 5 \n",
      "1 3 4 2 5 \n",
      "1 3 4 5 \n",
      "1 4 2 5 \n",
      "1 4 5 \n",
      "6\n"
     ]
    }
   ],
   "source": [
    "DFS(1)\n",
    "print(cnt)"
   ]
  }
 ],
 "metadata": {
  "kernelspec": {
   "display_name": "algo",
   "language": "python",
   "name": "algo"
  },
  "language_info": {
   "codemirror_mode": {
    "name": "ipython",
    "version": 3
   },
   "file_extension": ".py",
   "mimetype": "text/x-python",
   "name": "python",
   "nbconvert_exporter": "python",
   "pygments_lexer": "ipython3",
   "version": "3.9.12"
  }
 },
 "nbformat": 4,
 "nbformat_minor": 5
}
