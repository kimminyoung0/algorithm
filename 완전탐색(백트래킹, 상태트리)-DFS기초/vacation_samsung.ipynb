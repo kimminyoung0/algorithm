{
 "cells": [
  {
   "cell_type": "markdown",
   "id": "970eb704",
   "metadata": {},
   "source": [
    "## 휴가(DFS)"
   ]
  },
  {
   "cell_type": "markdown",
   "id": "49db919a",
   "metadata": {},
   "source": [
    "n일 동안 일을 하는데, n번 동안 상담이 걸리는 날짜와 상담을 했을 때 받을 수 있는 금액이 들어온다.\n",
    "\n",
    "이 때 n일 동안 가기 위해 얻을 수 있는 최대 수익을 구하는 프로그램을 작성하시오."
   ]
  },
  {
   "cell_type": "code",
   "execution_count": 2,
   "id": "7dba71c7",
   "metadata": {},
   "outputs": [
    {
     "name": "stdout",
     "output_type": "stream",
     "text": [
      "7\n",
      "4 20\n",
      "2 10\n",
      "3 15\n",
      "3 20\n",
      "2 30\n",
      "2 20\n",
      "1 10\n"
     ]
    }
   ],
   "source": [
    "n = int(input())\n",
    "lst = [list(map(int, input().split())) for _ in range(n)]"
   ]
  },
  {
   "cell_type": "code",
   "execution_count": 24,
   "id": "2fe5d106",
   "metadata": {},
   "outputs": [],
   "source": [
    "max_money = -100000000\n",
    "def DFS(x, s, money):\n",
    "    global max_money\n",
    "    if s == n+1:\n",
    "        if money > max_money:\n",
    "            max_money = money\n",
    "    else:\n",
    "        for i in range(s, n):\n",
    "            DFS(x+1, i + lst[x][0], money + lst[x][1])\n",
    "            DFS(x+1, i+1, money)\n",
    "        "
   ]
  },
  {
   "cell_type": "code",
   "execution_count": 25,
   "id": "a70f6093",
   "metadata": {},
   "outputs": [
    {
     "name": "stdout",
     "output_type": "stream",
     "text": [
      "40\n"
     ]
    }
   ],
   "source": [
    "DFS(0, , 0)\n",
    "print(max_money)"
   ]
  },
  {
   "cell_type": "code",
   "execution_count": null,
   "id": "96d4edb7",
   "metadata": {},
   "outputs": [],
   "source": []
  },
  {
   "cell_type": "code",
   "execution_count": null,
   "id": "a6104a6a",
   "metadata": {},
   "outputs": [],
   "source": []
  }
 ],
 "metadata": {
  "kernelspec": {
   "display_name": "algo",
   "language": "python",
   "name": "algo"
  },
  "language_info": {
   "codemirror_mode": {
    "name": "ipython",
    "version": 3
   },
   "file_extension": ".py",
   "mimetype": "text/x-python",
   "name": "python",
   "nbconvert_exporter": "python",
   "pygments_lexer": "ipython3",
   "version": "3.9.12"
  }
 },
 "nbformat": 4,
 "nbformat_minor": 5
}
