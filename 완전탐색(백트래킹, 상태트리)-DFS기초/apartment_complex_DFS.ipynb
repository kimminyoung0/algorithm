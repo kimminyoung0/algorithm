{
 "cells": [
  {
   "cell_type": "markdown",
   "id": "3f66955a",
   "metadata": {},
   "source": [
    "## 단지 번호 붙이기(DFS)"
   ]
  },
  {
   "cell_type": "markdown",
   "id": "826b8c5d",
   "metadata": {},
   "source": [
    "정사각형 모양의 지도가 주어지면, 1은 집이 있는 곳, 0은 집이 없는 곳이다.\n",
    "\n",
    "대각선이 아닌 상하좌우로 집이 연결되어 있으면 하나의 단지로 정의.\n",
    "\n",
    "입력:n을 입력 받고, n줄에 걸쳐서 지도 입력\n",
    "\n",
    "출력: 총 단지 수를 출력하고, 각 단지내의 집의 수를 오름차 순으로 정렬하여 한 줄에 하나씩 출력"
   ]
  },
  {
   "cell_type": "code",
   "execution_count": null,
   "id": "27d399b9",
   "metadata": {},
   "outputs": [],
   "source": [
    "7\n",
    "0 1 1 0 1 0 0\n",
    "0 1 1 0 1 0 1\n",
    "1 1 1 0 1 0 1\n",
    "0 0 0 0 1 1 1\n",
    "0 1 0 0 0 0 0\n",
    "0 1 1 1 1 1 0\n",
    "0 1 1 1 0 0 0"
   ]
  },
  {
   "cell_type": "code",
   "execution_count": 48,
   "id": "ff21b802",
   "metadata": {},
   "outputs": [
    {
     "name": "stdout",
     "output_type": "stream",
     "text": [
      "7\n",
      "0 1 1 0 1 0 0\n",
      "0 1 1 0 1 0 1\n",
      "1 1 1 0 1 0 1\n",
      "0 0 0 0 1 1 1\n",
      "0 1 0 0 0 0 0\n",
      "0 1 1 1 1 1 0\n",
      "0 1 1 1 0 0 0\n"
     ]
    }
   ],
   "source": [
    "n = int(input())\n",
    "mmap = [list(map(int, input().split())) for _ in range(n)]"
   ]
  },
  {
   "cell_type": "code",
   "execution_count": 43,
   "id": "e629a5c9",
   "metadata": {},
   "outputs": [],
   "source": [
    "cnt = 0\n",
    "dx = [-1, 0, 1, 0]\n",
    "dy = [0, 1, 0, -1]\n",
    "res = []"
   ]
  },
  {
   "cell_type": "code",
   "execution_count": 16,
   "id": "02ed1f79",
   "metadata": {},
   "outputs": [
    {
     "data": {
      "text/plain": [
       "[[0, 1, 1, 0, 1, 0, 0],\n",
       " [0, 1, 1, 0, 1, 0, 1],\n",
       " [1, 1, 1, 0, 1, 0, 1],\n",
       " [0, 0, 0, 0, 1, 1, 1],\n",
       " [0, 1, 0, 0, 0, 0, 0],\n",
       " [0, 1, 1, 1, 1, 1, 0],\n",
       " [0, 1, 1, 1, 0, 0, 0]]"
      ]
     },
     "execution_count": 16,
     "metadata": {},
     "output_type": "execute_result"
    }
   ],
   "source": [
    "mmap"
   ]
  },
  {
   "cell_type": "markdown",
   "id": "6d4072ae",
   "metadata": {},
   "source": [
    "### DFS방식"
   ]
  },
  {
   "cell_type": "code",
   "execution_count": 17,
   "id": "07378604",
   "metadata": {},
   "outputs": [],
   "source": [
    "def DFS(x, y):\n",
    "    global cnt\n",
    "    cnt += 1\n",
    "    mmap[x][y] = 0\n",
    "    for k in range(4):\n",
    "        xx = x + dx[k]\n",
    "        yy = y + dy[k]\n",
    "        if 0<=xx<n and 0<=yy<n and mmap[xx][yy] == 1:\n",
    "            DFS(xx, yy)"
   ]
  },
  {
   "cell_type": "code",
   "execution_count": 18,
   "id": "adb084ab",
   "metadata": {},
   "outputs": [
    {
     "name": "stdout",
     "output_type": "stream",
     "text": [
      "3\n",
      "7\n",
      "8\n",
      "9\n"
     ]
    }
   ],
   "source": [
    "for i in range(n):\n",
    "    for j in range(n):\n",
    "        if mmap[i][j] == 1: #집을 발견하면 cnt는 0으로 초기화\n",
    "            cnt = 0\n",
    "            DFS(i, j)\n",
    "            res.append(cnt)\n",
    "\n",
    "print(len(res))\n",
    "res.sort()\n",
    "for r in res:\n",
    "    print(r)"
   ]
  },
  {
   "cell_type": "markdown",
   "id": "c3365af6",
   "metadata": {},
   "source": [
    "## BFS 방식"
   ]
  },
  {
   "cell_type": "code",
   "execution_count": null,
   "id": "6932f9a2",
   "metadata": {},
   "outputs": [],
   "source": [
    "7\n",
    "0 1 1 0 1 0 0\n",
    "0 1 1 0 1 0 1\n",
    "1 1 1 0 1 0 1\n",
    "0 0 0 0 1 1 1\n",
    "0 1 0 0 0 0 0\n",
    "0 1 1 1 1 1 0\n",
    "0 1 1 1 0 0 0"
   ]
  },
  {
   "cell_type": "code",
   "execution_count": 57,
   "id": "84ef3132",
   "metadata": {},
   "outputs": [
    {
     "name": "stdout",
     "output_type": "stream",
     "text": [
      "7\n",
      "0 1 1 0 1 0 0\n",
      "0 1 1 0 1 0 1\n",
      "1 1 1 0 1 0 1\n",
      "0 0 0 0 1 1 1\n",
      "0 1 0 0 0 0 0\n",
      "0 1 1 1 1 1 0\n",
      "0 1 1 1 0 0 0\n"
     ]
    }
   ],
   "source": [
    "n = int(input())\n",
    "mmap = [list(map(int, input().split())) for _ in range(n)]\n",
    "res = []\n",
    "cnt = 0"
   ]
  },
  {
   "cell_type": "code",
   "execution_count": 58,
   "id": "37caf9dc",
   "metadata": {},
   "outputs": [
    {
     "name": "stdout",
     "output_type": "stream",
     "text": [
      "[0]\n",
      "[0, 0]\n",
      "[0, 0, 0]\n",
      "[0, 0, 0, 2]\n",
      "[0, 0, 0, 2, 0]\n",
      "[0, 0, 0, 2, 0, 0]\n",
      "[0, 0, 0, 2, 0, 0, 0]\n",
      "[0, 0, 0, 2, 0, 0, 0, 0]\n",
      "[0, 0, 0, 2, 0, 0, 0, 0, 0]\n",
      "[0, 0, 0, 2, 0, 0, 0, 0, 0, 0]\n",
      "[0, 0, 0, 2, 0, 0, 0, 0, 0, 0, 0]\n",
      "[0, 0, 0, 2, 0, 0, 0, 0, 0, 0, 0, 0]\n",
      "[0, 0, 0, 2, 0, 0, 0, 0, 0, 0, 0, 0, 0]\n",
      "[0, 0, 0, 2, 0, 0, 0, 0, 0, 0, 0, 0, 0, 1]\n",
      "[0, 0, 0, 2, 0, 0, 0, 0, 0, 0, 0, 0, 0, 1, 0]\n",
      "[0, 0, 0, 2, 0, 0, 0, 0, 0, 0, 0, 0, 0, 1, 0, 0]\n",
      "[0, 0, 0, 2, 0, 0, 0, 0, 0, 0, 0, 0, 0, 1, 0, 0, 0]\n",
      "[0, 0, 0, 2, 0, 0, 0, 0, 0, 0, 0, 0, 0, 1, 0, 0, 0, 0]\n",
      "[0, 0, 0, 2, 0, 0, 0, 0, 0, 0, 0, 0, 0, 1, 0, 0, 0, 0, 0]\n",
      "[0, 0, 0, 2, 0, 0, 0, 0, 0, 0, 0, 0, 0, 1, 0, 0, 0, 0, 0, 0]\n",
      "[0, 0, 0, 2, 0, 0, 0, 0, 0, 0, 0, 0, 0, 1, 0, 0, 0, 0, 0, 0, 0]\n"
     ]
    }
   ],
   "source": [
    "for i in range(n):\n",
    "    for j in range(n):\n",
    "        if mmap[i][j] == 1:\n",
    "            mmap[i][j] = 0\n",
    "            q.append((i, j))\n",
    "            while q:\n",
    "                tmp = q.popleft()\n",
    "                for k in range(4):\n",
    "                    x = tmp[0] + dx[k]\n",
    "                    y = tmp[0] + dy[k]\n",
    "                    if 0<=x<n and 0<=y<n and mmap[x][y] == 1:\n",
    "                        mmap[x][y] = 0\n",
    "                        q.append((x, y))\n",
    "                        cnt += 1\n",
    "                        \n",
    "            res.append(cnt)\n",
    "            print(res)\n",
    "            cnt = 0 \n",
    "                    "
   ]
  },
  {
   "cell_type": "code",
   "execution_count": 59,
   "id": "25388370",
   "metadata": {
    "collapsed": true
   },
   "outputs": [
    {
     "name": "stdout",
     "output_type": "stream",
     "text": [
      "21\n",
      "0\n",
      "0\n",
      "0\n",
      "0\n",
      "0\n",
      "0\n",
      "0\n",
      "0\n",
      "0\n",
      "0\n",
      "0\n",
      "0\n",
      "0\n",
      "0\n",
      "0\n",
      "0\n",
      "0\n",
      "0\n",
      "0\n",
      "1\n",
      "2\n"
     ]
    }
   ],
   "source": [
    "print(len(res))\n",
    "res.sort()\n",
    "for r in res:\n",
    "    print(r)"
   ]
  }
 ],
 "metadata": {
  "kernelspec": {
   "display_name": "algo",
   "language": "python",
   "name": "algo"
  },
  "language_info": {
   "codemirror_mode": {
    "name": "ipython",
    "version": 3
   },
   "file_extension": ".py",
   "mimetype": "text/x-python",
   "name": "python",
   "nbconvert_exporter": "python",
   "pygments_lexer": "ipython3",
   "version": "3.9.12"
  }
 },
 "nbformat": 4,
 "nbformat_minor": 5
}
