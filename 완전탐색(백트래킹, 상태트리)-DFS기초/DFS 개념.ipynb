{
 "cells": [
  {
   "cell_type": "code",
   "execution_count": 1,
   "id": "73c3e4d4",
   "metadata": {},
   "outputs": [],
   "source": [
    "####### 1 ########\n",
    "##### 2 # 3 ######\n",
    "## 4 # 5#6 #7 #####"
   ]
  },
  {
   "cell_type": "markdown",
   "id": "aa568daf",
   "metadata": {},
   "source": [
    "전위순회: 자기 것을 먼저 처리하고, 왼쪽 자식 노드, 오른쪽 자식 노드 처리하는 방식\n",
    "\n",
    "1 2 4 5 3 6 7"
   ]
  },
  {
   "cell_type": "markdown",
   "id": "03929826",
   "metadata": {},
   "source": [
    "중위순회: 왼쪽 자식 노드, 자기 것 처리, 오른쪽 자식 노드 처리하는 방식\n",
    "\n",
    "4 2 5 1 6 3 7"
   ]
  },
  {
   "cell_type": "markdown",
   "id": "21f1c8da",
   "metadata": {},
   "source": [
    "후위순회: 왼쪽 자식 노드, 오른쪽 자식 노드 다 처리한 후, 자기 것 처리\n",
    "\n",
    "4 5 2 6 7 3 1"
   ]
  },
  {
   "cell_type": "markdown",
   "id": "5240912a",
   "metadata": {},
   "source": [
    "## 전위순회"
   ]
  },
  {
   "cell_type": "code",
   "execution_count": 14,
   "id": "ffa2a8f7",
   "metadata": {},
   "outputs": [],
   "source": [
    "def DFS1(x):\n",
    "    if x>7: #노드가 7까지 있고, 7이 넘어가면, 아예 return 써서 종료.\n",
    "        return\n",
    "    else:\n",
    "        print(x, end=' ') #자기것 먼저 처리\n",
    "        DFS(x*2)\n",
    "        DFS(x*2+1)"
   ]
  },
  {
   "cell_type": "markdown",
   "id": "0abed477",
   "metadata": {},
   "source": [
    "## 중위순회"
   ]
  },
  {
   "cell_type": "code",
   "execution_count": 15,
   "id": "cc728e8c",
   "metadata": {},
   "outputs": [],
   "source": [
    "def DFS2(x):\n",
    "    if x>7:\n",
    "        return\n",
    "    else:\n",
    "        DFS(x*2)\n",
    "        print(x, end=' ') #왼쪽 자식 먼저 처리하고 자기 것 처리, 오른쪽 자식 처리\n",
    "        DFS(x*2+1)"
   ]
  },
  {
   "cell_type": "markdown",
   "id": "df16f370",
   "metadata": {},
   "source": [
    "## 후위순회"
   ]
  },
  {
   "cell_type": "code",
   "execution_count": 16,
   "id": "242b4f26",
   "metadata": {},
   "outputs": [],
   "source": [
    "def DFS3(x):\n",
    "    if x > 7:\n",
    "        return\n",
    "    else:\n",
    "        DFS(x*2)\n",
    "        DFS(x*2+1)\n",
    "        print(x, end=' ') #왼쪽 자식, 오른쪽 자식 처리 먼저하고, 자기 것 처리"
   ]
  },
  {
   "cell_type": "code",
   "execution_count": 17,
   "id": "81bc48a3",
   "metadata": {},
   "outputs": [
    {
     "name": "stdout",
     "output_type": "stream",
     "text": [
      "4 5 2 6 7 3 1 "
     ]
    }
   ],
   "source": [
    "DFS3(1)"
   ]
  },
  {
   "cell_type": "code",
   "execution_count": null,
   "id": "379cdc2a",
   "metadata": {},
   "outputs": [],
   "source": []
  },
  {
   "cell_type": "code",
   "execution_count": null,
   "id": "9d5fa853",
   "metadata": {},
   "outputs": [],
   "source": []
  }
 ],
 "metadata": {
  "kernelspec": {
   "display_name": "algo",
   "language": "python",
   "name": "algo"
  },
  "language_info": {
   "codemirror_mode": {
    "name": "ipython",
    "version": 3
   },
   "file_extension": ".py",
   "mimetype": "text/x-python",
   "name": "python",
   "nbconvert_exporter": "python",
   "pygments_lexer": "ipython3",
   "version": "3.9.12"
  }
 },
 "nbformat": 4,
 "nbformat_minor": 5
}
