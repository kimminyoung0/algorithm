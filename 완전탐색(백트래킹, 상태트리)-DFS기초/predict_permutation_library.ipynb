{
 "cells": [
  {
   "cell_type": "markdown",
   "id": "b7a47504",
   "metadata": {},
   "source": [
    "## 수열 추측하기"
   ]
  },
  {
   "cell_type": "code",
   "execution_count": 1,
   "id": "7dbbc426",
   "metadata": {},
   "outputs": [],
   "source": [
    "import itertools as it"
   ]
  },
  {
   "cell_type": "code",
   "execution_count": 2,
   "id": "6fbe103b",
   "metadata": {},
   "outputs": [
    {
     "name": "stdout",
     "output_type": "stream",
     "text": [
      "4 16\n"
     ]
    }
   ],
   "source": [
    "n, f = map(int, input().split())"
   ]
  },
  {
   "cell_type": "code",
   "execution_count": null,
   "id": "8549788d",
   "metadata": {},
   "outputs": [],
   "source": [
    "#b = [1,3,3,1]"
   ]
  },
  {
   "cell_type": "code",
   "execution_count": 5,
   "id": "45ffdadd",
   "metadata": {},
   "outputs": [
    {
     "name": "stdout",
     "output_type": "stream",
     "text": [
      "3 1 2 4 "
     ]
    }
   ],
   "source": [
    "b = [1]*n\n",
    "for i in range(1, n):\n",
    "    b[i] = b[i-1]*(n-i)/i\n",
    "a = list(range(1, n+1))\n",
    "\n",
    "for tmp in it.permutations(a): #a의 자료에서 모든 순열을 찾아라.\n",
    "    sum = 0\n",
    "    for L, x in enumerate(tmp):\n",
    "        sum += (x*b[L])\n",
    "    if sum == f:\n",
    "        for x in tmp:\n",
    "            print(x, end = ' ')\n",
    "        break\n",
    "\n",
    "# for tmp in it.permutations(a, 3): #a의 자료에서 3개만 뽑아서 모든 순열을 찾아준다.\n",
    "#     print(tmp)"
   ]
  }
 ],
 "metadata": {
  "kernelspec": {
   "display_name": "algo",
   "language": "python",
   "name": "algo"
  },
  "language_info": {
   "codemirror_mode": {
    "name": "ipython",
    "version": 3
   },
   "file_extension": ".py",
   "mimetype": "text/x-python",
   "name": "python",
   "nbconvert_exporter": "python",
   "pygments_lexer": "ipython3",
   "version": "3.9.12"
  }
 },
 "nbformat": 4,
 "nbformat_minor": 5
}
