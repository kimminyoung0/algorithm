{
 "cells": [
  {
   "cell_type": "markdown",
   "id": "6ad15429",
   "metadata": {},
   "source": [
    "## 동전 교환"
   ]
  },
  {
   "cell_type": "markdown",
   "id": "d161d9c9",
   "metadata": {},
   "source": [
    "여러 단위의 동전들이 주어져 있을 때, 거스름돈을 가장 적은 수의 동전으로 교환해주려면 어떻게 주면 되는가 각 단위의 동전은 무한정 쓸 수 있다.\n",
    "\n",
    "첫번째줄 동전의 종류개수 - n\n",
    "\n",
    "두번째줄 n개의 동전의 종류\n",
    "\n",
    "세번째 줄 - 거슬러줄 금액 m"
   ]
  },
  {
   "cell_type": "code",
   "execution_count": 3,
   "id": "162d57f8",
   "metadata": {},
   "outputs": [
    {
     "name": "stdout",
     "output_type": "stream",
     "text": [
      "3\n",
      "1 2 5\n",
      "15\n"
     ]
    }
   ],
   "source": [
    "n = int(input())\n",
    "lst = list((map(int, input().split())))\n",
    "m = int(input())"
   ]
  },
  {
   "cell_type": "code",
   "execution_count": 49,
   "id": "5b5d8647",
   "metadata": {},
   "outputs": [],
   "source": [
    "lst.sort(reverse = True)"
   ]
  },
  {
   "cell_type": "code",
   "execution_count": 56,
   "id": "ae1d19fd",
   "metadata": {},
   "outputs": [],
   "source": [
    "small = 1000000\n",
    "sums = 0\n",
    "def DFS(x, sums):\n",
    "    global small\n",
    "    if sums > m:\n",
    "        pass\n",
    "    elif sums == m:\n",
    "        if x < small:\n",
    "            small = x\n",
    "            print(small)\n",
    "    \n",
    "    else:\n",
    "        for i in range(n): #1 2 5\n",
    "            #print(lst[i], sums)\n",
    "            DFS(x+1, sums + lst[i])"
   ]
  },
  {
   "cell_type": "code",
   "execution_count": 57,
   "id": "cb1d58b1",
   "metadata": {},
   "outputs": [
    {
     "name": "stdout",
     "output_type": "stream",
     "text": [
      "3\n"
     ]
    }
   ],
   "source": [
    "DFS(0, 0)"
   ]
  },
  {
   "cell_type": "code",
   "execution_count": null,
   "id": "2c6b9183",
   "metadata": {},
   "outputs": [],
   "source": []
  }
 ],
 "metadata": {
  "kernelspec": {
   "display_name": "algo",
   "language": "python",
   "name": "algo"
  },
  "language_info": {
   "codemirror_mode": {
    "name": "ipython",
    "version": 3
   },
   "file_extension": ".py",
   "mimetype": "text/x-python",
   "name": "python",
   "nbconvert_exporter": "python",
   "pygments_lexer": "ipython3",
   "version": "3.9.12"
  }
 },
 "nbformat": 4,
 "nbformat_minor": 5
}
