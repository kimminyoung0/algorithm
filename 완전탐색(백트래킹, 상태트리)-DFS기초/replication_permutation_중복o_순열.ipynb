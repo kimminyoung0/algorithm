{
 "cells": [
  {
   "cell_type": "markdown",
   "id": "80aed4b7",
   "metadata": {},
   "source": [
    "## 중복순열 구하기"
   ]
  },
  {
   "cell_type": "markdown",
   "id": "18707822",
   "metadata": {},
   "source": [
    "1부터 n까지 번호가 적인 구슬이 있다. 이 중 중복을 허락하여 M번 뽑아 일렬로 나열하는 방법을 모두 출력한다."
   ]
  },
  {
   "cell_type": "code",
   "execution_count": 1,
   "id": "31494536",
   "metadata": {},
   "outputs": [
    {
     "name": "stdout",
     "output_type": "stream",
     "text": [
      "3 2\n"
     ]
    }
   ],
   "source": [
    "n, m = map(int, input().split())"
   ]
  },
  {
   "cell_type": "code",
   "execution_count": 9,
   "id": "797e9aed",
   "metadata": {},
   "outputs": [],
   "source": [
    "cnt = 0\n",
    "rp = [0]*m \n",
    "def DFS(x):\n",
    "    global cnt\n",
    "    if x == m:\n",
    "        for j in range(m):\n",
    "            print(rp[j], end = ' ')\n",
    "        print()\n",
    "        cnt += 1\n",
    "    else:\n",
    "        for i in range(1, n+1):\n",
    "            rp[x] = i\n",
    "            DFS(x+1)"
   ]
  },
  {
   "cell_type": "code",
   "execution_count": 10,
   "id": "c2b4be64",
   "metadata": {},
   "outputs": [
    {
     "name": "stdout",
     "output_type": "stream",
     "text": [
      "1 1 \n",
      "1 2 \n",
      "1 3 \n",
      "2 1 \n",
      "2 2 \n",
      "2 3 \n",
      "3 1 \n",
      "3 2 \n",
      "3 3 \n",
      "9\n"
     ]
    }
   ],
   "source": [
    "DFS(0)\n",
    "print(cnt)"
   ]
  }
 ],
 "metadata": {
  "kernelspec": {
   "display_name": "algo",
   "language": "python",
   "name": "algo"
  },
  "language_info": {
   "codemirror_mode": {
    "name": "ipython",
    "version": 3
   },
   "file_extension": ".py",
   "mimetype": "text/x-python",
   "name": "python",
   "nbconvert_exporter": "python",
   "pygments_lexer": "ipython3",
   "version": "3.9.12"
  }
 },
 "nbformat": 4,
 "nbformat_minor": 5
}
