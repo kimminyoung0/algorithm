{
 "cells": [
  {
   "cell_type": "markdown",
   "id": "06d13a2c",
   "metadata": {},
   "source": [
    "## 회의실 배정(그리디 알고리즘)"
   ]
  },
  {
   "cell_type": "markdown",
   "id": "cdc3d41c",
   "metadata": {},
   "source": [
    "회의의 수가 주어지고, 회의 시작시간과 회의 끝시간이 리스트로 들어간다.\n",
    "최대 사용할 수 있는 회의 수를 출력"
   ]
  },
  {
   "cell_type": "code",
   "execution_count": 11,
   "id": "1e0ffa0a",
   "metadata": {},
   "outputs": [],
   "source": [
    "def solution(lst):\n",
    "\n",
    "    lst.sort(key = lambda x:(x[1], x[0]))\n",
    "    #회의가 끝나는 시간 기록\n",
    "    fin = 0\n",
    "    cnt = 0\n",
    "    for s, f in lst:\n",
    "        if s >= fin:\n",
    "            fin = f #end\n",
    "            cnt += 1 \n",
    "    return cnt"
   ]
  },
  {
   "cell_type": "code",
   "execution_count": 12,
   "id": "8962ba1f",
   "metadata": {},
   "outputs": [
    {
     "data": {
      "text/plain": [
       "3"
      ]
     },
     "execution_count": 12,
     "metadata": {},
     "output_type": "execute_result"
    }
   ],
   "source": [
    "solution([[1,4], [2,3], [3,5], [4,6], [5,7]])"
   ]
  },
  {
   "cell_type": "code",
   "execution_count": null,
   "id": "414fbc83",
   "metadata": {},
   "outputs": [],
   "source": []
  },
  {
   "cell_type": "code",
   "execution_count": null,
   "id": "8ef30988",
   "metadata": {},
   "outputs": [],
   "source": []
  },
  {
   "cell_type": "code",
   "execution_count": null,
   "id": "e0f85f42",
   "metadata": {},
   "outputs": [],
   "source": []
  },
  {
   "cell_type": "code",
   "execution_count": null,
   "id": "15fab97e",
   "metadata": {},
   "outputs": [],
   "source": []
  }
 ],
 "metadata": {
  "kernelspec": {
   "display_name": "algo",
   "language": "python",
   "name": "algo"
  },
  "language_info": {
   "codemirror_mode": {
    "name": "ipython",
    "version": 3
   },
   "file_extension": ".py",
   "mimetype": "text/x-python",
   "name": "python",
   "nbconvert_exporter": "python",
   "pygments_lexer": "ipython3",
   "version": "3.9.12"
  }
 },
 "nbformat": 4,
 "nbformat_minor": 5
}
