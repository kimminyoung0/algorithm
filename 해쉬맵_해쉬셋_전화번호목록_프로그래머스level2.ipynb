{
 "cells": [
  {
   "cell_type": "markdown",
   "id": "99af329d",
   "metadata": {},
   "source": [
    "### 문제 설명\n",
    "\n",
    "전화번호부에 적힌 전화번호 중, 한 번호가 다른 번호의 접두어인 경우가 있는지 확인하려 합니다.\n",
    "전화번호가 다음과 같을 경우, 구조대 전화번호는 영석이의 전화번호의 접두사입니다.\n",
    "\n",
    "- 구조대 : 119\n",
    "- 박준영 : 97 674 223\n",
    "- 지영석 : 11 9552 4421\n",
    "\n",
    "전화번호부에 적힌 전화번호를 담은 배열 phone_book 이 solution 함수의 매개변수로 주어질 때, 어떤 번호가 다른 번호의 접두어인 경우가 있으면 false를 그렇지 않으면 true를 return 하도록 solution 함수를 작성해주세요.\n",
    "\n",
    "### 제한 사항\n",
    "- phone_book의 길이는 1 이상 1,000,000 이하입니다.\n",
    "- 각 전화번호의 길이는 1 이상 20 이하입니다.\n",
    "- 같은 전화번호가 중복해서 들어있지 않습니다."
   ]
  },
  {
   "cell_type": "code",
   "execution_count": 1,
   "id": "e035b298",
   "metadata": {},
   "outputs": [],
   "source": [
    "phone_book = [\"119\", \"97674223\", \"1195524421\"]"
   ]
  },
  {
   "cell_type": "code",
   "execution_count": 2,
   "id": "46b91c9b",
   "metadata": {},
   "outputs": [],
   "source": [
    "phone_book2 = [\"123\", \"456\", \"789\"]"
   ]
  },
  {
   "cell_type": "code",
   "execution_count": 3,
   "id": "60dd7bd7",
   "metadata": {},
   "outputs": [],
   "source": [
    "def check(lst):\n",
    "    hash_map = {phone : True for phone in phone_book}\n",
    "    \n",
    "    for phone in phone_book:\n",
    "        temp = \"\"\n",
    "        for num in phone:\n",
    "            temp += num\n",
    "            if temp in hash_map and temp != phone:\n",
    "                return False\n",
    "            \n",
    "    return True"
   ]
  },
  {
   "cell_type": "code",
   "execution_count": 4,
   "id": "53038e8a",
   "metadata": {},
   "outputs": [
    {
     "data": {
      "text/plain": [
       "False"
      ]
     },
     "execution_count": 4,
     "metadata": {},
     "output_type": "execute_result"
    }
   ],
   "source": [
    "check(phone_book)"
   ]
  },
  {
   "cell_type": "code",
   "execution_count": 5,
   "id": "b10bf952",
   "metadata": {},
   "outputs": [],
   "source": [
    "def check2(phone_book):\n",
    "    phone_book.sort()  # 문자열 정렬하면 접두어가 인접하게 배치됨\n",
    "\n",
    "    for i in range(len(phone_book) - 1):\n",
    "        if phone_book[i+1].startswith(phone_book[i]):  # 바로 다음 번호가 접두어인지 확인\n",
    "            return False\n",
    "    return True"
   ]
  },
  {
   "cell_type": "code",
   "execution_count": 6,
   "id": "1e145e7e",
   "metadata": {},
   "outputs": [
    {
     "name": "stdout",
     "output_type": "stream",
     "text": [
      "False\n",
      "True\n"
     ]
    }
   ],
   "source": [
    "print(check2(phone_book))  # False\n",
    "print(check2(phone_book2))  # True"
   ]
  },
  {
   "cell_type": "code",
   "execution_count": null,
   "id": "03ad826f",
   "metadata": {},
   "outputs": [],
   "source": []
  },
  {
   "cell_type": "markdown",
   "id": "63578576",
   "metadata": {},
   "source": [
    "- 주어진 문자열 s의 서로 다른 부분 문자열 개수를 구하라.\n",
    "- 부분 문자열이란 연속된 문자들의 일부를 의미한다.\n",
    "- 예를 들어, \"ababc\"의 부분 문자열은 \"a\", \"ab\", \"b\", \"ba\", \"c\", \"ababc\" 등이 있다.\n",
    "- 같은 부분 문자열은 한 번만 세어야 한다."
   ]
  },
  {
   "cell_type": "code",
   "execution_count": 7,
   "id": "a43a7cd4",
   "metadata": {},
   "outputs": [],
   "source": [
    "s = \"ababc\""
   ]
  },
  {
   "cell_type": "code",
   "execution_count": null,
   "id": "e9ecfa4c",
   "metadata": {},
   "outputs": [],
   "source": [
    "def count(text):\n",
    "    cnt = 0\n",
    "    hash_map = {}\n",
    "    \n",
    "    subtext = \"\"\n",
    "    for i in range(0, len(text)):\n",
    "        for j in range(i+1, len(text)+1):\n",
    "            subtext = text[i:j]\n",
    "            if subtext in hash_map:\n",
    "                hash_map[subtext] += 1\n",
    "            else:\n",
    "                hash_map[subtext] = 0\n",
    "        \n",
    "    return len(hash_map)"
   ]
  },
  {
   "cell_type": "code",
   "execution_count": null,
   "id": "25aa84bf",
   "metadata": {},
   "outputs": [],
   "source": [
    "text[0:1] text[0:2] text[0:3] text[0:4] text[0:5]\n",
    "text[1:2] text[1:3] text[1:4] text[1:5]\n",
    "text[2:3] text[2:4] text[2:5]\n",
    "text[3:4] text[3:5]\n",
    "text[4:5]"
   ]
  },
  {
   "cell_type": "markdown",
   "id": "d3a51efc",
   "metadata": {},
   "source": [
    "해쉬맵이 아닌 해쉬셋으로 하면 더 좋다!"
   ]
  },
  {
   "cell_type": "code",
   "execution_count": null,
   "id": "cb371802",
   "metadata": {},
   "outputs": [],
   "source": [
    "def count1(text):\n",
    "    cnt = 0\n",
    "    hash_set = set()\n",
    "    \n",
    "    for i in range(0, len(text)):\n",
    "        for j in range(i+1, len(text)+1):\n",
    "            hash_set.add(text[i:j])\n",
    "        \n",
    "    return len(hash_set)"
   ]
  },
  {
   "cell_type": "code",
   "execution_count": null,
   "id": "38d65e12",
   "metadata": {},
   "outputs": [],
   "source": [
    "def count2(text):\n",
    "    substrings = set()  # 중복 제거를 위해 set 사용\n",
    "\n",
    "    for i in range(len(text)):  \n",
    "        for j in range(i+1, len(text)+1):  # 부분 문자열 생성\n",
    "            substrings.add(text[i:j]) \n",
    "\n",
    "    return len(substrings)"
   ]
  },
  {
   "cell_type": "code",
   "execution_count": null,
   "id": "ff941b18",
   "metadata": {},
   "outputs": [],
   "source": [
    "print(count2(\"ababc\"))  # 12\n",
    "print(count2(\"aaaa\"))   # 4 (\"a\", \"aa\", \"aaa\", \"aaaa\")"
   ]
  }
 ],
 "metadata": {
  "kernelspec": {
   "display_name": "algo",
   "language": "python",
   "name": "algo"
  },
  "language_info": {
   "codemirror_mode": {
    "name": "ipython",
    "version": 3
   },
   "file_extension": ".py",
   "mimetype": "text/x-python",
   "name": "python",
   "nbconvert_exporter": "python",
   "pygments_lexer": "ipython3",
   "version": "3.9.12"
  }
 },
 "nbformat": 4,
 "nbformat_minor": 5
}
