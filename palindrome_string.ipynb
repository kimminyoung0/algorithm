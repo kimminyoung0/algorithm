{
 "cells": [
  {
   "cell_type": "markdown",
   "id": "226cedbb",
   "metadata": {},
   "source": [
    "## 회문 문자열"
   ]
  },
  {
   "cell_type": "markdown",
   "id": "6e132302",
   "metadata": {},
   "source": [
    "n개의 문자열 데이터를 입력 받아 앞에서 읽을 때나 뒤에서 읽을 때나 같은 경우(회문 문자열)이면 yes를 출력, 아니면 no를 출력하는 프로그램 작성\n",
    "\n",
    "(대소문자 구분 x)"
   ]
  },
  {
   "cell_type": "code",
   "execution_count": 1,
   "id": "4b32c5cc",
   "metadata": {},
   "outputs": [
    {
     "name": "stdout",
     "output_type": "stream",
     "text": [
      "5\n"
     ]
    }
   ],
   "source": [
    "n = int(input())"
   ]
  },
  {
   "cell_type": "code",
   "execution_count": 8,
   "id": "0c1e42a6",
   "metadata": {},
   "outputs": [
    {
     "name": "stdout",
     "output_type": "stream",
     "text": [
      "level moon abcba soon gooG\n"
     ]
    }
   ],
   "source": [
    "strlst = list(input().split())"
   ]
  },
  {
   "cell_type": "code",
   "execution_count": 56,
   "id": "a8f2c42a",
   "metadata": {},
   "outputs": [
    {
     "name": "stdout",
     "output_type": "stream",
     "text": [
      "#1 yes\n",
      "#2 no\n",
      "#3 yes\n",
      "#4 no\n",
      "#5 yes\n"
     ]
    }
   ],
   "source": [
    "for i in range(len(strlst)):\n",
    "    strlst[i] = list(strlst[i])\n",
    "\n",
    "for i in range(len(strlst)):\n",
    "    for j in range(len(strlst[i])):\n",
    "        strlst[i][j] = strlst[i][j].lower()\n",
    "        \n",
    "for i, v in enumerate(strlst):\n",
    "    #print(i, v)\n",
    "    if len(v)%2 == 0: #짝수\n",
    "        if v[:len(v)//2] == list(reversed(v[len(v)//2:])):\n",
    "            answer = 'yes'\n",
    "        else:\n",
    "            answer = 'no'\n",
    "        \n",
    "    else: #홀수\n",
    "        if v[:len(v)//2] == list(reversed(v[len(v)//2+1:])):\n",
    "            answer = 'yes'\n",
    "        else:\n",
    "            answer = 'no'\n",
    "\n",
    "    print(f'#{i+1} {answer}')\n",
    "        "
   ]
  },
  {
   "cell_type": "code",
   "execution_count": null,
   "id": "d5b51cc4",
   "metadata": {},
   "outputs": [],
   "source": []
  }
 ],
 "metadata": {
  "kernelspec": {
   "display_name": "algo",
   "language": "python",
   "name": "algo"
  },
  "language_info": {
   "codemirror_mode": {
    "name": "ipython",
    "version": 3
   },
   "file_extension": ".py",
   "mimetype": "text/x-python",
   "name": "python",
   "nbconvert_exporter": "python",
   "pygments_lexer": "ipython3",
   "version": "3.9.12"
  }
 },
 "nbformat": 4,
 "nbformat_minor": 5
}
