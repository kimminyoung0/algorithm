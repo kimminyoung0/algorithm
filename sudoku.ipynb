{
 "cells": [
  {
   "cell_type": "markdown",
   "id": "d971fb95",
   "metadata": {},
   "source": [
    "## 스도쿠 검사"
   ]
  },
  {
   "cell_type": "markdown",
   "id": "703e52c8",
   "metadata": {},
   "source": [
    "9x9 격자판을 받고, 스도쿠가 잘 풀려있으면 \"YES\", 정답이 아니라면 \"NO\" 로 출력하시오."
   ]
  },
  {
   "cell_type": "code",
   "execution_count": null,
   "id": "8f6a17a6",
   "metadata": {},
   "outputs": [],
   "source": [
    "1 4 3 6 2 8 5 7 9\n",
    "5 7 2 1 3 9 4 6 8\n",
    "9 8 6 7 5 4 2 3 1\n",
    "3 9 1 5 4 2 7 8 6\n",
    "4 6 8 9 1 7 3 5 2\n",
    "7 2 5 8 6 3 9 1 4\n",
    "2 3 7 4 8 1 6 9 5\n",
    "6 1 9 2 7 5 8 4 3\n",
    "8 5 4 3 9 6 1 2 7"
   ]
  },
  {
   "cell_type": "code",
   "execution_count": 1,
   "id": "5a646d68",
   "metadata": {},
   "outputs": [
    {
     "name": "stdout",
     "output_type": "stream",
     "text": [
      "1 4 3 6 2 8 5 7 9\n",
      "5 7 2 1 3 9 4 6 8\n",
      "9 8 6 7 5 4 2 3 1\n",
      "3 9 1 5 4 2 7 8 6\n",
      "4 6 8 9 1 7 3 5 2\n",
      "7 2 5 8 6 3 9 1 4\n",
      "2 3 7 4 8 1 6 9 5\n",
      "6 1 9 2 7 5 8 4 3\n",
      "8 5 4 3 9 6 1 2 7\n"
     ]
    }
   ],
   "source": [
    "sdk = [list(map(int, input().split())) for _ in range(9)]"
   ]
  },
  {
   "cell_type": "code",
   "execution_count": 116,
   "id": "7f4d4765",
   "metadata": {},
   "outputs": [],
   "source": [
    "def checksdk(sdk):\n",
    "    #한 행씩 검사\n",
    "    for i in range(9):\n",
    "        if sorted(sdk[i]) != sorted(list(set(sdk[i]))):\n",
    "            return False\n",
    "    #한 열씩 검사\n",
    "    lst = []\n",
    "    for i in range(9): #한 행씩 돌면서 \n",
    "        for j in range(9):\n",
    "            lst.append(sdk[j][i])\n",
    "            if sorted(lst) != sorted(list(set(lst))):\n",
    "                return False\n",
    "        lst = []\n",
    "\n",
    "    #한 박스씩 검사 012 345 678 i*3 i*3+1 i*3+2 \n",
    "    b_lst = []\n",
    "    #lst_3r = []\n",
    "    for i in range(3): #lst = 0행1행2행 /3행4행5행 /6행7행8행\n",
    "        lst3r = sdk[i*3:i*3+3]\n",
    "        for j in range(3):\n",
    "            lst1r = lst3r[j]\n",
    "            for c in range(3):\n",
    "                lst3c = lst1r[c*3:c*3+3]\n",
    "                for k in lst3c:\n",
    "                    b_lst.append(k)\n",
    "\n",
    "                if sorted(b_lst) != sorted(list(set(b_lst))):\n",
    "                    return False\n",
    "                b_lst = []\n",
    "\n",
    "    return True"
   ]
  },
  {
   "cell_type": "code",
   "execution_count": 117,
   "id": "cf9fa557",
   "metadata": {},
   "outputs": [
    {
     "name": "stdout",
     "output_type": "stream",
     "text": [
      "YES\n"
     ]
    }
   ],
   "source": [
    "if checksdk(sdk):\n",
    "    print(\"YES\")\n",
    "else:\n",
    "    print(\"NO\")"
   ]
  },
  {
   "cell_type": "markdown",
   "id": "a3a4e751",
   "metadata": {},
   "source": [
    "다른 방식(슬라이싱 x 중복을 체크하는 체크 리스트 만들기)"
   ]
  },
  {
   "cell_type": "code",
   "execution_count": 126,
   "id": "23e8176d",
   "metadata": {},
   "outputs": [],
   "source": [
    "def checksdk2(sdk):    \n",
    "    isright = True\n",
    "    for i in range(9):\n",
    "        chrow = [0]*10\n",
    "        chcol = [0]*10\n",
    "        for j in range(9):\n",
    "            chrow[sdk[i][j]] = 1\n",
    "            chcol[sdk[j][i]] = 1\n",
    "        if sum(chrow) != 9 or sum(chcol) != 9:\n",
    "            print(chrow)\n",
    "            print(sum(chcol))\n",
    "            return False\n",
    "\n",
    "    for i in range(3): #9개의 box\n",
    "        for j in range(3): #########\n",
    "            chbox = [0]*10\n",
    "            for k in range(3): #한 box의 9개의 숫자\n",
    "                for s in range(3): #####\n",
    "                    chbox[sdk[i*3+k][j*3+s]] = 1\n",
    "            if sum(chbox) != 9:\n",
    "                print(sum(chbox))\n",
    "                return False\n",
    "\n",
    "    return True"
   ]
  },
  {
   "cell_type": "code",
   "execution_count": 127,
   "id": "7b7adaec",
   "metadata": {},
   "outputs": [
    {
     "name": "stdout",
     "output_type": "stream",
     "text": [
      "YES\n"
     ]
    }
   ],
   "source": [
    "if checksdk2(sdk):\n",
    "    print(\"YES\")\n",
    "else:\n",
    "    print(\"NO\")"
   ]
  },
  {
   "cell_type": "code",
   "execution_count": null,
   "id": "21f19613",
   "metadata": {},
   "outputs": [],
   "source": []
  }
 ],
 "metadata": {
  "kernelspec": {
   "display_name": "algo",
   "language": "python",
   "name": "algo"
  },
  "language_info": {
   "codemirror_mode": {
    "name": "ipython",
    "version": 3
   },
   "file_extension": ".py",
   "mimetype": "text/x-python",
   "name": "python",
   "nbconvert_exporter": "python",
   "pygments_lexer": "ipython3",
   "version": "3.9.12"
  }
 },
 "nbformat": 4,
 "nbformat_minor": 5
}
