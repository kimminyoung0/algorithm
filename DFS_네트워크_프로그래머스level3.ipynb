{
 "cells": [
  {
   "cell_type": "markdown",
   "id": "34f97d0d",
   "metadata": {},
   "source": [
    "문제 1. 프로그래머스 네트워크 level 3\n",
    "\n",
    "- 컴퓨터 개수 n 과 연결 정보를 담은 2D 배열 computers 가 주어진다.\n",
    "- 연결된 컴퓨터들끼리 하나의 네트워크 로 간주한다.\n",
    "- 총 네트워크의 개수를 반환하라.\n"
   ]
  },
  {
   "cell_type": "markdown",
   "id": "fb6cd449",
   "metadata": {},
   "source": [
    "## DFS"
   ]
  },
  {
   "cell_type": "markdown",
   "id": "1d5f0653",
   "metadata": {},
   "source": [
    "인접행렬 사용"
   ]
  },
  {
   "cell_type": "markdown",
   "id": "f9017887",
   "metadata": {},
   "source": [
    "--- count_network() ---    visited = [False, False, False, False]\n",
    "|                      |\n",
    "|                      |\n",
    "|      -dfs-----------||\n",
    "|      |  -dfs--------||\n",
    "|      |  |  -dfs-----||\n",
    "|      |  |  |  -dfs--||\n",
    "|      |  |  |  | end ||\n",
    "|      |  |  |  |     ||\n",
    "________________________\n"
   ]
  },
  {
   "cell_type": "code",
   "execution_count": 73,
   "id": "58f9c564",
   "metadata": {},
   "outputs": [],
   "source": [
    "n = 3\n",
    "computers = [\n",
    "    [1, 1, 0],\n",
    "    [1, 1, 0],\n",
    "    [0, 0, 1]\n",
    "]"
   ]
  },
  {
   "cell_type": "code",
   "execution_count": 78,
   "id": "96dd2302",
   "metadata": {},
   "outputs": [],
   "source": [
    "def dfs(computers, visited, node):\n",
    "    \n",
    "    print(\"node\", node)\n",
    "    visited[node] = True\n",
    "    \n",
    "    for neighbor, isConnected in enumerate(computers[node]):\n",
    "        if isConnected and not visited[neighbor]:\n",
    "            print(f\"d-dfs / ----> computers, {visited}, {neighbor}\")\n",
    "            dfs(computers, visited, neighbor)\n",
    "            # 모든 노드를 한번만 방문하면 되기 때문에 백트래킹이 필요하지 않다.\n",
    "            \n",
    "\n",
    "def count_network(n, computers):\n",
    "    visited = [False] * n\n",
    "    cnt = 0\n",
    "    for i in range(n):\n",
    "        print(\"i\", i)\n",
    "        if not visited[i]: #방문하지 않은 컴퓨터 하나씩 방문-점검\n",
    "            print(f\"c-dfs / ----> computers, {visited}, {i}\")\n",
    "            dfs(computers, visited, i)\n",
    "            cnt += 1\n",
    "            print(f\"cnt+1 -> {cnt}\")\n",
    "            \n",
    "    return cnt"
   ]
  },
  {
   "cell_type": "code",
   "execution_count": 79,
   "id": "aaec4a36",
   "metadata": {
    "scrolled": true
   },
   "outputs": [
    {
     "name": "stdout",
     "output_type": "stream",
     "text": [
      "i 0\n",
      "c-dfs / ----> computers, [False, False, False], 0\n",
      "node 0\n",
      "d-dfs / ----> computers, [True, False, False], 1\n",
      "node 1\n",
      "cnt+1 -> 1\n",
      "i 1\n",
      "i 2\n",
      "c-dfs / ----> computers, [True, True, False], 2\n",
      "node 2\n",
      "cnt+1 -> 2\n"
     ]
    },
    {
     "data": {
      "text/plain": [
       "2"
      ]
     },
     "execution_count": 79,
     "metadata": {},
     "output_type": "execute_result"
    }
   ],
   "source": [
    "res = count_network(n, computers)\n",
    "res"
   ]
  },
  {
   "cell_type": "code",
   "execution_count": null,
   "id": "eac19b67",
   "metadata": {},
   "outputs": [],
   "source": []
  }
 ],
 "metadata": {
  "kernelspec": {
   "display_name": "algo",
   "language": "python",
   "name": "algo"
  },
  "language_info": {
   "codemirror_mode": {
    "name": "ipython",
    "version": 3
   },
   "file_extension": ".py",
   "mimetype": "text/x-python",
   "name": "python",
   "nbconvert_exporter": "python",
   "pygments_lexer": "ipython3",
   "version": "3.9.12"
  }
 },
 "nbformat": 4,
 "nbformat_minor": 5
}
