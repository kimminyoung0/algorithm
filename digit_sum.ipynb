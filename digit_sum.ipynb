{
 "cells": [
  {
   "cell_type": "markdown",
   "id": "c938e588",
   "metadata": {},
   "source": [
    "자릿수의 합"
   ]
  },
  {
   "cell_type": "markdown",
   "id": "b00d2d70",
   "metadata": {},
   "source": [
    "n 개의 자연수가 입력되면 각 자연수의 자릿수의 합을 구하고 그 합이 최대인 자연수를 출력하시오."
   ]
  },
  {
   "cell_type": "code",
   "execution_count": 5,
   "id": "41af6682",
   "metadata": {},
   "outputs": [],
   "source": [
    "def strtonum_sum(a):\n",
    "    a = list(str(a))\n",
    "    return sum(list(map(int, a)))"
   ]
  },
  {
   "cell_type": "code",
   "execution_count": 6,
   "id": "c2182fbd",
   "metadata": {},
   "outputs": [
    {
     "data": {
      "text/plain": [
       "16"
      ]
     },
     "execution_count": 6,
     "metadata": {},
     "output_type": "execute_result"
    }
   ],
   "source": [
    "strtonum_sum(123523)"
   ]
  },
  {
   "cell_type": "code",
   "execution_count": 34,
   "id": "5ce02394",
   "metadata": {},
   "outputs": [],
   "source": [
    "def solution(x, n1, n2, n3):\n",
    "    answer = -200\n",
    "    lst = []\n",
    "    num_lst = []\n",
    "    lst.append(n1)\n",
    "    lst.append(n2)\n",
    "    lst.append(n3)\n",
    "    for i in lst:\n",
    "        num_lst.append(strtonum_sum(i))\n",
    "\n",
    "    num_dict = dict(zip(lst, num_lst))\n",
    "\n",
    "    for key, value in num_dict.items():\n",
    "        if value == max(num_dict.values()):\n",
    "            answer = key\n",
    "        \n",
    "    return answer"
   ]
  },
  {
   "cell_type": "code",
   "execution_count": 35,
   "id": "edbca492",
   "metadata": {},
   "outputs": [
    {
     "data": {
      "text/plain": [
       "97"
      ]
     },
     "execution_count": 35,
     "metadata": {},
     "output_type": "execute_result"
    }
   ],
   "source": [
    "solution(3, 125, 15332, 97)"
   ]
  },
  {
   "cell_type": "code",
   "execution_count": null,
   "id": "1c6ede48",
   "metadata": {},
   "outputs": [],
   "source": []
  }
 ],
 "metadata": {
  "kernelspec": {
   "display_name": "algo",
   "language": "python",
   "name": "algo"
  },
  "language_info": {
   "codemirror_mode": {
    "name": "ipython",
    "version": 3
   },
   "file_extension": ".py",
   "mimetype": "text/x-python",
   "name": "python",
   "nbconvert_exporter": "python",
   "pygments_lexer": "ipython3",
   "version": "3.9.12"
  }
 },
 "nbformat": 4,
 "nbformat_minor": 5
}
