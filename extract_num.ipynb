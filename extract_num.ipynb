{
 "cells": [
  {
   "cell_type": "markdown",
   "id": "3e7c21ee",
   "metadata": {},
   "source": [
    "## 숫자만 출력"
   ]
  },
  {
   "cell_type": "markdown",
   "id": "d6858d49",
   "metadata": {},
   "source": [
    "첫줄에 자연수 출력, 둘 째줄에 약수의 개수 출력"
   ]
  },
  {
   "cell_type": "code",
   "execution_count": 1,
   "id": "7a78aa55",
   "metadata": {},
   "outputs": [
    {
     "name": "stdout",
     "output_type": "stream",
     "text": [
      "g0en2Ts8eSoft\n"
     ]
    }
   ],
   "source": [
    "prompt = input()"
   ]
  },
  {
   "cell_type": "code",
   "execution_count": 21,
   "id": "66ba2c29",
   "metadata": {},
   "outputs": [
    {
     "data": {
      "text/plain": [
       "['g', '0', 'e', 'n', '2', 'T', 's', '8', 'e', 'S', 'o', 'f', 't']"
      ]
     },
     "execution_count": 21,
     "metadata": {},
     "output_type": "execute_result"
    }
   ],
   "source": [
    "p_lst = list(prompt)\n",
    "p_lst"
   ]
  },
  {
   "cell_type": "markdown",
   "id": "a5aa2c43",
   "metadata": {},
   "source": [
    "isdecimal 0~9\n",
    "\n",
    "isdigit 0~~~~~"
   ]
  },
  {
   "cell_type": "code",
   "execution_count": 27,
   "id": "7be79da3",
   "metadata": {},
   "outputs": [
    {
     "name": "stdout",
     "output_type": "stream",
     "text": [
      "28\n",
      "5\n"
     ]
    }
   ],
   "source": [
    "num_ext = []\n",
    "for i in p_lst:\n",
    "    if i.isdigit():\n",
    "        num_ext.append(i)\n",
    "num = int(\"\".join(num_ext))\n",
    "cnt = 0\n",
    "for i in range(1, num//2+1):\n",
    "    if num%i == 0:\n",
    "        cnt += 1\n",
    "print(num)\n",
    "print(cnt)"
   ]
  },
  {
   "cell_type": "code",
   "execution_count": null,
   "id": "c8691e2b",
   "metadata": {},
   "outputs": [],
   "source": []
  }
 ],
 "metadata": {
  "kernelspec": {
   "display_name": "algo",
   "language": "python",
   "name": "algo"
  },
  "language_info": {
   "codemirror_mode": {
    "name": "ipython",
    "version": 3
   },
   "file_extension": ".py",
   "mimetype": "text/x-python",
   "name": "python",
   "nbconvert_exporter": "python",
   "pygments_lexer": "ipython3",
   "version": "3.9.12"
  }
 },
 "nbformat": 4,
 "nbformat_minor": 5
}
