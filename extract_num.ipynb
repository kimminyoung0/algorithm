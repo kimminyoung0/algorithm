{
 "cells": [
  {
   "cell_type": "markdown",
   "id": "889f4111",
   "metadata": {},
   "source": [
    "## 숫자만 출력"
   ]
  },
  {
   "cell_type": "markdown",
   "id": "2e78fbad",
   "metadata": {},
   "source": [
    "첫줄에 자연수 출력, 둘 째줄에 약수의 개수 출력"
   ]
  },
  {
   "cell_type": "code",
   "execution_count": 1,
   "id": "f66bf8f5",
   "metadata": {},
   "outputs": [
    {
     "name": "stdout",
     "output_type": "stream",
     "text": [
      "g0en2Ts8eSoft\n"
     ]
    }
   ],
   "source": [
    "prompt = input()"
   ]
  },
  {
   "cell_type": "code",
   "execution_count": 4,
   "id": "796f8809",
   "metadata": {},
   "outputs": [
    {
     "data": {
      "text/plain": [
       "['g', '0', 'e', 'n', '2', 'T', 's', '8', 'e', 'S', 'o', 'f', 't']"
      ]
     },
     "execution_count": 4,
     "metadata": {},
     "output_type": "execute_result"
    }
   ],
   "source": [
    "p_lst = list(prompt)\n",
    "p_lst"
   ]
  },
  {
   "cell_type": "code",
   "execution_count": null,
   "id": "b4bc571f",
   "metadata": {},
   "outputs": [],
   "source": []
  },
  {
   "cell_type": "code",
   "execution_count": null,
   "id": "bad54740",
   "metadata": {},
   "outputs": [],
   "source": []
  }
 ],
 "metadata": {
  "kernelspec": {
   "display_name": "algo",
   "language": "python",
   "name": "algo"
  },
  "language_info": {
   "codemirror_mode": {
    "name": "ipython",
    "version": 3
   },
   "file_extension": ".py",
   "mimetype": "text/x-python",
   "name": "python",
   "nbconvert_exporter": "python",
   "pygments_lexer": "ipython3",
   "version": "3.9.12"
  }
 },
 "nbformat": 4,
 "nbformat_minor": 5
}
