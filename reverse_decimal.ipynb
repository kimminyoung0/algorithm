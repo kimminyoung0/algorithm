{
 "cells": [
  {
   "cell_type": "markdown",
   "id": "c6169f64",
   "metadata": {},
   "source": [
    "뒤집은 소수"
   ]
  },
  {
   "cell_type": "markdown",
   "id": "2ae81667",
   "metadata": {},
   "source": [
    "n개의 자연수가 입력되면 각 자연수를 뒤집은 후 그 뒤집은 수가 소수이면 그 수를 출력하시오"
   ]
  },
  {
   "cell_type": "code",
   "execution_count": 74,
   "id": "51383b88",
   "metadata": {},
   "outputs": [],
   "source": [
    "def reverse_decimal(num_lst):\n",
    "    rev = []\n",
    "    for i in num_lst:\n",
    "        i = list(reversed(list(str(i))))\n",
    "        i = int(''.join(i))\n",
    "        rev.append(i)\n",
    "                    \n",
    "    for num in rev:\n",
    "        cnt = 0\n",
    "        is_prime = True\n",
    "        for i in range(1, num):\n",
    "            if num%i == 0:\n",
    "                cnt += 1\n",
    "                \n",
    "            if cnt > 1:\n",
    "                is_prime = False\n",
    "                break\n",
    "                \n",
    "        if is_prime == False:\n",
    "            rev.remove(num)\n",
    "            \n",
    "    return rev"
   ]
  },
  {
   "cell_type": "code",
   "execution_count": 75,
   "id": "c3cace00",
   "metadata": {},
   "outputs": [
    {
     "data": {
      "text/plain": [
       "[23, 73]"
      ]
     },
     "execution_count": 75,
     "metadata": {},
     "output_type": "execute_result"
    }
   ],
   "source": [
    "reverse_decimal([32, 54, 3700, 250])"
   ]
  },
  {
   "cell_type": "code",
   "execution_count": 59,
   "id": "df1aa18f",
   "metadata": {},
   "outputs": [
    {
     "data": {
      "text/plain": [
       "23"
      ]
     },
     "execution_count": 59,
     "metadata": {},
     "output_type": "execute_result"
    }
   ],
   "source": [
    "a = 32\n",
    "b = list(reversed(list(str(a))))\n",
    "b = int(''.join(b))\n",
    "b"
   ]
  },
  {
   "cell_type": "code",
   "execution_count": 68,
   "id": "fdc39328",
   "metadata": {},
   "outputs": [
    {
     "data": {
      "text/plain": [
       "123"
      ]
     },
     "execution_count": 68,
     "metadata": {},
     "output_type": "execute_result"
    }
   ],
   "source": [
    "a=['1', '2', '3']\n",
    "int(\"\".join(a))"
   ]
  },
  {
   "cell_type": "code",
   "execution_count": null,
   "id": "495e7428",
   "metadata": {},
   "outputs": [],
   "source": []
  }
 ],
 "metadata": {
  "kernelspec": {
   "display_name": "algo",
   "language": "python",
   "name": "algo"
  },
  "language_info": {
   "codemirror_mode": {
    "name": "ipython",
    "version": 3
   },
   "file_extension": ".py",
   "mimetype": "text/x-python",
   "name": "python",
   "nbconvert_exporter": "python",
   "pygments_lexer": "ipython3",
   "version": "3.9.12"
  }
 },
 "nbformat": 4,
 "nbformat_minor": 5
}
