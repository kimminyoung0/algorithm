{
 "cells": [
  {
   "cell_type": "markdown",
   "id": "162b8c34",
   "metadata": {},
   "source": [
    "뒤집은 소수"
   ]
  },
  {
   "cell_type": "markdown",
   "id": "bc1bbc75",
   "metadata": {},
   "source": [
    "n개의 자연수가 입력되면 각 자연수를 뒤집은 후 그 뒤집은 수가 소수이면 그 수를 출력하시오"
   ]
  },
  {
   "cell_type": "code",
   "execution_count": 31,
   "id": "42338e8b",
   "metadata": {},
   "outputs": [],
   "source": [
    "def reverse_decimal(num_lst):\n",
    "    rev = []\n",
    "    for i in num_lst:\n",
    "        i = list(reversed(list(str(i))))\n",
    "        #print(i)\n",
    "        i = ''.join(i)\n",
    "        i = int(i)\n",
    "        rev.append(i)\n",
    "    print(rev)\n",
    "    \n",
    "    for num in rev: #2\n",
    "        table = [0]*(num+1)\n",
    "        for i in range(2, n+1):\n",
    "            if table[i] == 0:\n",
    "                for j in range(i, n+1, i):\n",
    "                    table[j] += 1\n",
    "                    \n",
    "    for num in rev:\n",
    "        cnt = 0\n",
    "        is_prime = True\n",
    "        for i in range(1, num):\n",
    "            if num%i == 0:\n",
    "                cnt += 1\n",
    "                \n",
    "            if cnt > 1:\n",
    "                is_prime = False\n",
    "                break\n",
    "            \n",
    "        "
   ]
  },
  {
   "cell_type": "code",
   "execution_count": 30,
   "id": "4e4bf7d7",
   "metadata": {},
   "outputs": [
    {
     "name": "stdout",
     "output_type": "stream",
     "text": [
      "[23, 45, 73, 52]\n"
     ]
    }
   ],
   "source": [
    "reverse_decimal([32, 54, 3700, 250])"
   ]
  },
  {
   "cell_type": "code",
   "execution_count": null,
   "id": "b67bea86",
   "metadata": {},
   "outputs": [],
   "source": []
  },
  {
   "cell_type": "code",
   "execution_count": null,
   "id": "4fb89e17",
   "metadata": {},
   "outputs": [],
   "source": []
  },
  {
   "cell_type": "code",
   "execution_count": null,
   "id": "34c70dd3",
   "metadata": {},
   "outputs": [],
   "source": []
  },
  {
   "cell_type": "code",
   "execution_count": null,
   "id": "5a8b9d85",
   "metadata": {},
   "outputs": [],
   "source": []
  },
  {
   "cell_type": "code",
   "execution_count": null,
   "id": "fefcf091",
   "metadata": {},
   "outputs": [],
   "source": []
  },
  {
   "cell_type": "code",
   "execution_count": null,
   "id": "c0337436",
   "metadata": {},
   "outputs": [],
   "source": []
  },
  {
   "cell_type": "code",
   "execution_count": null,
   "id": "2c010354",
   "metadata": {},
   "outputs": [],
   "source": []
  },
  {
   "cell_type": "code",
   "execution_count": null,
   "id": "fe864644",
   "metadata": {},
   "outputs": [],
   "source": []
  },
  {
   "cell_type": "code",
   "execution_count": null,
   "id": "1313363e",
   "metadata": {},
   "outputs": [],
   "source": []
  }
 ],
 "metadata": {
  "kernelspec": {
   "display_name": "algo",
   "language": "python",
   "name": "algo"
  },
  "language_info": {
   "codemirror_mode": {
    "name": "ipython",
    "version": 3
   },
   "file_extension": ".py",
   "mimetype": "text/x-python",
   "name": "python",
   "nbconvert_exporter": "python",
   "pygments_lexer": "ipython3",
   "version": "3.9.12"
  }
 },
 "nbformat": 4,
 "nbformat_minor": 5
}
