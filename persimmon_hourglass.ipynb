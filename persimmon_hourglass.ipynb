{
 "cells": [
  {
   "cell_type": "markdown",
   "id": "26f45623",
   "metadata": {},
   "source": [
    "## 곶감(모래시계)"
   ]
  },
  {
   "cell_type": "markdown",
   "id": "fa68f368",
   "metadata": {},
   "source": [
    "nxn 격자판에서 2 0 3 -> 2번째 행을 왼쪽으로 3칸 돌린다는 뜻\n",
    "\n",
    "0이면 왼쪽 1이면 오른쪽\n",
    "\n",
    "회전 명령들을 다 수행하고 난 뒤 격자판에서 모래시계 모양에 있는 감들만 더해서 출력하시오."
   ]
  },
  {
   "cell_type": "code",
   "execution_count": null,
   "id": "5e006cb6",
   "metadata": {},
   "outputs": [],
   "source": [
    "10 13 10 12 15\n",
    "12 39 30 23 11\n",
    "11 25 50 53 15\n",
    "19 27 29 37 27\n",
    "19 13 30 13 19"
   ]
  },
  {
   "cell_type": "code",
   "execution_count": 27,
   "id": "56814e92",
   "metadata": {},
   "outputs": [
    {
     "name": "stdout",
     "output_type": "stream",
     "text": [
      "5\n",
      "10 13 10 12 15\n",
      "12 39 30 23 11\n",
      "11 25 50 53 15\n",
      "19 27 29 37 27\n",
      "19 13 30 13 19\n"
     ]
    }
   ],
   "source": [
    "n = int(input())\n",
    "per = [list(map(int, input().split())) for _ in range(n)]"
   ]
  },
  {
   "cell_type": "code",
   "execution_count": null,
   "id": "6dfdf0e6",
   "metadata": {},
   "outputs": [],
   "source": [
    "2 0 3\n",
    "5 1 2\n",
    "3 1 4"
   ]
  },
  {
   "cell_type": "code",
   "execution_count": 4,
   "id": "09dadfa9",
   "metadata": {},
   "outputs": [
    {
     "name": "stdout",
     "output_type": "stream",
     "text": [
      "3\n",
      "2 0 3\n",
      "5 1 2\n",
      "3 1 4\n"
     ]
    }
   ],
   "source": [
    "r = int(input())\n",
    "rot = [list(map(int, input().split())) for _ in range(r)]"
   ]
  },
  {
   "cell_type": "code",
   "execution_count": 29,
   "id": "ed0376a2",
   "metadata": {},
   "outputs": [
    {
     "name": "stdout",
     "output_type": "stream",
     "text": [
      "1\n",
      "4\n",
      "2\n",
      "[[10, 13, 10, 12, 15], [23, 11, 12, 39, 30], [25, 50, 53, 15, 11], [19, 27, 29, 37, 27], [13, 19, 19, 13, 30]]\n"
     ]
    }
   ],
   "source": [
    "row = 0\n",
    "tmp = 0\n",
    "for i in range(r): #회전을 r만큼 진행\n",
    "    row = rot[i][0] - 1 #몇번째 행인지\n",
    "    if rot[i][1] == 0: #왼쪽\n",
    "        num = rot[i][2] #몇 칸 움직이는지\n",
    "        for j in range(num):\n",
    "            tmp = per[row].pop(0)\n",
    "            per[row].append(tmp)\n",
    "    else:\n",
    "        num = n - rot[i][2]\n",
    "        for j in range(num):\n",
    "            tmp = per[row].pop(0)\n",
    "            per[row].append(tmp)\n",
    "            \n",
    "print(per)\n",
    "\n",
    "#모래시계부분만의 합계\n",
    "#r = e = n//2\n",
    "#for i in range(r, e+1):\n",
    "\n",
    "    "
   ]
  },
  {
   "cell_type": "code",
   "execution_count": null,
   "id": "25e65aa5",
   "metadata": {},
   "outputs": [],
   "source": []
  },
  {
   "cell_type": "code",
   "execution_count": null,
   "id": "70606091",
   "metadata": {},
   "outputs": [],
   "source": []
  },
  {
   "cell_type": "code",
   "execution_count": null,
   "id": "a4d315ea",
   "metadata": {},
   "outputs": [],
   "source": []
  }
 ],
 "metadata": {
  "kernelspec": {
   "display_name": "algo",
   "language": "python",
   "name": "algo"
  },
  "language_info": {
   "codemirror_mode": {
    "name": "ipython",
    "version": 3
   },
   "file_extension": ".py",
   "mimetype": "text/x-python",
   "name": "python",
   "nbconvert_exporter": "python",
   "pygments_lexer": "ipython3",
   "version": "3.9.12"
  }
 },
 "nbformat": 4,
 "nbformat_minor": 5
}
